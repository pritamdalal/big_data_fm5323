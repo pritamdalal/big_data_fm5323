{
 "cells": [
  {
   "cell_type": "markdown",
   "id": "c104cd38-b9e5-4772-9772-c81fca828db7",
   "metadata": {},
   "source": [
    "# Duckdb Introduction"
   ]
  },
  {
   "cell_type": "markdown",
   "id": "123a059e-c831-487b-bb35-6aad49579209",
   "metadata": {},
   "source": [
    "DuckDB is an in-process OLAP DBMS written in C++.  In short, DuckDB is the SQLite for analytics.  While SQLite is optimized for transactions (OLTP), Duckdb is optimize for analytical queries.  Under the hood, Duckdb has a columnar architecture. Duckdb has no dependencies, is extremely easy to set up, and is optimized to perform queries on data.\n",
    "\n",
    "This tutorial is a brief introduction to Duckdb."
   ]
  },
  {
   "cell_type": "markdown",
   "id": "031100fc-cc2f-412d-a601-ec9226fc88f6",
   "metadata": {},
   "source": [
    "## Importing Packages"
   ]
  },
  {
   "cell_type": "markdown",
   "id": "2b328801-de73-48eb-9c22-1116d155f931",
   "metadata": {},
   "source": [
    "Let's begin by importing packages."
   ]
  },
  {
   "cell_type": "code",
   "execution_count": null,
   "id": "b402b10b-6818-4eae-bbb1-4a4b04b94a0f",
   "metadata": {},
   "outputs": [],
   "source": [
    "import duckdb\n",
    "import pandas as pd\n",
    "import polars as pl"
   ]
  },
  {
   "cell_type": "markdown",
   "id": "bd7dc4f4-706c-46be-ab03-543cc38f31a3",
   "metadata": {},
   "source": [
    "## Initializing a Database"
   ]
  },
  {
   "cell_type": "markdown",
   "id": "744d4691-07bc-4b1c-9373-118cae2c8d68",
   "metadata": {},
   "source": [
    "To initialize DuckDB use the `.connect()` method.  By default, `.connect()` with no parameters creates an in-memory database globally stored inside the Python process."
   ]
  },
  {
   "cell_type": "code",
   "execution_count": null,
   "id": "8fc3ce9b-e54f-4c2c-9916-488259288108",
   "metadata": {},
   "outputs": [],
   "source": [
    "conn = duckdb.connect()"
   ]
  },
  {
   "cell_type": "markdown",
   "id": "297b8fe5-5743-4947-8d80-f752ab384544",
   "metadata": {},
   "source": [
    "## Executing SQL"
   ]
  },
  {
   "cell_type": "markdown",
   "id": "768bebde-44b0-40df-acd3-66e28bd066ff",
   "metadata": {},
   "source": [
    "The `conn.sql()` method executes SQL queries to your database. In the example below, DuckDB loads the options data CSV files in the and prints the first ten rows. \n",
    "\n",
    "Under the hood, DuckDB uses the `CSVLoader` to infer columns and types automatically."
   ]
  },
  {
   "cell_type": "code",
   "execution_count": null,
   "id": "d89e70a3-1438-4a02-9be4-74bc120c62f3",
   "metadata": {},
   "outputs": [
    {
     "data": {
      "text/plain": [
       "┌──────────────────┬─────────────────┬─────────┬──────────────────┬─────────┬────────────┬────────────┬────────┬────────┬────────┬────────┬────────┬──────────────┬────────────────┬────────┬────────┬────────┬────────┬────────┬─────────┬────────┬──────────────────┐\n",
       "│ UnderlyingSymbol │ UnderlyingPrice │  Flags  │   OptionSymbol   │  Type   │ Expiration │  DataDate  │ Strike │  Last  │  Bid   │  Ask   │ Volume │ OpenInterest │ T1OpenInterest │ IVMean │ IVBid  │ IVAsk  │ Delta  │ Gamma  │  Theta  │  Vega  │       AKA        │\n",
       "│     varchar      │     double      │ varchar │     varchar      │ varchar │    date    │    date    │ double │ double │ double │ double │ int64  │    int64     │     int64      │ double │ double │ double │ double │ double │ double  │ double │     varchar      │\n",
       "├──────────────────┼─────────────────┼─────────┼──────────────────┼─────────┼────────────┼────────────┼────────┼────────┼────────┼────────┼────────┼──────────────┼────────────────┼────────┼────────┼────────┼────────┼────────┼─────────┼────────┼──────────────────┤\n",
       "│ A                │            67.6 │ *       │ A180119C00020000 │ call    │ 2018-01-19 │ 2018-01-02 │   20.0 │    0.0 │   45.6 │  49.85 │      0 │            0 │              0 │ 0.1777 │    0.0 │ 5.0316 │    1.0 │    0.0 │ -0.3217 │    0.0 │ A180119C00020000 │\n",
       "│ A                │            67.6 │ *       │ A180119P00020000 │ put     │ 2018-01-19 │ 2018-01-02 │   20.0 │   0.18 │    0.0 │   0.03 │      0 │           11 │             11 │ 0.2776 │    0.0 │ 2.2641 │    0.0 │    0.0 │     0.0 │    0.0 │ A180119P00020000 │\n",
       "│ A                │            67.6 │ *       │ A180119C00022500 │ call    │ 2018-01-19 │ 2018-01-02 │   22.5 │   45.0 │   42.9 │  47.35 │      0 │            0 │              0 │ 0.1777 │    0.0 │ 4.5811 │    1.0 │    0.0 │ -0.3619 │    0.0 │ A180119C00022500 │\n",
       "│ A                │            67.6 │ *       │ A180119P00022500 │ put     │ 2018-01-19 │ 2018-01-02 │   22.5 │   1.84 │    0.0 │   0.03 │      0 │           15 │             15 │ 0.2776 │    0.0 │ 2.0541 │    0.0 │    0.0 │     0.0 │    0.0 │ A180119P00022500 │\n",
       "│ A                │            67.6 │ *       │ A180119C00025000 │ call    │ 2018-01-19 │ 2018-01-02 │   25.0 │    0.0 │   40.3 │   44.7 │      0 │            0 │              0 │ 0.1777 │    0.0 │ 4.0955 │    1.0 │    0.0 │ -0.4022 │    0.0 │ A180119C00025000 │\n",
       "│ A                │            67.6 │ *       │ A180119P00025000 │ put     │ 2018-01-19 │ 2018-01-02 │   25.0 │   0.33 │    0.0 │   0.03 │      0 │           10 │             10 │ 0.2776 │    0.0 │ 1.8668 │    0.0 │    0.0 │     0.0 │    0.0 │ A180119P00025000 │\n",
       "│ A                │            67.6 │ *       │ A180119C00027500 │ call    │ 2018-01-19 │ 2018-01-02 │   27.5 │    0.0 │  37.75 │  42.25 │      0 │            0 │              0 │ 0.1777 │    0.0 │ 3.7798 │    1.0 │    0.0 │ -0.4424 │    0.0 │ A180119C00027500 │\n",
       "│ A                │            67.6 │ *       │ A180119P00027500 │ put     │ 2018-01-19 │ 2018-01-02 │   27.5 │    0.0 │    0.0 │   0.03 │      0 │            0 │              0 │ 0.2776 │    0.0 │ 1.6977 │    0.0 │    0.0 │     0.0 │    0.0 │ A180119P00027500 │\n",
       "│ A                │            67.6 │ *       │ A180119C00030000 │ call    │ 2018-01-19 │ 2018-01-02 │   30.0 │  37.55 │   35.2 │   39.6 │      0 │            0 │              0 │ 0.1777 │    0.0 │ 3.3866 │    1.0 │    0.0 │ -0.4826 │    0.0 │ A180119C00030000 │\n",
       "│ A                │            67.6 │ *       │ A180119P00030000 │ put     │ 2018-01-19 │ 2018-01-02 │   30.0 │   0.03 │    0.0 │   0.03 │      0 │           23 │             23 │ 0.2776 │    0.0 │ 1.5435 │    0.0 │    0.0 │     0.0 │    0.0 │ A180119P00030000 │\n",
       "├──────────────────┴─────────────────┴─────────┴──────────────────┴─────────┴────────────┴────────────┴────────┴────────┴────────┴────────┴────────┴──────────────┴────────────────┴────────┴────────┴────────┴────────┴────────┴─────────┴────────┴──────────────────┤\n",
       "│ 10 rows                                                                                                                                                                                                                                                  22 columns │\n",
       "└─────────────────────────────────────────────────────────────────────────────────────────────────────────────────────────────────────────────────────────────────────────────────────────────────────────────────────────────────────────────────────────────────────┘"
      ]
     },
     "execution_count": null,
     "metadata": {},
     "output_type": "execute_result"
    }
   ],
   "source": [
    "conn.sql(\"\"\"\n",
    "  SELECT *\n",
    "  FROM 'data/L3_2018_01/L3_options_*.csv'\n",
    "  LIMIT 10\n",
    "\"\"\")"
   ]
  },
  {
   "cell_type": "markdown",
   "id": "7f3a55d4-b609-4eb8-9508-24f9491f7669",
   "metadata": {},
   "source": [
    "## Interoperability with **pandas** and **polars**"
   ]
  },
  {
   "cell_type": "markdown",
   "id": "c67fa1e8-a3dc-4ed4-9061-b82aee57a514",
   "metadata": {},
   "source": [
    "You can save the results of a query to **pandas** `DataFrame` or a **polars** `DataFrame`.  So it's not an either-or question of using **duckdb** over other data analysis tools."
   ]
  },
  {
   "cell_type": "code",
   "execution_count": null,
   "id": "b6e69310-f48a-44a4-9f85-8d570ef6c2c4",
   "metadata": {},
   "outputs": [
    {
     "data": {
      "text/html": [
       "<div>\n",
       "<style scoped>\n",
       "    .dataframe tbody tr th:only-of-type {\n",
       "        vertical-align: middle;\n",
       "    }\n",
       "\n",
       "    .dataframe tbody tr th {\n",
       "        vertical-align: top;\n",
       "    }\n",
       "\n",
       "    .dataframe thead th {\n",
       "        text-align: right;\n",
       "    }\n",
       "</style>\n",
       "<table border=\"1\" class=\"dataframe\">\n",
       "  <thead>\n",
       "    <tr style=\"text-align: right;\">\n",
       "      <th></th>\n",
       "      <th>UnderlyingSymbol</th>\n",
       "      <th>UnderlyingPrice</th>\n",
       "      <th>Flags</th>\n",
       "      <th>OptionSymbol</th>\n",
       "      <th>Type</th>\n",
       "      <th>Expiration</th>\n",
       "      <th>DataDate</th>\n",
       "      <th>Strike</th>\n",
       "      <th>Last</th>\n",
       "      <th>Bid</th>\n",
       "      <th>...</th>\n",
       "      <th>OpenInterest</th>\n",
       "      <th>T1OpenInterest</th>\n",
       "      <th>IVMean</th>\n",
       "      <th>IVBid</th>\n",
       "      <th>IVAsk</th>\n",
       "      <th>Delta</th>\n",
       "      <th>Gamma</th>\n",
       "      <th>Theta</th>\n",
       "      <th>Vega</th>\n",
       "      <th>AKA</th>\n",
       "    </tr>\n",
       "  </thead>\n",
       "  <tbody>\n",
       "    <tr>\n",
       "      <th>0</th>\n",
       "      <td>A</td>\n",
       "      <td>67.6</td>\n",
       "      <td>*</td>\n",
       "      <td>A180119C00020000</td>\n",
       "      <td>call</td>\n",
       "      <td>2018-01-19</td>\n",
       "      <td>2018-01-02</td>\n",
       "      <td>20.0</td>\n",
       "      <td>0.00</td>\n",
       "      <td>45.60</td>\n",
       "      <td>...</td>\n",
       "      <td>0</td>\n",
       "      <td>0</td>\n",
       "      <td>0.1777</td>\n",
       "      <td>0.0</td>\n",
       "      <td>5.0316</td>\n",
       "      <td>1.0</td>\n",
       "      <td>0.0</td>\n",
       "      <td>-0.3217</td>\n",
       "      <td>0.0</td>\n",
       "      <td>A180119C00020000</td>\n",
       "    </tr>\n",
       "    <tr>\n",
       "      <th>1</th>\n",
       "      <td>A</td>\n",
       "      <td>67.6</td>\n",
       "      <td>*</td>\n",
       "      <td>A180119P00020000</td>\n",
       "      <td>put</td>\n",
       "      <td>2018-01-19</td>\n",
       "      <td>2018-01-02</td>\n",
       "      <td>20.0</td>\n",
       "      <td>0.18</td>\n",
       "      <td>0.00</td>\n",
       "      <td>...</td>\n",
       "      <td>11</td>\n",
       "      <td>11</td>\n",
       "      <td>0.2776</td>\n",
       "      <td>0.0</td>\n",
       "      <td>2.2641</td>\n",
       "      <td>0.0</td>\n",
       "      <td>0.0</td>\n",
       "      <td>0.0000</td>\n",
       "      <td>0.0</td>\n",
       "      <td>A180119P00020000</td>\n",
       "    </tr>\n",
       "    <tr>\n",
       "      <th>2</th>\n",
       "      <td>A</td>\n",
       "      <td>67.6</td>\n",
       "      <td>*</td>\n",
       "      <td>A180119C00022500</td>\n",
       "      <td>call</td>\n",
       "      <td>2018-01-19</td>\n",
       "      <td>2018-01-02</td>\n",
       "      <td>22.5</td>\n",
       "      <td>45.00</td>\n",
       "      <td>42.90</td>\n",
       "      <td>...</td>\n",
       "      <td>0</td>\n",
       "      <td>0</td>\n",
       "      <td>0.1777</td>\n",
       "      <td>0.0</td>\n",
       "      <td>4.5811</td>\n",
       "      <td>1.0</td>\n",
       "      <td>0.0</td>\n",
       "      <td>-0.3619</td>\n",
       "      <td>0.0</td>\n",
       "      <td>A180119C00022500</td>\n",
       "    </tr>\n",
       "    <tr>\n",
       "      <th>3</th>\n",
       "      <td>A</td>\n",
       "      <td>67.6</td>\n",
       "      <td>*</td>\n",
       "      <td>A180119P00022500</td>\n",
       "      <td>put</td>\n",
       "      <td>2018-01-19</td>\n",
       "      <td>2018-01-02</td>\n",
       "      <td>22.5</td>\n",
       "      <td>1.84</td>\n",
       "      <td>0.00</td>\n",
       "      <td>...</td>\n",
       "      <td>15</td>\n",
       "      <td>15</td>\n",
       "      <td>0.2776</td>\n",
       "      <td>0.0</td>\n",
       "      <td>2.0541</td>\n",
       "      <td>0.0</td>\n",
       "      <td>0.0</td>\n",
       "      <td>0.0000</td>\n",
       "      <td>0.0</td>\n",
       "      <td>A180119P00022500</td>\n",
       "    </tr>\n",
       "    <tr>\n",
       "      <th>4</th>\n",
       "      <td>A</td>\n",
       "      <td>67.6</td>\n",
       "      <td>*</td>\n",
       "      <td>A180119C00025000</td>\n",
       "      <td>call</td>\n",
       "      <td>2018-01-19</td>\n",
       "      <td>2018-01-02</td>\n",
       "      <td>25.0</td>\n",
       "      <td>0.00</td>\n",
       "      <td>40.30</td>\n",
       "      <td>...</td>\n",
       "      <td>0</td>\n",
       "      <td>0</td>\n",
       "      <td>0.1777</td>\n",
       "      <td>0.0</td>\n",
       "      <td>4.0955</td>\n",
       "      <td>1.0</td>\n",
       "      <td>0.0</td>\n",
       "      <td>-0.4022</td>\n",
       "      <td>0.0</td>\n",
       "      <td>A180119C00025000</td>\n",
       "    </tr>\n",
       "    <tr>\n",
       "      <th>5</th>\n",
       "      <td>A</td>\n",
       "      <td>67.6</td>\n",
       "      <td>*</td>\n",
       "      <td>A180119P00025000</td>\n",
       "      <td>put</td>\n",
       "      <td>2018-01-19</td>\n",
       "      <td>2018-01-02</td>\n",
       "      <td>25.0</td>\n",
       "      <td>0.33</td>\n",
       "      <td>0.00</td>\n",
       "      <td>...</td>\n",
       "      <td>10</td>\n",
       "      <td>10</td>\n",
       "      <td>0.2776</td>\n",
       "      <td>0.0</td>\n",
       "      <td>1.8668</td>\n",
       "      <td>0.0</td>\n",
       "      <td>0.0</td>\n",
       "      <td>0.0000</td>\n",
       "      <td>0.0</td>\n",
       "      <td>A180119P00025000</td>\n",
       "    </tr>\n",
       "    <tr>\n",
       "      <th>6</th>\n",
       "      <td>A</td>\n",
       "      <td>67.6</td>\n",
       "      <td>*</td>\n",
       "      <td>A180119C00027500</td>\n",
       "      <td>call</td>\n",
       "      <td>2018-01-19</td>\n",
       "      <td>2018-01-02</td>\n",
       "      <td>27.5</td>\n",
       "      <td>0.00</td>\n",
       "      <td>37.75</td>\n",
       "      <td>...</td>\n",
       "      <td>0</td>\n",
       "      <td>0</td>\n",
       "      <td>0.1777</td>\n",
       "      <td>0.0</td>\n",
       "      <td>3.7798</td>\n",
       "      <td>1.0</td>\n",
       "      <td>0.0</td>\n",
       "      <td>-0.4424</td>\n",
       "      <td>0.0</td>\n",
       "      <td>A180119C00027500</td>\n",
       "    </tr>\n",
       "    <tr>\n",
       "      <th>7</th>\n",
       "      <td>A</td>\n",
       "      <td>67.6</td>\n",
       "      <td>*</td>\n",
       "      <td>A180119P00027500</td>\n",
       "      <td>put</td>\n",
       "      <td>2018-01-19</td>\n",
       "      <td>2018-01-02</td>\n",
       "      <td>27.5</td>\n",
       "      <td>0.00</td>\n",
       "      <td>0.00</td>\n",
       "      <td>...</td>\n",
       "      <td>0</td>\n",
       "      <td>0</td>\n",
       "      <td>0.2776</td>\n",
       "      <td>0.0</td>\n",
       "      <td>1.6977</td>\n",
       "      <td>0.0</td>\n",
       "      <td>0.0</td>\n",
       "      <td>0.0000</td>\n",
       "      <td>0.0</td>\n",
       "      <td>A180119P00027500</td>\n",
       "    </tr>\n",
       "    <tr>\n",
       "      <th>8</th>\n",
       "      <td>A</td>\n",
       "      <td>67.6</td>\n",
       "      <td>*</td>\n",
       "      <td>A180119C00030000</td>\n",
       "      <td>call</td>\n",
       "      <td>2018-01-19</td>\n",
       "      <td>2018-01-02</td>\n",
       "      <td>30.0</td>\n",
       "      <td>37.55</td>\n",
       "      <td>35.20</td>\n",
       "      <td>...</td>\n",
       "      <td>0</td>\n",
       "      <td>0</td>\n",
       "      <td>0.1777</td>\n",
       "      <td>0.0</td>\n",
       "      <td>3.3866</td>\n",
       "      <td>1.0</td>\n",
       "      <td>0.0</td>\n",
       "      <td>-0.4826</td>\n",
       "      <td>0.0</td>\n",
       "      <td>A180119C00030000</td>\n",
       "    </tr>\n",
       "    <tr>\n",
       "      <th>9</th>\n",
       "      <td>A</td>\n",
       "      <td>67.6</td>\n",
       "      <td>*</td>\n",
       "      <td>A180119P00030000</td>\n",
       "      <td>put</td>\n",
       "      <td>2018-01-19</td>\n",
       "      <td>2018-01-02</td>\n",
       "      <td>30.0</td>\n",
       "      <td>0.03</td>\n",
       "      <td>0.00</td>\n",
       "      <td>...</td>\n",
       "      <td>23</td>\n",
       "      <td>23</td>\n",
       "      <td>0.2776</td>\n",
       "      <td>0.0</td>\n",
       "      <td>1.5435</td>\n",
       "      <td>0.0</td>\n",
       "      <td>0.0</td>\n",
       "      <td>0.0000</td>\n",
       "      <td>0.0</td>\n",
       "      <td>A180119P00030000</td>\n",
       "    </tr>\n",
       "  </tbody>\n",
       "</table>\n",
       "<p>10 rows × 22 columns</p>\n",
       "</div>"
      ],
      "text/plain": [
       "  UnderlyingSymbol  UnderlyingPrice Flags      OptionSymbol  Type Expiration   \n",
       "0                A             67.6     *  A180119C00020000  call 2018-01-19  \\\n",
       "1                A             67.6     *  A180119P00020000   put 2018-01-19   \n",
       "2                A             67.6     *  A180119C00022500  call 2018-01-19   \n",
       "3                A             67.6     *  A180119P00022500   put 2018-01-19   \n",
       "4                A             67.6     *  A180119C00025000  call 2018-01-19   \n",
       "5                A             67.6     *  A180119P00025000   put 2018-01-19   \n",
       "6                A             67.6     *  A180119C00027500  call 2018-01-19   \n",
       "7                A             67.6     *  A180119P00027500   put 2018-01-19   \n",
       "8                A             67.6     *  A180119C00030000  call 2018-01-19   \n",
       "9                A             67.6     *  A180119P00030000   put 2018-01-19   \n",
       "\n",
       "    DataDate  Strike   Last    Bid  ...  OpenInterest  T1OpenInterest  IVMean   \n",
       "0 2018-01-02    20.0   0.00  45.60  ...             0               0  0.1777  \\\n",
       "1 2018-01-02    20.0   0.18   0.00  ...            11              11  0.2776   \n",
       "2 2018-01-02    22.5  45.00  42.90  ...             0               0  0.1777   \n",
       "3 2018-01-02    22.5   1.84   0.00  ...            15              15  0.2776   \n",
       "4 2018-01-02    25.0   0.00  40.30  ...             0               0  0.1777   \n",
       "5 2018-01-02    25.0   0.33   0.00  ...            10              10  0.2776   \n",
       "6 2018-01-02    27.5   0.00  37.75  ...             0               0  0.1777   \n",
       "7 2018-01-02    27.5   0.00   0.00  ...             0               0  0.2776   \n",
       "8 2018-01-02    30.0  37.55  35.20  ...             0               0  0.1777   \n",
       "9 2018-01-02    30.0   0.03   0.00  ...            23              23  0.2776   \n",
       "\n",
       "   IVBid   IVAsk  Delta  Gamma   Theta  Vega               AKA  \n",
       "0    0.0  5.0316    1.0    0.0 -0.3217   0.0  A180119C00020000  \n",
       "1    0.0  2.2641    0.0    0.0  0.0000   0.0  A180119P00020000  \n",
       "2    0.0  4.5811    1.0    0.0 -0.3619   0.0  A180119C00022500  \n",
       "3    0.0  2.0541    0.0    0.0  0.0000   0.0  A180119P00022500  \n",
       "4    0.0  4.0955    1.0    0.0 -0.4022   0.0  A180119C00025000  \n",
       "5    0.0  1.8668    0.0    0.0  0.0000   0.0  A180119P00025000  \n",
       "6    0.0  3.7798    1.0    0.0 -0.4424   0.0  A180119C00027500  \n",
       "7    0.0  1.6977    0.0    0.0  0.0000   0.0  A180119P00027500  \n",
       "8    0.0  3.3866    1.0    0.0 -0.4826   0.0  A180119C00030000  \n",
       "9    0.0  1.5435    0.0    0.0  0.0000   0.0  A180119P00030000  \n",
       "\n",
       "[10 rows x 22 columns]"
      ]
     },
     "execution_count": null,
     "metadata": {},
     "output_type": "execute_result"
    }
   ],
   "source": [
    "df_pandas = conn.sql(\"\"\"\n",
    "  SELECT *\n",
    "  FROM 'data/L3_2018_01/L3_options_*.csv'\n",
    "  LIMIT 10\n",
    "\"\"\").df()\n",
    "\n",
    "df_pandas"
   ]
  },
  {
   "cell_type": "code",
   "execution_count": null,
   "id": "99a2690e-c25f-4e3e-ab14-c537541e0c78",
   "metadata": {},
   "outputs": [
    {
     "data": {
      "text/html": [
       "<div><style>\n",
       ".dataframe > thead > tr,\n",
       ".dataframe > tbody > tr {\n",
       "  text-align: right;\n",
       "  white-space: pre-wrap;\n",
       "}\n",
       "</style>\n",
       "<small>shape: (10, 22)</small><table border=\"1\" class=\"dataframe\"><thead><tr><th>UnderlyingSymbol</th><th>UnderlyingPrice</th><th>Flags</th><th>OptionSymbol</th><th>Type</th><th>Expiration</th><th>DataDate</th><th>Strike</th><th>Last</th><th>Bid</th><th>Ask</th><th>Volume</th><th>OpenInterest</th><th>T1OpenInterest</th><th>IVMean</th><th>IVBid</th><th>IVAsk</th><th>Delta</th><th>Gamma</th><th>Theta</th><th>Vega</th><th>AKA</th></tr><tr><td>str</td><td>f64</td><td>str</td><td>str</td><td>str</td><td>date</td><td>date</td><td>f64</td><td>f64</td><td>f64</td><td>f64</td><td>i64</td><td>i64</td><td>i64</td><td>f64</td><td>f64</td><td>f64</td><td>f64</td><td>f64</td><td>f64</td><td>f64</td><td>str</td></tr></thead><tbody><tr><td>&quot;A&quot;</td><td>67.6</td><td>&quot;*&quot;</td><td>&quot;A180119C00020000&quot;</td><td>&quot;call&quot;</td><td>2018-01-19</td><td>2018-01-02</td><td>20.0</td><td>0.0</td><td>45.6</td><td>49.85</td><td>0</td><td>0</td><td>0</td><td>0.1777</td><td>0.0</td><td>5.0316</td><td>1.0</td><td>0.0</td><td>-0.3217</td><td>0.0</td><td>&quot;A180119C00020000&quot;</td></tr><tr><td>&quot;A&quot;</td><td>67.6</td><td>&quot;*&quot;</td><td>&quot;A180119P00020000&quot;</td><td>&quot;put&quot;</td><td>2018-01-19</td><td>2018-01-02</td><td>20.0</td><td>0.18</td><td>0.0</td><td>0.03</td><td>0</td><td>11</td><td>11</td><td>0.2776</td><td>0.0</td><td>2.2641</td><td>0.0</td><td>0.0</td><td>0.0</td><td>0.0</td><td>&quot;A180119P00020000&quot;</td></tr><tr><td>&quot;A&quot;</td><td>67.6</td><td>&quot;*&quot;</td><td>&quot;A180119C00022500&quot;</td><td>&quot;call&quot;</td><td>2018-01-19</td><td>2018-01-02</td><td>22.5</td><td>45.0</td><td>42.9</td><td>47.35</td><td>0</td><td>0</td><td>0</td><td>0.1777</td><td>0.0</td><td>4.5811</td><td>1.0</td><td>0.0</td><td>-0.3619</td><td>0.0</td><td>&quot;A180119C00022500&quot;</td></tr><tr><td>&quot;A&quot;</td><td>67.6</td><td>&quot;*&quot;</td><td>&quot;A180119P00022500&quot;</td><td>&quot;put&quot;</td><td>2018-01-19</td><td>2018-01-02</td><td>22.5</td><td>1.84</td><td>0.0</td><td>0.03</td><td>0</td><td>15</td><td>15</td><td>0.2776</td><td>0.0</td><td>2.0541</td><td>0.0</td><td>0.0</td><td>0.0</td><td>0.0</td><td>&quot;A180119P00022500&quot;</td></tr><tr><td>&quot;A&quot;</td><td>67.6</td><td>&quot;*&quot;</td><td>&quot;A180119C00025000&quot;</td><td>&quot;call&quot;</td><td>2018-01-19</td><td>2018-01-02</td><td>25.0</td><td>0.0</td><td>40.3</td><td>44.7</td><td>0</td><td>0</td><td>0</td><td>0.1777</td><td>0.0</td><td>4.0955</td><td>1.0</td><td>0.0</td><td>-0.4022</td><td>0.0</td><td>&quot;A180119C00025000&quot;</td></tr><tr><td>&quot;A&quot;</td><td>67.6</td><td>&quot;*&quot;</td><td>&quot;A180119P00025000&quot;</td><td>&quot;put&quot;</td><td>2018-01-19</td><td>2018-01-02</td><td>25.0</td><td>0.33</td><td>0.0</td><td>0.03</td><td>0</td><td>10</td><td>10</td><td>0.2776</td><td>0.0</td><td>1.8668</td><td>0.0</td><td>0.0</td><td>0.0</td><td>0.0</td><td>&quot;A180119P00025000&quot;</td></tr><tr><td>&quot;A&quot;</td><td>67.6</td><td>&quot;*&quot;</td><td>&quot;A180119C00027500&quot;</td><td>&quot;call&quot;</td><td>2018-01-19</td><td>2018-01-02</td><td>27.5</td><td>0.0</td><td>37.75</td><td>42.25</td><td>0</td><td>0</td><td>0</td><td>0.1777</td><td>0.0</td><td>3.7798</td><td>1.0</td><td>0.0</td><td>-0.4424</td><td>0.0</td><td>&quot;A180119C00027500&quot;</td></tr><tr><td>&quot;A&quot;</td><td>67.6</td><td>&quot;*&quot;</td><td>&quot;A180119P00027500&quot;</td><td>&quot;put&quot;</td><td>2018-01-19</td><td>2018-01-02</td><td>27.5</td><td>0.0</td><td>0.0</td><td>0.03</td><td>0</td><td>0</td><td>0</td><td>0.2776</td><td>0.0</td><td>1.6977</td><td>0.0</td><td>0.0</td><td>0.0</td><td>0.0</td><td>&quot;A180119P00027500&quot;</td></tr><tr><td>&quot;A&quot;</td><td>67.6</td><td>&quot;*&quot;</td><td>&quot;A180119C00030000&quot;</td><td>&quot;call&quot;</td><td>2018-01-19</td><td>2018-01-02</td><td>30.0</td><td>37.55</td><td>35.2</td><td>39.6</td><td>0</td><td>0</td><td>0</td><td>0.1777</td><td>0.0</td><td>3.3866</td><td>1.0</td><td>0.0</td><td>-0.4826</td><td>0.0</td><td>&quot;A180119C00030000&quot;</td></tr><tr><td>&quot;A&quot;</td><td>67.6</td><td>&quot;*&quot;</td><td>&quot;A180119P00030000&quot;</td><td>&quot;put&quot;</td><td>2018-01-19</td><td>2018-01-02</td><td>30.0</td><td>0.03</td><td>0.0</td><td>0.03</td><td>0</td><td>23</td><td>23</td><td>0.2776</td><td>0.0</td><td>1.5435</td><td>0.0</td><td>0.0</td><td>0.0</td><td>0.0</td><td>&quot;A180119P00030000&quot;</td></tr></tbody></table></div>"
      ],
      "text/plain": [
       "shape: (10, 22)\n",
       "┌───────────────┬───────────────┬───────┬──────────────┬───┬───────┬─────────┬──────┬──────────────┐\n",
       "│ UnderlyingSym ┆ UnderlyingPri ┆ Flags ┆ OptionSymbol ┆ … ┆ Gamma ┆ Theta   ┆ Vega ┆ AKA          │\n",
       "│ bol           ┆ ce            ┆ ---   ┆ ---          ┆   ┆ ---   ┆ ---     ┆ ---  ┆ ---          │\n",
       "│ ---           ┆ ---           ┆ str   ┆ str          ┆   ┆ f64   ┆ f64     ┆ f64  ┆ str          │\n",
       "│ str           ┆ f64           ┆       ┆              ┆   ┆       ┆         ┆      ┆              │\n",
       "╞═══════════════╪═══════════════╪═══════╪══════════════╪═══╪═══════╪═════════╪══════╪══════════════╡\n",
       "│ A             ┆ 67.6          ┆ *     ┆ A180119C0002 ┆ … ┆ 0.0   ┆ -0.3217 ┆ 0.0  ┆ A180119C0002 │\n",
       "│               ┆               ┆       ┆ 0000         ┆   ┆       ┆         ┆      ┆ 0000         │\n",
       "│ A             ┆ 67.6          ┆ *     ┆ A180119P0002 ┆ … ┆ 0.0   ┆ 0.0     ┆ 0.0  ┆ A180119P0002 │\n",
       "│               ┆               ┆       ┆ 0000         ┆   ┆       ┆         ┆      ┆ 0000         │\n",
       "│ A             ┆ 67.6          ┆ *     ┆ A180119C0002 ┆ … ┆ 0.0   ┆ -0.3619 ┆ 0.0  ┆ A180119C0002 │\n",
       "│               ┆               ┆       ┆ 2500         ┆   ┆       ┆         ┆      ┆ 2500         │\n",
       "│ A             ┆ 67.6          ┆ *     ┆ A180119P0002 ┆ … ┆ 0.0   ┆ 0.0     ┆ 0.0  ┆ A180119P0002 │\n",
       "│               ┆               ┆       ┆ 2500         ┆   ┆       ┆         ┆      ┆ 2500         │\n",
       "│ A             ┆ 67.6          ┆ *     ┆ A180119C0002 ┆ … ┆ 0.0   ┆ -0.4022 ┆ 0.0  ┆ A180119C0002 │\n",
       "│               ┆               ┆       ┆ 5000         ┆   ┆       ┆         ┆      ┆ 5000         │\n",
       "│ A             ┆ 67.6          ┆ *     ┆ A180119P0002 ┆ … ┆ 0.0   ┆ 0.0     ┆ 0.0  ┆ A180119P0002 │\n",
       "│               ┆               ┆       ┆ 5000         ┆   ┆       ┆         ┆      ┆ 5000         │\n",
       "│ A             ┆ 67.6          ┆ *     ┆ A180119C0002 ┆ … ┆ 0.0   ┆ -0.4424 ┆ 0.0  ┆ A180119C0002 │\n",
       "│               ┆               ┆       ┆ 7500         ┆   ┆       ┆         ┆      ┆ 7500         │\n",
       "│ A             ┆ 67.6          ┆ *     ┆ A180119P0002 ┆ … ┆ 0.0   ┆ 0.0     ┆ 0.0  ┆ A180119P0002 │\n",
       "│               ┆               ┆       ┆ 7500         ┆   ┆       ┆         ┆      ┆ 7500         │\n",
       "│ A             ┆ 67.6          ┆ *     ┆ A180119C0003 ┆ … ┆ 0.0   ┆ -0.4826 ┆ 0.0  ┆ A180119C0003 │\n",
       "│               ┆               ┆       ┆ 0000         ┆   ┆       ┆         ┆      ┆ 0000         │\n",
       "│ A             ┆ 67.6          ┆ *     ┆ A180119P0003 ┆ … ┆ 0.0   ┆ 0.0     ┆ 0.0  ┆ A180119P0003 │\n",
       "│               ┆               ┆       ┆ 0000         ┆   ┆       ┆         ┆      ┆ 0000         │\n",
       "└───────────────┴───────────────┴───────┴──────────────┴───┴───────┴─────────┴──────┴──────────────┘"
      ]
     },
     "execution_count": null,
     "metadata": {},
     "output_type": "execute_result"
    }
   ],
   "source": [
    "df_polars = conn.sql(\"\"\"\n",
    "  SELECT *\n",
    "  FROM 'data/L3_2018_01/L3_options_*.csv'\n",
    "  LIMIT 10\n",
    "\"\"\").pl()\n",
    "\n",
    "df_polars"
   ]
  },
  {
   "cell_type": "markdown",
   "id": "f6fcc8d0-d810-41df-868f-6fbd05d8824c",
   "metadata": {},
   "source": [
    "## More Advanced SQL"
   ]
  },
  {
   "cell_type": "markdown",
   "id": "952e39b4-6e92-4b5a-8553-24eac2df21bb",
   "metadata": {},
   "source": [
    "DuckDB has it's own flavor of SQL that is based on postgresql with some additional niceties.  If you feel more comfortable with SQL than the data analysis functionality of **pandas** or **polars** then this may be a great option for you.\n",
    "\n",
    "Below we calculate the `TotalVolume` by `UnderlyingSymbol`."
   ]
  },
  {
   "cell_type": "code",
   "execution_count": null,
   "id": "7c1cec6a-e599-4e06-814b-08cb3a20e214",
   "metadata": {},
   "outputs": [
    {
     "data": {
      "application/vnd.jupyter.widget-view+json": {
       "model_id": "5db70a8bea7649f2b8f057590ee5f0f3",
       "version_major": 2,
       "version_minor": 0
      },
      "text/plain": [
       "FloatProgress(value=0.0, layout=Layout(width='auto'), style=ProgressStyle(bar_color='black'))"
      ]
     },
     "metadata": {},
     "output_type": "display_data"
    },
    {
     "data": {
      "text/plain": [
       "┌──────────────────┬─────────────┐\n",
       "│ UnderlyingSymbol │ TotalVolume │\n",
       "│     varchar      │   int128    │\n",
       "├──────────────────┼─────────────┤\n",
       "│ A                │       92438 │\n",
       "│ AA               │      237352 │\n",
       "│ AABA             │      613290 │\n",
       "│ AAOI             │      143047 │\n",
       "│ ABB              │       21918 │\n",
       "│ ABCB             │         119 │\n",
       "│ ABR              │         410 │\n",
       "│ ACAD             │      100286 │\n",
       "│ ACHN             │        8442 │\n",
       "│ ACLS             │       11397 │\n",
       "│  ·               │         ·   │\n",
       "│  ·               │         ·   │\n",
       "│  ·               │         ·   │\n",
       "│ WTW              │      144157 │\n",
       "│ XBI              │      990316 │\n",
       "│ XDN              │         534 │\n",
       "│ XLI              │      443877 │\n",
       "│ XLRE             │        3683 │\n",
       "│ XLU              │     1593805 │\n",
       "│ XPER             │        2526 │\n",
       "│ XRT              │      554113 │\n",
       "│ YUMC             │       34927 │\n",
       "│ ZG               │        5021 │\n",
       "├──────────────────┴─────────────┤\n",
       "│      4328 rows (20 shown)      │\n",
       "└────────────────────────────────┘"
      ]
     },
     "execution_count": null,
     "metadata": {},
     "output_type": "execute_result"
    }
   ],
   "source": [
    "conn.sql(\"\"\"\n",
    "    SELECT UnderlyingSymbol, sum(Volume) as TotalVolume\n",
    "    FROM 'data/L3_2018_01/L3_options_*.csv'\n",
    "    GROUP BY UnderlyingSymbol\n",
    "\"\"\")"
   ]
  },
  {
   "cell_type": "markdown",
   "id": "778f5399-3ca5-4335-bfa3-a84dcdc16b16",
   "metadata": {},
   "source": [
    "Next, we grab all the out-of-the-money options that are worth more than $0.05."
   ]
  },
  {
   "cell_type": "code",
   "execution_count": null,
   "id": "f8ce8b69-eccd-4ce8-b25f-de48721b1a5d",
   "metadata": {},
   "outputs": [
    {
     "data": {
      "application/vnd.jupyter.widget-view+json": {
       "model_id": "e2263d7f7197469b8a3696c6d28944fa",
       "version_major": 2,
       "version_minor": 0
      },
      "text/plain": [
       "FloatProgress(value=0.0, layout=Layout(width='auto'), style=ProgressStyle(bar_color='black'))"
      ]
     },
     "metadata": {},
     "output_type": "display_data"
    }
   ],
   "source": [
    "df_otm = conn.sql(\"\"\"\n",
    "    SELECT *\n",
    "    FROM 'data/L3_2018_01/L3_options_*.csv'\n",
    "    WHERE \n",
    "        (Type='call' and Strike>=UnderlyingPrice) or (Type='put' and Strike<UnderlyingPrice)\n",
    "        AND\n",
    "        (Bid + Ask)/2 > 0.05\n",
    "\"\"\").pl()"
   ]
  },
  {
   "cell_type": "code",
   "execution_count": null,
   "id": "6737369d-513a-4fa9-842a-f000586d18df",
   "metadata": {},
   "outputs": [
    {
     "data": {
      "text/html": [
       "<div><style>\n",
       ".dataframe > thead > tr,\n",
       ".dataframe > tbody > tr {\n",
       "  text-align: right;\n",
       "  white-space: pre-wrap;\n",
       "}\n",
       "</style>\n",
       "<small>shape: (7_830_998, 22)</small><table border=\"1\" class=\"dataframe\"><thead><tr><th>UnderlyingSymbol</th><th>UnderlyingPrice</th><th>Flags</th><th>OptionSymbol</th><th>Type</th><th>Expiration</th><th>DataDate</th><th>Strike</th><th>Last</th><th>Bid</th><th>Ask</th><th>Volume</th><th>OpenInterest</th><th>T1OpenInterest</th><th>IVMean</th><th>IVBid</th><th>IVAsk</th><th>Delta</th><th>Gamma</th><th>Theta</th><th>Vega</th><th>AKA</th></tr><tr><td>str</td><td>f64</td><td>str</td><td>str</td><td>str</td><td>date</td><td>date</td><td>f64</td><td>f64</td><td>f64</td><td>f64</td><td>i64</td><td>i64</td><td>i64</td><td>f64</td><td>f64</td><td>f64</td><td>f64</td><td>f64</td><td>f64</td><td>f64</td><td>str</td></tr></thead><tbody><tr><td>&quot;A&quot;</td><td>67.6</td><td>&quot;*&quot;</td><td>&quot;A180119C00070000&quot;</td><td>&quot;call&quot;</td><td>2018-01-19</td><td>2018-01-02</td><td>70.0</td><td>0.19</td><td>0.15</td><td>0.22</td><td>9</td><td>968</td><td>977</td><td>0.1582</td><td>0.1481</td><td>0.1683</td><td>0.1576</td><td>0.1065</td><td>-6.2591</td><td>3.4456</td><td>&quot;A180119C00070000&quot;</td></tr><tr><td>&quot;A&quot;</td><td>67.6</td><td>&quot;*&quot;</td><td>&quot;A180119C00072500&quot;</td><td>&quot;call&quot;</td><td>2018-01-19</td><td>2018-01-02</td><td>72.5</td><td>0.05</td><td>0.01</td><td>0.06</td><td>13</td><td>1087</td><td>1081</td><td>0.1731</td><td>0.148</td><td>0.1982</td><td>0.0305</td><td>0.0279</td><td>-1.9421</td><td>0.9872</td><td>&quot;A180119C00072500&quot;</td></tr><tr><td>&quot;A&quot;</td><td>67.6</td><td>&quot;*&quot;</td><td>&quot;A180119C00075000&quot;</td><td>&quot;call&quot;</td><td>2018-01-19</td><td>2018-01-02</td><td>75.0</td><td>0.01</td><td>0.0</td><td>0.03</td><td>10</td><td>171</td><td>161</td><td>0.1731</td><td>0.0</td><td>0.2425</td><td>0.0026</td><td>0.0032</td><td>-0.2223</td><td>0.1135</td><td>&quot;A180119C00075000&quot;</td></tr><tr><td>&quot;A&quot;</td><td>67.6</td><td>&quot;*&quot;</td><td>&quot;A180119C00077500&quot;</td><td>&quot;call&quot;</td><td>2018-01-19</td><td>2018-01-02</td><td>77.5</td><td>0.11</td><td>0.0</td><td>0.03</td><td>0</td><td>30</td><td>30</td><td>0.1731</td><td>0.0</td><td>0.3057</td><td>0.0001</td><td>0.0002</td><td>-0.0121</td><td>0.0062</td><td>&quot;A180119C00077500&quot;</td></tr><tr><td>&quot;A&quot;</td><td>67.6</td><td>&quot;*&quot;</td><td>&quot;A180119C00080000&quot;</td><td>&quot;call&quot;</td><td>2018-01-19</td><td>2018-01-02</td><td>80.0</td><td>0.01</td><td>0.0</td><td>0.03</td><td>0</td><td>28</td><td>28</td><td>0.1731</td><td>0.0</td><td>0.3651</td><td>0.0</td><td>0.0</td><td>-0.0003</td><td>0.0002</td><td>&quot;A180119C00080000&quot;</td></tr><tr><td>&hellip;</td><td>&hellip;</td><td>&hellip;</td><td>&hellip;</td><td>&hellip;</td><td>&hellip;</td><td>&hellip;</td><td>&hellip;</td><td>&hellip;</td><td>&hellip;</td><td>&hellip;</td><td>&hellip;</td><td>&hellip;</td><td>&hellip;</td><td>&hellip;</td><td>&hellip;</td><td>&hellip;</td><td>&hellip;</td><td>&hellip;</td><td>&hellip;</td><td>&hellip;</td><td>&hellip;</td></tr><tr><td>&quot;ZYNE&quot;</td><td>12.09</td><td>&quot;*&quot;</td><td>&quot;ZYNE190118P00010000&quot;</td><td>&quot;put&quot;</td><td>2019-01-18</td><td>2018-01-31</td><td>10.0</td><td>2.15</td><td>1.95</td><td>2.7</td><td>0</td><td>8</td><td>8</td><td>0.7826</td><td>0.6845</td><td>0.8807</td><td>-0.2609</td><td>0.0348</td><td>-1.53</td><td>3.8275</td><td>&quot;ZYNE190118P00010000&quot;</td></tr><tr><td>&quot;ZYNE&quot;</td><td>12.09</td><td>&quot;*&quot;</td><td>&quot;ZYNE200117P00002500&quot;</td><td>&quot;put&quot;</td><td>2020-01-17</td><td>2018-01-31</td><td>2.5</td><td>0.0</td><td>0.0</td><td>4.5</td><td>0</td><td>0</td><td>0</td><td>0.7495</td><td>0.0</td><td>0.0</td><td>-0.0205</td><td>0.0039</td><td>-0.1568</td><td>0.8362</td><td>&quot;ZYNE200117P00002500&quot;</td></tr><tr><td>&quot;ZYNE&quot;</td><td>12.09</td><td>&quot;*&quot;</td><td>&quot;ZYNE200117P00005000&quot;</td><td>&quot;put&quot;</td><td>2020-01-17</td><td>2018-01-31</td><td>5.0</td><td>1.75</td><td>0.2</td><td>1.55</td><td>0</td><td>2</td><td>2</td><td>0.7495</td><td>0.4734</td><td>1.0255</td><td>-0.0832</td><td>0.012</td><td>-0.4778</td><td>2.5802</td><td>&quot;ZYNE200117P00005000&quot;</td></tr><tr><td>&quot;ZYNE&quot;</td><td>12.09</td><td>&quot;*&quot;</td><td>&quot;ZYNE200117P00007500&quot;</td><td>&quot;put&quot;</td><td>2020-01-17</td><td>2018-01-31</td><td>7.5</td><td>0.0</td><td>0.4</td><td>4.8</td><td>0</td><td>0</td><td>0</td><td>0.9621</td><td>0.3572</td><td>1.567</td><td>-0.1479</td><td>0.0141</td><td>-0.909</td><td>3.8878</td><td>&quot;ZYNE200117P00007500&quot;</td></tr><tr><td>&quot;ZYNE&quot;</td><td>12.09</td><td>&quot;*&quot;</td><td>&quot;ZYNE200117P00010000&quot;</td><td>&quot;put&quot;</td><td>2020-01-17</td><td>2018-01-31</td><td>10.0</td><td>3.3</td><td>2.35</td><td>3.3</td><td>0</td><td>29</td><td>29</td><td>0.6547</td><td>0.5647</td><td>0.7446</td><td>-0.2455</td><td>0.0282</td><td>-0.831</td><td>5.2865</td><td>&quot;ZYNE200117P00010000&quot;</td></tr></tbody></table></div>"
      ],
      "text/plain": [
       "shape: (7_830_998, 22)\n",
       "┌──────────────┬──────────────┬───────┬──────────────┬───┬────────┬─────────┬────────┬─────────────┐\n",
       "│ UnderlyingSy ┆ UnderlyingPr ┆ Flags ┆ OptionSymbol ┆ … ┆ Gamma  ┆ Theta   ┆ Vega   ┆ AKA         │\n",
       "│ mbol         ┆ ice          ┆ ---   ┆ ---          ┆   ┆ ---    ┆ ---     ┆ ---    ┆ ---         │\n",
       "│ ---          ┆ ---          ┆ str   ┆ str          ┆   ┆ f64    ┆ f64     ┆ f64    ┆ str         │\n",
       "│ str          ┆ f64          ┆       ┆              ┆   ┆        ┆         ┆        ┆             │\n",
       "╞══════════════╪══════════════╪═══════╪══════════════╪═══╪════════╪═════════╪════════╪═════════════╡\n",
       "│ A            ┆ 67.6         ┆ *     ┆ A180119C0007 ┆ … ┆ 0.1065 ┆ -6.2591 ┆ 3.4456 ┆ A180119C000 │\n",
       "│              ┆              ┆       ┆ 0000         ┆   ┆        ┆         ┆        ┆ 70000       │\n",
       "│ A            ┆ 67.6         ┆ *     ┆ A180119C0007 ┆ … ┆ 0.0279 ┆ -1.9421 ┆ 0.9872 ┆ A180119C000 │\n",
       "│              ┆              ┆       ┆ 2500         ┆   ┆        ┆         ┆        ┆ 72500       │\n",
       "│ A            ┆ 67.6         ┆ *     ┆ A180119C0007 ┆ … ┆ 0.0032 ┆ -0.2223 ┆ 0.1135 ┆ A180119C000 │\n",
       "│              ┆              ┆       ┆ 5000         ┆   ┆        ┆         ┆        ┆ 75000       │\n",
       "│ A            ┆ 67.6         ┆ *     ┆ A180119C0007 ┆ … ┆ 0.0002 ┆ -0.0121 ┆ 0.0062 ┆ A180119C000 │\n",
       "│              ┆              ┆       ┆ 7500         ┆   ┆        ┆         ┆        ┆ 77500       │\n",
       "│ A            ┆ 67.6         ┆ *     ┆ A180119C0008 ┆ … ┆ 0.0    ┆ -0.0003 ┆ 0.0002 ┆ A180119C000 │\n",
       "│              ┆              ┆       ┆ 0000         ┆   ┆        ┆         ┆        ┆ 80000       │\n",
       "│ …            ┆ …            ┆ …     ┆ …            ┆ … ┆ …      ┆ …       ┆ …      ┆ …           │\n",
       "│ ZYNE         ┆ 12.09        ┆ *     ┆ ZYNE190118P0 ┆ … ┆ 0.0348 ┆ -1.53   ┆ 3.8275 ┆ ZYNE190118P │\n",
       "│              ┆              ┆       ┆ 0010000      ┆   ┆        ┆         ┆        ┆ 00010000    │\n",
       "│ ZYNE         ┆ 12.09        ┆ *     ┆ ZYNE200117P0 ┆ … ┆ 0.0039 ┆ -0.1568 ┆ 0.8362 ┆ ZYNE200117P │\n",
       "│              ┆              ┆       ┆ 0002500      ┆   ┆        ┆         ┆        ┆ 00002500    │\n",
       "│ ZYNE         ┆ 12.09        ┆ *     ┆ ZYNE200117P0 ┆ … ┆ 0.012  ┆ -0.4778 ┆ 2.5802 ┆ ZYNE200117P │\n",
       "│              ┆              ┆       ┆ 0005000      ┆   ┆        ┆         ┆        ┆ 00005000    │\n",
       "│ ZYNE         ┆ 12.09        ┆ *     ┆ ZYNE200117P0 ┆ … ┆ 0.0141 ┆ -0.909  ┆ 3.8878 ┆ ZYNE200117P │\n",
       "│              ┆              ┆       ┆ 0007500      ┆   ┆        ┆         ┆        ┆ 00007500    │\n",
       "│ ZYNE         ┆ 12.09        ┆ *     ┆ ZYNE200117P0 ┆ … ┆ 0.0282 ┆ -0.831  ┆ 5.2865 ┆ ZYNE200117P │\n",
       "│              ┆              ┆       ┆ 0010000      ┆   ┆        ┆         ┆        ┆ 00010000    │\n",
       "└──────────────┴──────────────┴───────┴──────────────┴───┴────────┴─────────┴────────┴─────────────┘"
      ]
     },
     "execution_count": null,
     "metadata": {},
     "output_type": "execute_result"
    }
   ],
   "source": [
    "df_otm"
   ]
  },
  {
   "cell_type": "markdown",
   "id": "f73f59a7-bfb8-481f-b433-8de7afbcb4fd",
   "metadata": {},
   "source": [
    "We can use **duckdb** to perform SQL queries on a `DataFrame`."
   ]
  },
  {
   "cell_type": "code",
   "execution_count": null,
   "id": "5af2e6a1-c3ca-4363-a51f-ddb5a833df17",
   "metadata": {},
   "outputs": [
    {
     "data": {
      "text/html": [
       "<div><style>\n",
       ".dataframe > thead > tr,\n",
       ".dataframe > tbody > tr {\n",
       "  text-align: right;\n",
       "  white-space: pre-wrap;\n",
       "}\n",
       "</style>\n",
       "<small>shape: (10, 22)</small><table border=\"1\" class=\"dataframe\"><thead><tr><th>UnderlyingSymbol</th><th>UnderlyingPrice</th><th>Flags</th><th>OptionSymbol</th><th>Type</th><th>Expiration</th><th>DataDate</th><th>Strike</th><th>Last</th><th>Bid</th><th>Ask</th><th>Volume</th><th>OpenInterest</th><th>T1OpenInterest</th><th>IVMean</th><th>IVBid</th><th>IVAsk</th><th>Delta</th><th>Gamma</th><th>Theta</th><th>Vega</th><th>AKA</th></tr><tr><td>str</td><td>f64</td><td>str</td><td>str</td><td>str</td><td>date</td><td>date</td><td>f64</td><td>f64</td><td>f64</td><td>f64</td><td>i64</td><td>i64</td><td>i64</td><td>f64</td><td>f64</td><td>f64</td><td>f64</td><td>f64</td><td>f64</td><td>f64</td><td>str</td></tr></thead><tbody><tr><td>&quot;A&quot;</td><td>67.6</td><td>&quot;*&quot;</td><td>&quot;A180119C00070000&quot;</td><td>&quot;call&quot;</td><td>2018-01-19</td><td>2018-01-02</td><td>70.0</td><td>0.19</td><td>0.15</td><td>0.22</td><td>9</td><td>968</td><td>977</td><td>0.1582</td><td>0.1481</td><td>0.1683</td><td>0.1576</td><td>0.1065</td><td>-6.2591</td><td>3.4456</td><td>&quot;A180119C00070000&quot;</td></tr><tr><td>&quot;A&quot;</td><td>67.6</td><td>&quot;*&quot;</td><td>&quot;A180119C00072500&quot;</td><td>&quot;call&quot;</td><td>2018-01-19</td><td>2018-01-02</td><td>72.5</td><td>0.05</td><td>0.01</td><td>0.06</td><td>13</td><td>1087</td><td>1081</td><td>0.1731</td><td>0.148</td><td>0.1982</td><td>0.0305</td><td>0.0279</td><td>-1.9421</td><td>0.9872</td><td>&quot;A180119C00072500&quot;</td></tr><tr><td>&quot;A&quot;</td><td>67.6</td><td>&quot;*&quot;</td><td>&quot;A180119C00075000&quot;</td><td>&quot;call&quot;</td><td>2018-01-19</td><td>2018-01-02</td><td>75.0</td><td>0.01</td><td>0.0</td><td>0.03</td><td>10</td><td>171</td><td>161</td><td>0.1731</td><td>0.0</td><td>0.2425</td><td>0.0026</td><td>0.0032</td><td>-0.2223</td><td>0.1135</td><td>&quot;A180119C00075000&quot;</td></tr><tr><td>&quot;A&quot;</td><td>67.6</td><td>&quot;*&quot;</td><td>&quot;A180119C00077500&quot;</td><td>&quot;call&quot;</td><td>2018-01-19</td><td>2018-01-02</td><td>77.5</td><td>0.11</td><td>0.0</td><td>0.03</td><td>0</td><td>30</td><td>30</td><td>0.1731</td><td>0.0</td><td>0.3057</td><td>0.0001</td><td>0.0002</td><td>-0.0121</td><td>0.0062</td><td>&quot;A180119C00077500&quot;</td></tr><tr><td>&quot;A&quot;</td><td>67.6</td><td>&quot;*&quot;</td><td>&quot;A180119C00080000&quot;</td><td>&quot;call&quot;</td><td>2018-01-19</td><td>2018-01-02</td><td>80.0</td><td>0.01</td><td>0.0</td><td>0.03</td><td>0</td><td>28</td><td>28</td><td>0.1731</td><td>0.0</td><td>0.3651</td><td>0.0</td><td>0.0</td><td>-0.0003</td><td>0.0002</td><td>&quot;A180119C00080000&quot;</td></tr><tr><td>&quot;A&quot;</td><td>67.6</td><td>&quot;*&quot;</td><td>&quot;A180119C00085000&quot;</td><td>&quot;call&quot;</td><td>2018-01-19</td><td>2018-01-02</td><td>85.0</td><td>0.0</td><td>0.0</td><td>0.03</td><td>0</td><td>0</td><td>0</td><td>0.1731</td><td>0.0</td><td>0.4747</td><td>0.0</td><td>0.0</td><td>0.0</td><td>0.0</td><td>&quot;A180119C00085000&quot;</td></tr><tr><td>&quot;A&quot;</td><td>67.6</td><td>&quot;*&quot;</td><td>&quot;A180119C00090000&quot;</td><td>&quot;call&quot;</td><td>2018-01-19</td><td>2018-01-02</td><td>90.0</td><td>0.0</td><td>0.0</td><td>0.03</td><td>0</td><td>0</td><td>0</td><td>0.1731</td><td>0.0</td><td>0.5746</td><td>0.0</td><td>0.0</td><td>0.0</td><td>0.0</td><td>&quot;A180119C00090000&quot;</td></tr><tr><td>&quot;A&quot;</td><td>67.6</td><td>&quot;*&quot;</td><td>&quot;A180119C00095000&quot;</td><td>&quot;call&quot;</td><td>2018-01-19</td><td>2018-01-02</td><td>95.0</td><td>0.0</td><td>0.0</td><td>0.03</td><td>0</td><td>0</td><td>0</td><td>0.1731</td><td>0.0</td><td>0.6668</td><td>0.0</td><td>0.0</td><td>0.0</td><td>0.0</td><td>&quot;A180119C00095000&quot;</td></tr><tr><td>&quot;A&quot;</td><td>67.6</td><td>&quot;*&quot;</td><td>&quot;A180216C00070000&quot;</td><td>&quot;call&quot;</td><td>2018-02-16</td><td>2018-01-02</td><td>70.0</td><td>1.15</td><td>1.02</td><td>1.13</td><td>6</td><td>1062</td><td>1066</td><td>0.2105</td><td>0.2037</td><td>0.2174</td><td>0.3401</td><td>0.0739</td><td>-7.8338</td><td>8.6333</td><td>&quot;A180216C00070000&quot;</td></tr><tr><td>&quot;A&quot;</td><td>67.6</td><td>&quot;*&quot;</td><td>&quot;A180216C00072500&quot;</td><td>&quot;call&quot;</td><td>2018-02-16</td><td>2018-01-02</td><td>72.5</td><td>0.42</td><td>0.41</td><td>0.51</td><td>1</td><td>356</td><td>357</td><td>0.2056</td><td>0.1975</td><td>0.2137</td><td>0.1805</td><td>0.0543</td><td>-5.4302</td><td>6.1926</td><td>&quot;A180216C00072500&quot;</td></tr></tbody></table></div>"
      ],
      "text/plain": [
       "shape: (10, 22)\n",
       "┌──────────────┬──────────────┬───────┬──────────────┬───┬────────┬─────────┬────────┬─────────────┐\n",
       "│ UnderlyingSy ┆ UnderlyingPr ┆ Flags ┆ OptionSymbol ┆ … ┆ Gamma  ┆ Theta   ┆ Vega   ┆ AKA         │\n",
       "│ mbol         ┆ ice          ┆ ---   ┆ ---          ┆   ┆ ---    ┆ ---     ┆ ---    ┆ ---         │\n",
       "│ ---          ┆ ---          ┆ str   ┆ str          ┆   ┆ f64    ┆ f64     ┆ f64    ┆ str         │\n",
       "│ str          ┆ f64          ┆       ┆              ┆   ┆        ┆         ┆        ┆             │\n",
       "╞══════════════╪══════════════╪═══════╪══════════════╪═══╪════════╪═════════╪════════╪═════════════╡\n",
       "│ A            ┆ 67.6         ┆ *     ┆ A180119C0007 ┆ … ┆ 0.1065 ┆ -6.2591 ┆ 3.4456 ┆ A180119C000 │\n",
       "│              ┆              ┆       ┆ 0000         ┆   ┆        ┆         ┆        ┆ 70000       │\n",
       "│ A            ┆ 67.6         ┆ *     ┆ A180119C0007 ┆ … ┆ 0.0279 ┆ -1.9421 ┆ 0.9872 ┆ A180119C000 │\n",
       "│              ┆              ┆       ┆ 2500         ┆   ┆        ┆         ┆        ┆ 72500       │\n",
       "│ A            ┆ 67.6         ┆ *     ┆ A180119C0007 ┆ … ┆ 0.0032 ┆ -0.2223 ┆ 0.1135 ┆ A180119C000 │\n",
       "│              ┆              ┆       ┆ 5000         ┆   ┆        ┆         ┆        ┆ 75000       │\n",
       "│ A            ┆ 67.6         ┆ *     ┆ A180119C0007 ┆ … ┆ 0.0002 ┆ -0.0121 ┆ 0.0062 ┆ A180119C000 │\n",
       "│              ┆              ┆       ┆ 7500         ┆   ┆        ┆         ┆        ┆ 77500       │\n",
       "│ A            ┆ 67.6         ┆ *     ┆ A180119C0008 ┆ … ┆ 0.0    ┆ -0.0003 ┆ 0.0002 ┆ A180119C000 │\n",
       "│              ┆              ┆       ┆ 0000         ┆   ┆        ┆         ┆        ┆ 80000       │\n",
       "│ A            ┆ 67.6         ┆ *     ┆ A180119C0008 ┆ … ┆ 0.0    ┆ 0.0     ┆ 0.0    ┆ A180119C000 │\n",
       "│              ┆              ┆       ┆ 5000         ┆   ┆        ┆         ┆        ┆ 85000       │\n",
       "│ A            ┆ 67.6         ┆ *     ┆ A180119C0009 ┆ … ┆ 0.0    ┆ 0.0     ┆ 0.0    ┆ A180119C000 │\n",
       "│              ┆              ┆       ┆ 0000         ┆   ┆        ┆         ┆        ┆ 90000       │\n",
       "│ A            ┆ 67.6         ┆ *     ┆ A180119C0009 ┆ … ┆ 0.0    ┆ 0.0     ┆ 0.0    ┆ A180119C000 │\n",
       "│              ┆              ┆       ┆ 5000         ┆   ┆        ┆         ┆        ┆ 95000       │\n",
       "│ A            ┆ 67.6         ┆ *     ┆ A180216C0007 ┆ … ┆ 0.0739 ┆ -7.8338 ┆ 8.6333 ┆ A180216C000 │\n",
       "│              ┆              ┆       ┆ 0000         ┆   ┆        ┆         ┆        ┆ 70000       │\n",
       "│ A            ┆ 67.6         ┆ *     ┆ A180216C0007 ┆ … ┆ 0.0543 ┆ -5.4302 ┆ 6.1926 ┆ A180216C000 │\n",
       "│              ┆              ┆       ┆ 2500         ┆   ┆        ┆         ┆        ┆ 72500       │\n",
       "└──────────────┴──────────────┴───────┴──────────────┴───┴────────┴─────────┴────────┴─────────────┘"
      ]
     },
     "execution_count": null,
     "metadata": {},
     "output_type": "execute_result"
    }
   ],
   "source": [
    "conn.sql(\"\"\"SELECT * FROM df_otm LIMIT 10;\"\"\").pl()"
   ]
  },
  {
   "cell_type": "markdown",
   "id": "3d8a0d30-e66d-4b2a-97c7-869fa70704a8",
   "metadata": {},
   "source": [
    "## DuckDB vs **polars**"
   ]
  },
  {
   "cell_type": "markdown",
   "id": "bac42b6b-ecde-41af-bd8e-30e1989bf2be",
   "metadata": {},
   "source": [
    "Both **polars** and **duckdb** are new tools for working with bigger data, and have a lot of overlapping functionality.   In my limited experience, **polars** seems to be a bit more performant.  It's also build around `DataFrames` which is natural to me after years of working with **pandas**.  One major area where **duckdb** shines is built-in integration with cloud storage like s3.  In order to get something similar with **polars** you would need to enlist something like **boto3**.\n",
    "\n",
    "If you are super comfortable with SQL, then you'll likely prefer **duckdb**.  If you like programming and are more comfortable with `DataFrames`, then **polars** is probably a better choice.  I would recommend getting comfortable with both tools, as they are probably going to both be part of the future of data analysis.\n",
    "\n",
    "Below are some interesting blog articles on how they compare:\n",
    "\n",
    "https://dataengineeringcentral.substack.com/p/why-duckdb-is-losing-to-polars\n",
    "\n",
    "https://www.confessionsofadataguy.com/duckdb-vs-polars-for-data-engineering/\n",
    "\n",
    "https://dataengineeringcentral.substack.com/p/should-you-use-duckdb-or-polars"
   ]
  }
 ],
 "metadata": {
  "kernelspec": {
   "display_name": "python3",
   "language": "python",
   "name": "python3"
  }
 },
 "nbformat": 4,
 "nbformat_minor": 5
}
