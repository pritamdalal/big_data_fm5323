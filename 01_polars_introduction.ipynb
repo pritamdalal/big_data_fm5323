{
 "cells": [
  {
   "cell_type": "markdown",
   "id": "82c1a73b-df94-481f-8e58-898095e46d63",
   "metadata": {},
   "source": [
    "# Polars Introduction"
   ]
  },
  {
   "cell_type": "markdown",
   "id": "fa7a8eba-d478-4866-851f-5770cc6fdfbe",
   "metadata": {},
   "source": [
    "This tutorial is an introduction to the **polars** package, which is a fast and elegant `DataFrame` libary that shares many of the same objectives as **pandas**. It uses Apache Arrow's columnar format as its memory model."
   ]
  },
  {
   "cell_type": "markdown",
   "id": "24ee28f4-da15-4b47-ae4f-66b83142ab1c",
   "metadata": {},
   "source": [
    "## Importing Packages"
   ]
  },
  {
   "cell_type": "code",
   "execution_count": null,
   "id": "5ebfc74e-dc89-4230-96a9-da1807ad2da5",
   "metadata": {},
   "outputs": [],
   "source": [
    "import polars as pl\n",
    "import numpy as np\n",
    "import pandas as pd\n",
    "from datetime import datetime"
   ]
  },
  {
   "cell_type": "markdown",
   "id": "7554ff92-99e2-4780-8f92-296d4ae9c0a2",
   "metadata": {},
   "source": [
    "## Reading-In Data"
   ]
  },
  {
   "cell_type": "markdown",
   "id": "e7d7b90b-ac9f-457b-be61-576d77919bdb",
   "metadata": {},
   "source": [
    "One of the great things about **polars** is that you can easily read-in mupliple files using the `*` character.  In the code below we read-in many large CSV files easily with a single line of code."
   ]
  },
  {
   "cell_type": "code",
   "execution_count": null,
   "id": "15d89868-8eda-4339-8be4-c3909cbe5552",
   "metadata": {},
   "outputs": [
    {
     "name": "stdout",
     "output_type": "stream",
     "text": [
      "CPU times: user 26.2 s, sys: 4.86 s, total: 31.1 s\n",
      "Wall time: 5.06 s\n"
     ]
    }
   ],
   "source": [
    "%%time\n",
    "df_delta_neutral = pl.read_csv(\"data/L3_2018_01/L3_options_*.csv\")"
   ]
  },
  {
   "cell_type": "markdown",
   "id": "0505df53-df7d-4fc1-81fd-a636d8c311e5",
   "metadata": {},
   "source": [
    "To do something similar in **pandas** we could do something as follows. This code fails on my computer because of RAM limitations, which highlights a major benefit of **polars** over **pandas** - the ability to handle larger data sets."
   ]
  },
  {
   "cell_type": "raw",
   "id": "ce2a24b7-2e6b-42df-8846-52a72ef3c381",
   "metadata": {},
   "source": [
    "import pandas as pd\n",
    "import glob\n",
    "\n",
    "files = glob.glob(\"data/L3_2018_01/L3_options_*.csv\")\n",
    "lst_df = []\n",
    "for ix_file in files:\n",
    "    df = pd.read_csv(ix_file)\n",
    "    lst_df.append(df)\n",
    "df_dn_pandas = pd.concat(lst_df).reset_index(drop=True)"
   ]
  },
  {
   "cell_type": "markdown",
   "id": "a2b97abb-fc90-4f48-805e-fa08b407cf07",
   "metadata": {},
   "source": [
    "The `DataFrame` that we are working with is quite large."
   ]
  },
  {
   "cell_type": "code",
   "execution_count": null,
   "id": "8ad9a0e6-04c1-492a-83ad-b7eec338a18c",
   "metadata": {},
   "outputs": [
    {
     "data": {
      "text/plain": [
       "3.0375496363267303"
      ]
     },
     "execution_count": null,
     "metadata": {},
     "output_type": "execute_result"
    }
   ],
   "source": [
    "df_delta_neutral.estimated_size(\"gb\")"
   ]
  },
  {
   "cell_type": "markdown",
   "id": "d1c1db02-92aa-431f-baa9-397e6638ebd6",
   "metadata": {},
   "source": [
    "## Exploring `df_delta_neutral`"
   ]
  },
  {
   "cell_type": "markdown",
   "id": "ecc5e8cd-1a42-41fc-a129-38b2595ce7f7",
   "metadata": {},
   "source": [
    "We can print out the contents of a `DataFrame` in a manner similar to **pandas**.  Notice a few differences:\n",
    "\n",
    "- the shape of the `DataFrame` is printed at the top\n",
    "- the date types of each column are printed\n",
    "- the contents of `str` columns are presented in double quotes\n",
    "- there is no index - most **pandas** users (including myself) just use `.reset_index()` all the time anyway"
   ]
  },
  {
   "cell_type": "code",
   "execution_count": null,
   "id": "d98e5543-9dca-4f4b-aadf-c82fb6a31a1c",
   "metadata": {},
   "outputs": [
    {
     "data": {
      "text/html": [
       "<div><style>\n",
       ".dataframe > thead > tr,\n",
       ".dataframe > tbody > tr {\n",
       "  text-align: right;\n",
       "  white-space: pre-wrap;\n",
       "}\n",
       "</style>\n",
       "<small>shape: (17_675_339, 22)</small><table border=\"1\" class=\"dataframe\"><thead><tr><th>UnderlyingSymbol</th><th>UnderlyingPrice</th><th>Flags</th><th>OptionSymbol</th><th>Type</th><th>Expiration</th><th> DataDate</th><th>Strike</th><th>Last</th><th>Bid</th><th>Ask</th><th>Volume</th><th>OpenInterest</th><th>T1OpenInterest</th><th>IVMean</th><th>IVBid</th><th>IVAsk</th><th>Delta</th><th>Gamma</th><th>Theta</th><th>Vega</th><th>AKA</th></tr><tr><td>str</td><td>f64</td><td>str</td><td>str</td><td>str</td><td>str</td><td>str</td><td>f64</td><td>f64</td><td>f64</td><td>f64</td><td>i64</td><td>i64</td><td>i64</td><td>f64</td><td>f64</td><td>f64</td><td>f64</td><td>f64</td><td>f64</td><td>f64</td><td>str</td></tr></thead><tbody><tr><td>&quot;A&quot;</td><td>67.6</td><td>&quot;*&quot;</td><td>&quot;A180119C00020000&quot;</td><td>&quot;call&quot;</td><td>&quot;01/19/2018&quot;</td><td>&quot;01/02/2018&quot;</td><td>20.0</td><td>0.0</td><td>45.6</td><td>49.85</td><td>0</td><td>0</td><td>0</td><td>0.1777</td><td>0.0</td><td>5.0316</td><td>1.0</td><td>0.0</td><td>-0.3217</td><td>0.0</td><td>&quot;A180119C00020000&quot;</td></tr><tr><td>&quot;A&quot;</td><td>67.6</td><td>&quot;*&quot;</td><td>&quot;A180119P00020000&quot;</td><td>&quot;put&quot;</td><td>&quot;01/19/2018&quot;</td><td>&quot;01/02/2018&quot;</td><td>20.0</td><td>0.18</td><td>0.0</td><td>0.03</td><td>0</td><td>11</td><td>11</td><td>0.2776</td><td>0.0</td><td>2.2641</td><td>0.0</td><td>0.0</td><td>0.0</td><td>0.0</td><td>&quot;A180119P00020000&quot;</td></tr><tr><td>&quot;A&quot;</td><td>67.6</td><td>&quot;*&quot;</td><td>&quot;A180119C00022500&quot;</td><td>&quot;call&quot;</td><td>&quot;01/19/2018&quot;</td><td>&quot;01/02/2018&quot;</td><td>22.5</td><td>45.0</td><td>42.9</td><td>47.35</td><td>0</td><td>0</td><td>0</td><td>0.1777</td><td>0.0</td><td>4.5811</td><td>1.0</td><td>0.0</td><td>-0.3619</td><td>0.0</td><td>&quot;A180119C00022500&quot;</td></tr><tr><td>&quot;A&quot;</td><td>67.6</td><td>&quot;*&quot;</td><td>&quot;A180119P00022500&quot;</td><td>&quot;put&quot;</td><td>&quot;01/19/2018&quot;</td><td>&quot;01/02/2018&quot;</td><td>22.5</td><td>1.84</td><td>0.0</td><td>0.03</td><td>0</td><td>15</td><td>15</td><td>0.2776</td><td>0.0</td><td>2.0541</td><td>0.0</td><td>0.0</td><td>0.0</td><td>0.0</td><td>&quot;A180119P00022500&quot;</td></tr><tr><td>&quot;A&quot;</td><td>67.6</td><td>&quot;*&quot;</td><td>&quot;A180119C00025000&quot;</td><td>&quot;call&quot;</td><td>&quot;01/19/2018&quot;</td><td>&quot;01/02/2018&quot;</td><td>25.0</td><td>0.0</td><td>40.3</td><td>44.7</td><td>0</td><td>0</td><td>0</td><td>0.1777</td><td>0.0</td><td>4.0955</td><td>1.0</td><td>0.0</td><td>-0.4022</td><td>0.0</td><td>&quot;A180119C00025000&quot;</td></tr><tr><td>&hellip;</td><td>&hellip;</td><td>&hellip;</td><td>&hellip;</td><td>&hellip;</td><td>&hellip;</td><td>&hellip;</td><td>&hellip;</td><td>&hellip;</td><td>&hellip;</td><td>&hellip;</td><td>&hellip;</td><td>&hellip;</td><td>&hellip;</td><td>&hellip;</td><td>&hellip;</td><td>&hellip;</td><td>&hellip;</td><td>&hellip;</td><td>&hellip;</td><td>&hellip;</td><td>&hellip;</td></tr><tr><td>&quot;ZYNE&quot;</td><td>12.09</td><td>&quot;*&quot;</td><td>&quot;ZYNE200117P00020000&quot;</td><td>&quot;put&quot;</td><td>&quot;01/17/2020&quot;</td><td>&quot;01/31/2018&quot;</td><td>20.0</td><td>10.9</td><td>8.8</td><td>11.0</td><td>0</td><td>9</td><td>9</td><td>0.6282</td><td>0.459</td><td>0.7974</td><td>-0.5396</td><td>0.0366</td><td>-0.8941</td><td>6.5936</td><td>&quot;ZYNE200117P00020000&quot;</td></tr><tr><td>&quot;ZYNE&quot;</td><td>12.09</td><td>&quot;*&quot;</td><td>&quot;ZYNE200117C00022500&quot;</td><td>&quot;call&quot;</td><td>&quot;01/17/2020&quot;</td><td>&quot;01/31/2018&quot;</td><td>22.5</td><td>0.0</td><td>0.4</td><td>4.7</td><td>0</td><td>0</td><td>0</td><td>0.701</td><td>0.3516</td><td>1.0504</td><td>0.44</td><td>0.0328</td><td>-1.1717</td><td>6.5846</td><td>&quot;ZYNE200117C00022500&quot;</td></tr><tr><td>&quot;ZYNE&quot;</td><td>12.09</td><td>&quot;*&quot;</td><td>&quot;ZYNE200117P00022500&quot;</td><td>&quot;put&quot;</td><td>&quot;01/17/2020&quot;</td><td>&quot;01/31/2018&quot;</td><td>22.5</td><td>0.0</td><td>10.5</td><td>13.4</td><td>0</td><td>0</td><td>0</td><td>0.607</td><td>0.3683</td><td>0.8456</td><td>-0.6059</td><td>0.0366</td><td>-0.7926</td><td>6.3602</td><td>&quot;ZYNE200117P00022500&quot;</td></tr><tr><td>&quot;ZYNE&quot;</td><td>12.09</td><td>&quot;*&quot;</td><td>&quot;ZYNE200117C00025000&quot;</td><td>&quot;call&quot;</td><td>&quot;01/17/2020&quot;</td><td>&quot;01/31/2018&quot;</td><td>25.0</td><td>0.0</td><td>0.25</td><td>4.5</td><td>0</td><td>0</td><td>0</td><td>0.7057</td><td>0.3475</td><td>1.0638</td><td>0.4018</td><td>0.032</td><td>-1.1596</td><td>6.4668</td><td>&quot;ZYNE200117C00025000&quot;</td></tr><tr><td>&quot;ZYNE&quot;</td><td>12.09</td><td>&quot;*&quot;</td><td>&quot;ZYNE200117P00025000&quot;</td><td>&quot;put&quot;</td><td>&quot;01/17/2020&quot;</td><td>&quot;01/31/2018&quot;</td><td>25.0</td><td>0.0</td><td>13.0</td><td>16.1</td><td>0</td><td>0</td><td>0</td><td>0.607</td><td>0.4223</td><td>0.9311</td><td>-0.6516</td><td>0.035</td><td>-0.7187</td><td>6.085</td><td>&quot;ZYNE200117P00025000&quot;</td></tr></tbody></table></div>"
      ],
      "text/plain": [
       "shape: (17_675_339, 22)\n",
       "┌──────────────┬──────────────┬───────┬──────────────┬───┬────────┬─────────┬────────┬─────────────┐\n",
       "│ UnderlyingSy ┆ UnderlyingPr ┆ Flags ┆ OptionSymbol ┆ … ┆ Gamma  ┆ Theta   ┆ Vega   ┆ AKA         │\n",
       "│ mbol         ┆ ice          ┆ ---   ┆ ---          ┆   ┆ ---    ┆ ---     ┆ ---    ┆ ---         │\n",
       "│ ---          ┆ ---          ┆ str   ┆ str          ┆   ┆ f64    ┆ f64     ┆ f64    ┆ str         │\n",
       "│ str          ┆ f64          ┆       ┆              ┆   ┆        ┆         ┆        ┆             │\n",
       "╞══════════════╪══════════════╪═══════╪══════════════╪═══╪════════╪═════════╪════════╪═════════════╡\n",
       "│ A            ┆ 67.6         ┆ *     ┆ A180119C0002 ┆ … ┆ 0.0    ┆ -0.3217 ┆ 0.0    ┆ A180119C000 │\n",
       "│              ┆              ┆       ┆ 0000         ┆   ┆        ┆         ┆        ┆ 20000       │\n",
       "│ A            ┆ 67.6         ┆ *     ┆ A180119P0002 ┆ … ┆ 0.0    ┆ 0.0     ┆ 0.0    ┆ A180119P000 │\n",
       "│              ┆              ┆       ┆ 0000         ┆   ┆        ┆         ┆        ┆ 20000       │\n",
       "│ A            ┆ 67.6         ┆ *     ┆ A180119C0002 ┆ … ┆ 0.0    ┆ -0.3619 ┆ 0.0    ┆ A180119C000 │\n",
       "│              ┆              ┆       ┆ 2500         ┆   ┆        ┆         ┆        ┆ 22500       │\n",
       "│ A            ┆ 67.6         ┆ *     ┆ A180119P0002 ┆ … ┆ 0.0    ┆ 0.0     ┆ 0.0    ┆ A180119P000 │\n",
       "│              ┆              ┆       ┆ 2500         ┆   ┆        ┆         ┆        ┆ 22500       │\n",
       "│ A            ┆ 67.6         ┆ *     ┆ A180119C0002 ┆ … ┆ 0.0    ┆ -0.4022 ┆ 0.0    ┆ A180119C000 │\n",
       "│              ┆              ┆       ┆ 5000         ┆   ┆        ┆         ┆        ┆ 25000       │\n",
       "│ …            ┆ …            ┆ …     ┆ …            ┆ … ┆ …      ┆ …       ┆ …      ┆ …           │\n",
       "│ ZYNE         ┆ 12.09        ┆ *     ┆ ZYNE200117P0 ┆ … ┆ 0.0366 ┆ -0.8941 ┆ 6.5936 ┆ ZYNE200117P │\n",
       "│              ┆              ┆       ┆ 0020000      ┆   ┆        ┆         ┆        ┆ 00020000    │\n",
       "│ ZYNE         ┆ 12.09        ┆ *     ┆ ZYNE200117C0 ┆ … ┆ 0.0328 ┆ -1.1717 ┆ 6.5846 ┆ ZYNE200117C │\n",
       "│              ┆              ┆       ┆ 0022500      ┆   ┆        ┆         ┆        ┆ 00022500    │\n",
       "│ ZYNE         ┆ 12.09        ┆ *     ┆ ZYNE200117P0 ┆ … ┆ 0.0366 ┆ -0.7926 ┆ 6.3602 ┆ ZYNE200117P │\n",
       "│              ┆              ┆       ┆ 0022500      ┆   ┆        ┆         ┆        ┆ 00022500    │\n",
       "│ ZYNE         ┆ 12.09        ┆ *     ┆ ZYNE200117C0 ┆ … ┆ 0.032  ┆ -1.1596 ┆ 6.4668 ┆ ZYNE200117C │\n",
       "│              ┆              ┆       ┆ 0025000      ┆   ┆        ┆         ┆        ┆ 00025000    │\n",
       "│ ZYNE         ┆ 12.09        ┆ *     ┆ ZYNE200117P0 ┆ … ┆ 0.035  ┆ -0.7187 ┆ 6.085  ┆ ZYNE200117P │\n",
       "│              ┆              ┆       ┆ 0025000      ┆   ┆        ┆         ┆        ┆ 00025000    │\n",
       "└──────────────┴──────────────┴───────┴──────────────┴───┴────────┴─────────┴────────┴─────────────┘"
      ]
     },
     "execution_count": null,
     "metadata": {},
     "output_type": "execute_result"
    }
   ],
   "source": [
    "df_delta_neutral"
   ]
  },
  {
   "cell_type": "markdown",
   "id": "c99838cd-f77a-43ca-b655-95afba3b304e",
   "metadata": {},
   "source": [
    "We can use the `.glimpse()` method to inspect larger `DataFrames`."
   ]
  },
  {
   "cell_type": "code",
   "execution_count": null,
   "id": "2616b08b-ac56-40ef-9ae6-616980bf13ef",
   "metadata": {},
   "outputs": [
    {
     "name": "stdout",
     "output_type": "stream",
     "text": [
      "Rows: 17675339\n",
      "Columns: 22\n",
      "$ UnderlyingSymbol <str> 'A', 'A', 'A', 'A', 'A', 'A', 'A', 'A', 'A', 'A'\n",
      "$ UnderlyingPrice  <f64> 67.6, 67.6, 67.6, 67.6, 67.6, 67.6, 67.6, 67.6, 67.6, 67.6\n",
      "$ Flags            <str> '*', '*', '*', '*', '*', '*', '*', '*', '*', '*'\n",
      "$ OptionSymbol     <str> 'A180119C00020000', 'A180119P00020000', 'A180119C00022500', 'A180119P00022500', 'A180119C00025000', 'A180119P00025000', 'A180119C00027500', 'A180119P00027500', 'A180119C00030000', 'A180119P00030000'\n",
      "$ Type             <str> 'call', 'put', 'call', 'put', 'call', 'put', 'call', 'put', 'call', 'put'\n",
      "$ Expiration       <str> '01/19/2018', '01/19/2018', '01/19/2018', '01/19/2018', '01/19/2018', '01/19/2018', '01/19/2018', '01/19/2018', '01/19/2018', '01/19/2018'\n",
      "$  DataDate        <str> '01/02/2018', '01/02/2018', '01/02/2018', '01/02/2018', '01/02/2018', '01/02/2018', '01/02/2018', '01/02/2018', '01/02/2018', '01/02/2018'\n",
      "$ Strike           <f64> 20.0, 20.0, 22.5, 22.5, 25.0, 25.0, 27.5, 27.5, 30.0, 30.0\n",
      "$ Last             <f64> 0.0, 0.18, 45.0, 1.84, 0.0, 0.33, 0.0, 0.0, 37.55, 0.03\n",
      "$ Bid              <f64> 45.6, 0.0, 42.9, 0.0, 40.3, 0.0, 37.75, 0.0, 35.2, 0.0\n",
      "$ Ask              <f64> 49.85, 0.03, 47.35, 0.03, 44.7, 0.03, 42.25, 0.03, 39.6, 0.03\n",
      "$ Volume           <i64> 0, 0, 0, 0, 0, 0, 0, 0, 0, 0\n",
      "$ OpenInterest     <i64> 0, 11, 0, 15, 0, 10, 0, 0, 0, 23\n",
      "$ T1OpenInterest   <i64> 0, 11, 0, 15, 0, 10, 0, 0, 0, 23\n",
      "$ IVMean           <f64> 0.1777, 0.2776, 0.1777, 0.2776, 0.1777, 0.2776, 0.1777, 0.2776, 0.1777, 0.2776\n",
      "$ IVBid            <f64> 0.0, 0.0, 0.0, 0.0, 0.0, 0.0, 0.0, 0.0, 0.0, 0.0\n",
      "$ IVAsk            <f64> 5.0316, 2.2641, 4.5811, 2.0541, 4.0955, 1.8668, 3.7798, 1.6977, 3.3866, 1.5435\n",
      "$ Delta            <f64> 1.0, 0.0, 1.0, 0.0, 1.0, 0.0, 1.0, 0.0, 1.0, 0.0\n",
      "$ Gamma            <f64> 0.0, 0.0, 0.0, 0.0, 0.0, 0.0, 0.0, 0.0, 0.0, 0.0\n",
      "$ Theta            <f64> -0.3217, 0.0, -0.3619, 0.0, -0.4022, 0.0, -0.4424, 0.0, -0.4826, 0.0\n",
      "$ Vega             <f64> 0.0, 0.0, 0.0, 0.0, 0.0, 0.0, 0.0, 0.0, 0.0, 0.0\n",
      "$ AKA              <str> 'A180119C00020000', 'A180119P00020000', 'A180119C00022500', 'A180119P00022500', 'A180119C00025000', 'A180119P00025000', 'A180119C00027500', 'A180119P00027500', 'A180119C00030000', 'A180119P00030000'\n",
      "\n"
     ]
    }
   ],
   "source": [
    "df_delta_neutral.glimpse()"
   ]
  },
  {
   "cell_type": "markdown",
   "id": "b759dd5f-435e-41b1-9e11-b7f8498cb2d8",
   "metadata": {},
   "source": [
    "We can isolate a specific column of a `DataFrame` with the `.get_column()` method."
   ]
  },
  {
   "cell_type": "code",
   "execution_count": null,
   "id": "94ed91a2-a820-4153-a38e-273b5078fe3c",
   "metadata": {},
   "outputs": [
    {
     "data": {
      "text/html": [
       "<div><style>\n",
       ".dataframe > thead > tr,\n",
       ".dataframe > tbody > tr {\n",
       "  text-align: right;\n",
       "  white-space: pre-wrap;\n",
       "}\n",
       "</style>\n",
       "<small>shape: (17_675_339,)</small><table border=\"1\" class=\"dataframe\"><thead><tr><th>OptionSymbol</th></tr><tr><td>str</td></tr></thead><tbody><tr><td>&quot;A180119C00020000&quot;</td></tr><tr><td>&quot;A180119P00020000&quot;</td></tr><tr><td>&quot;A180119C00022500&quot;</td></tr><tr><td>&quot;A180119P00022500&quot;</td></tr><tr><td>&quot;A180119C00025000&quot;</td></tr><tr><td>&hellip;</td></tr><tr><td>&quot;ZYNE200117P00020000&quot;</td></tr><tr><td>&quot;ZYNE200117C00022500&quot;</td></tr><tr><td>&quot;ZYNE200117P00022500&quot;</td></tr><tr><td>&quot;ZYNE200117C00025000&quot;</td></tr><tr><td>&quot;ZYNE200117P00025000&quot;</td></tr></tbody></table></div>"
      ],
      "text/plain": [
       "shape: (17_675_339,)\n",
       "Series: 'OptionSymbol' [str]\n",
       "[\n",
       "\t\"A180119C00020000\"\n",
       "\t\"A180119P00020000\"\n",
       "\t\"A180119C00022500\"\n",
       "\t\"A180119P00022500\"\n",
       "\t\"A180119C00025000\"\n",
       "\t…\n",
       "\t\"ZYNE200117P00020000\"\n",
       "\t\"ZYNE200117C00022500\"\n",
       "\t\"ZYNE200117P00022500\"\n",
       "\t\"ZYNE200117C00025000\"\n",
       "\t\"ZYNE200117P00025000\"\n",
       "]"
      ]
     },
     "execution_count": null,
     "metadata": {},
     "output_type": "execute_result"
    }
   ],
   "source": [
    "df_delta_neutral.get_column(\"OptionSymbol\")"
   ]
  },
  {
   "cell_type": "markdown",
   "id": "0aed5e8b-58cc-422e-bb43-0582cb10da66",
   "metadata": {},
   "source": [
    "The column of a `DataFrame` is a `Series` object."
   ]
  },
  {
   "cell_type": "code",
   "execution_count": null,
   "id": "8d0ec6ee-9faf-45ee-a954-2a487ac06da5",
   "metadata": {},
   "outputs": [
    {
     "data": {
      "text/plain": [
       "polars.series.series.Series"
      ]
     },
     "execution_count": null,
     "metadata": {},
     "output_type": "execute_result"
    }
   ],
   "source": [
    "type(df_delta_neutral.get_column(\"OptionSymbol\"))"
   ]
  },
  {
   "cell_type": "markdown",
   "id": "da9bce4f-d8d2-4d4b-9055-94388e851f72",
   "metadata": {},
   "source": [
    "## Dropping Columns"
   ]
  },
  {
   "cell_type": "markdown",
   "id": "f69acff6-0eae-462c-8277-e6406eb6f378",
   "metadata": {},
   "source": [
    "To make our `DataFrame` smaller for the purposes of printing to the screen, lets drop some columns using the `DataFrame.drop()` method.  In **polars** you cannot modify a `DataFrame` in place, so you have to reassign to the same variable."
   ]
  },
  {
   "cell_type": "code",
   "execution_count": null,
   "id": "6b1590fd-8dc5-4dcc-8ccd-f98597702d87",
   "metadata": {},
   "outputs": [
    {
     "data": {
      "text/html": [
       "<div><style>\n",
       ".dataframe > thead > tr,\n",
       ".dataframe > tbody > tr {\n",
       "  text-align: right;\n",
       "  white-space: pre-wrap;\n",
       "}\n",
       "</style>\n",
       "<small>shape: (17_675_339, 11)</small><table border=\"1\" class=\"dataframe\"><thead><tr><th>UnderlyingSymbol</th><th>UnderlyingPrice</th><th>Type</th><th>Expiration</th><th> DataDate</th><th>Strike</th><th>Last</th><th>Bid</th><th>Ask</th><th>Volume</th><th>IVMean</th></tr><tr><td>str</td><td>f64</td><td>str</td><td>str</td><td>str</td><td>f64</td><td>f64</td><td>f64</td><td>f64</td><td>i64</td><td>f64</td></tr></thead><tbody><tr><td>&quot;A&quot;</td><td>67.6</td><td>&quot;call&quot;</td><td>&quot;01/19/2018&quot;</td><td>&quot;01/02/2018&quot;</td><td>20.0</td><td>0.0</td><td>45.6</td><td>49.85</td><td>0</td><td>0.1777</td></tr><tr><td>&quot;A&quot;</td><td>67.6</td><td>&quot;put&quot;</td><td>&quot;01/19/2018&quot;</td><td>&quot;01/02/2018&quot;</td><td>20.0</td><td>0.18</td><td>0.0</td><td>0.03</td><td>0</td><td>0.2776</td></tr><tr><td>&quot;A&quot;</td><td>67.6</td><td>&quot;call&quot;</td><td>&quot;01/19/2018&quot;</td><td>&quot;01/02/2018&quot;</td><td>22.5</td><td>45.0</td><td>42.9</td><td>47.35</td><td>0</td><td>0.1777</td></tr><tr><td>&quot;A&quot;</td><td>67.6</td><td>&quot;put&quot;</td><td>&quot;01/19/2018&quot;</td><td>&quot;01/02/2018&quot;</td><td>22.5</td><td>1.84</td><td>0.0</td><td>0.03</td><td>0</td><td>0.2776</td></tr><tr><td>&quot;A&quot;</td><td>67.6</td><td>&quot;call&quot;</td><td>&quot;01/19/2018&quot;</td><td>&quot;01/02/2018&quot;</td><td>25.0</td><td>0.0</td><td>40.3</td><td>44.7</td><td>0</td><td>0.1777</td></tr><tr><td>&hellip;</td><td>&hellip;</td><td>&hellip;</td><td>&hellip;</td><td>&hellip;</td><td>&hellip;</td><td>&hellip;</td><td>&hellip;</td><td>&hellip;</td><td>&hellip;</td><td>&hellip;</td></tr><tr><td>&quot;ZYNE&quot;</td><td>12.09</td><td>&quot;put&quot;</td><td>&quot;01/17/2020&quot;</td><td>&quot;01/31/2018&quot;</td><td>20.0</td><td>10.9</td><td>8.8</td><td>11.0</td><td>0</td><td>0.6282</td></tr><tr><td>&quot;ZYNE&quot;</td><td>12.09</td><td>&quot;call&quot;</td><td>&quot;01/17/2020&quot;</td><td>&quot;01/31/2018&quot;</td><td>22.5</td><td>0.0</td><td>0.4</td><td>4.7</td><td>0</td><td>0.701</td></tr><tr><td>&quot;ZYNE&quot;</td><td>12.09</td><td>&quot;put&quot;</td><td>&quot;01/17/2020&quot;</td><td>&quot;01/31/2018&quot;</td><td>22.5</td><td>0.0</td><td>10.5</td><td>13.4</td><td>0</td><td>0.607</td></tr><tr><td>&quot;ZYNE&quot;</td><td>12.09</td><td>&quot;call&quot;</td><td>&quot;01/17/2020&quot;</td><td>&quot;01/31/2018&quot;</td><td>25.0</td><td>0.0</td><td>0.25</td><td>4.5</td><td>0</td><td>0.7057</td></tr><tr><td>&quot;ZYNE&quot;</td><td>12.09</td><td>&quot;put&quot;</td><td>&quot;01/17/2020&quot;</td><td>&quot;01/31/2018&quot;</td><td>25.0</td><td>0.0</td><td>13.0</td><td>16.1</td><td>0</td><td>0.607</td></tr></tbody></table></div>"
      ],
      "text/plain": [
       "shape: (17_675_339, 11)\n",
       "┌──────────────────┬─────────────────┬──────┬────────────┬───┬──────┬───────┬────────┬────────┐\n",
       "│ UnderlyingSymbol ┆ UnderlyingPrice ┆ Type ┆ Expiration ┆ … ┆ Bid  ┆ Ask   ┆ Volume ┆ IVMean │\n",
       "│ ---              ┆ ---             ┆ ---  ┆ ---        ┆   ┆ ---  ┆ ---   ┆ ---    ┆ ---    │\n",
       "│ str              ┆ f64             ┆ str  ┆ str        ┆   ┆ f64  ┆ f64   ┆ i64    ┆ f64    │\n",
       "╞══════════════════╪═════════════════╪══════╪════════════╪═══╪══════╪═══════╪════════╪════════╡\n",
       "│ A                ┆ 67.6            ┆ call ┆ 01/19/2018 ┆ … ┆ 45.6 ┆ 49.85 ┆ 0      ┆ 0.1777 │\n",
       "│ A                ┆ 67.6            ┆ put  ┆ 01/19/2018 ┆ … ┆ 0.0  ┆ 0.03  ┆ 0      ┆ 0.2776 │\n",
       "│ A                ┆ 67.6            ┆ call ┆ 01/19/2018 ┆ … ┆ 42.9 ┆ 47.35 ┆ 0      ┆ 0.1777 │\n",
       "│ A                ┆ 67.6            ┆ put  ┆ 01/19/2018 ┆ … ┆ 0.0  ┆ 0.03  ┆ 0      ┆ 0.2776 │\n",
       "│ A                ┆ 67.6            ┆ call ┆ 01/19/2018 ┆ … ┆ 40.3 ┆ 44.7  ┆ 0      ┆ 0.1777 │\n",
       "│ …                ┆ …               ┆ …    ┆ …          ┆ … ┆ …    ┆ …     ┆ …      ┆ …      │\n",
       "│ ZYNE             ┆ 12.09           ┆ put  ┆ 01/17/2020 ┆ … ┆ 8.8  ┆ 11.0  ┆ 0      ┆ 0.6282 │\n",
       "│ ZYNE             ┆ 12.09           ┆ call ┆ 01/17/2020 ┆ … ┆ 0.4  ┆ 4.7   ┆ 0      ┆ 0.701  │\n",
       "│ ZYNE             ┆ 12.09           ┆ put  ┆ 01/17/2020 ┆ … ┆ 10.5 ┆ 13.4  ┆ 0      ┆ 0.607  │\n",
       "│ ZYNE             ┆ 12.09           ┆ call ┆ 01/17/2020 ┆ … ┆ 0.25 ┆ 4.5   ┆ 0      ┆ 0.7057 │\n",
       "│ ZYNE             ┆ 12.09           ┆ put  ┆ 01/17/2020 ┆ … ┆ 13.0 ┆ 16.1  ┆ 0      ┆ 0.607  │\n",
       "└──────────────────┴─────────────────┴──────┴────────────┴───┴──────┴───────┴────────┴────────┘"
      ]
     },
     "execution_count": null,
     "metadata": {},
     "output_type": "execute_result"
    }
   ],
   "source": [
    "cols_to_drop = [\n",
    "    \"Flags\", \"OptionSymbol\", \"OpenInterest\", \"T1OpenInterest\",\n",
    "    \"IVBid\", \"IVAsk\", \"Delta\", \"Gamma\", \"Theta\", \"Vega\", \"AKA\",\n",
    "]\n",
    "df_delta_neutral = df_delta_neutral.drop(cols_to_drop)\n",
    "df_delta_neutral"
   ]
  },
  {
   "cell_type": "markdown",
   "id": "c829e9a8-ca66-497f-bc9f-b8e8f01d8e4a",
   "metadata": {},
   "source": [
    "## Renaming Columns"
   ]
  },
  {
   "cell_type": "markdown",
   "id": "0da08564-697f-4d52-aa11-3a7ad41b6431",
   "metadata": {},
   "source": [
    "To rename columns we supply a `Dict` to the `DataFrame.rename()` method.  In **polars** you cannot modify a `DataFrame` in place, so you have to reassign to the same variable."
   ]
  },
  {
   "cell_type": "code",
   "execution_count": null,
   "id": "bb1a9039-523f-4b7e-b4a1-c81489166b28",
   "metadata": {},
   "outputs": [
    {
     "data": {
      "text/html": [
       "<div><style>\n",
       ".dataframe > thead > tr,\n",
       ".dataframe > tbody > tr {\n",
       "  text-align: right;\n",
       "  white-space: pre-wrap;\n",
       "}\n",
       "</style>\n",
       "<small>shape: (17_675_339, 11)</small><table border=\"1\" class=\"dataframe\"><thead><tr><th>UnderlyingSymbol</th><th>UnderlyingPrice</th><th>Type</th><th>Expiration</th><th>DataDate</th><th>Strike</th><th>Last</th><th>Bid</th><th>Ask</th><th>Volume</th><th>IVMean</th></tr><tr><td>str</td><td>f64</td><td>str</td><td>str</td><td>str</td><td>f64</td><td>f64</td><td>f64</td><td>f64</td><td>i64</td><td>f64</td></tr></thead><tbody><tr><td>&quot;A&quot;</td><td>67.6</td><td>&quot;call&quot;</td><td>&quot;01/19/2018&quot;</td><td>&quot;01/02/2018&quot;</td><td>20.0</td><td>0.0</td><td>45.6</td><td>49.85</td><td>0</td><td>0.1777</td></tr><tr><td>&quot;A&quot;</td><td>67.6</td><td>&quot;put&quot;</td><td>&quot;01/19/2018&quot;</td><td>&quot;01/02/2018&quot;</td><td>20.0</td><td>0.18</td><td>0.0</td><td>0.03</td><td>0</td><td>0.2776</td></tr><tr><td>&quot;A&quot;</td><td>67.6</td><td>&quot;call&quot;</td><td>&quot;01/19/2018&quot;</td><td>&quot;01/02/2018&quot;</td><td>22.5</td><td>45.0</td><td>42.9</td><td>47.35</td><td>0</td><td>0.1777</td></tr><tr><td>&quot;A&quot;</td><td>67.6</td><td>&quot;put&quot;</td><td>&quot;01/19/2018&quot;</td><td>&quot;01/02/2018&quot;</td><td>22.5</td><td>1.84</td><td>0.0</td><td>0.03</td><td>0</td><td>0.2776</td></tr><tr><td>&quot;A&quot;</td><td>67.6</td><td>&quot;call&quot;</td><td>&quot;01/19/2018&quot;</td><td>&quot;01/02/2018&quot;</td><td>25.0</td><td>0.0</td><td>40.3</td><td>44.7</td><td>0</td><td>0.1777</td></tr><tr><td>&hellip;</td><td>&hellip;</td><td>&hellip;</td><td>&hellip;</td><td>&hellip;</td><td>&hellip;</td><td>&hellip;</td><td>&hellip;</td><td>&hellip;</td><td>&hellip;</td><td>&hellip;</td></tr><tr><td>&quot;ZYNE&quot;</td><td>12.09</td><td>&quot;put&quot;</td><td>&quot;01/17/2020&quot;</td><td>&quot;01/31/2018&quot;</td><td>20.0</td><td>10.9</td><td>8.8</td><td>11.0</td><td>0</td><td>0.6282</td></tr><tr><td>&quot;ZYNE&quot;</td><td>12.09</td><td>&quot;call&quot;</td><td>&quot;01/17/2020&quot;</td><td>&quot;01/31/2018&quot;</td><td>22.5</td><td>0.0</td><td>0.4</td><td>4.7</td><td>0</td><td>0.701</td></tr><tr><td>&quot;ZYNE&quot;</td><td>12.09</td><td>&quot;put&quot;</td><td>&quot;01/17/2020&quot;</td><td>&quot;01/31/2018&quot;</td><td>22.5</td><td>0.0</td><td>10.5</td><td>13.4</td><td>0</td><td>0.607</td></tr><tr><td>&quot;ZYNE&quot;</td><td>12.09</td><td>&quot;call&quot;</td><td>&quot;01/17/2020&quot;</td><td>&quot;01/31/2018&quot;</td><td>25.0</td><td>0.0</td><td>0.25</td><td>4.5</td><td>0</td><td>0.7057</td></tr><tr><td>&quot;ZYNE&quot;</td><td>12.09</td><td>&quot;put&quot;</td><td>&quot;01/17/2020&quot;</td><td>&quot;01/31/2018&quot;</td><td>25.0</td><td>0.0</td><td>13.0</td><td>16.1</td><td>0</td><td>0.607</td></tr></tbody></table></div>"
      ],
      "text/plain": [
       "shape: (17_675_339, 11)\n",
       "┌──────────────────┬─────────────────┬──────┬────────────┬───┬──────┬───────┬────────┬────────┐\n",
       "│ UnderlyingSymbol ┆ UnderlyingPrice ┆ Type ┆ Expiration ┆ … ┆ Bid  ┆ Ask   ┆ Volume ┆ IVMean │\n",
       "│ ---              ┆ ---             ┆ ---  ┆ ---        ┆   ┆ ---  ┆ ---   ┆ ---    ┆ ---    │\n",
       "│ str              ┆ f64             ┆ str  ┆ str        ┆   ┆ f64  ┆ f64   ┆ i64    ┆ f64    │\n",
       "╞══════════════════╪═════════════════╪══════╪════════════╪═══╪══════╪═══════╪════════╪════════╡\n",
       "│ A                ┆ 67.6            ┆ call ┆ 01/19/2018 ┆ … ┆ 45.6 ┆ 49.85 ┆ 0      ┆ 0.1777 │\n",
       "│ A                ┆ 67.6            ┆ put  ┆ 01/19/2018 ┆ … ┆ 0.0  ┆ 0.03  ┆ 0      ┆ 0.2776 │\n",
       "│ A                ┆ 67.6            ┆ call ┆ 01/19/2018 ┆ … ┆ 42.9 ┆ 47.35 ┆ 0      ┆ 0.1777 │\n",
       "│ A                ┆ 67.6            ┆ put  ┆ 01/19/2018 ┆ … ┆ 0.0  ┆ 0.03  ┆ 0      ┆ 0.2776 │\n",
       "│ A                ┆ 67.6            ┆ call ┆ 01/19/2018 ┆ … ┆ 40.3 ┆ 44.7  ┆ 0      ┆ 0.1777 │\n",
       "│ …                ┆ …               ┆ …    ┆ …          ┆ … ┆ …    ┆ …     ┆ …      ┆ …      │\n",
       "│ ZYNE             ┆ 12.09           ┆ put  ┆ 01/17/2020 ┆ … ┆ 8.8  ┆ 11.0  ┆ 0      ┆ 0.6282 │\n",
       "│ ZYNE             ┆ 12.09           ┆ call ┆ 01/17/2020 ┆ … ┆ 0.4  ┆ 4.7   ┆ 0      ┆ 0.701  │\n",
       "│ ZYNE             ┆ 12.09           ┆ put  ┆ 01/17/2020 ┆ … ┆ 10.5 ┆ 13.4  ┆ 0      ┆ 0.607  │\n",
       "│ ZYNE             ┆ 12.09           ┆ call ┆ 01/17/2020 ┆ … ┆ 0.25 ┆ 4.5   ┆ 0      ┆ 0.7057 │\n",
       "│ ZYNE             ┆ 12.09           ┆ put  ┆ 01/17/2020 ┆ … ┆ 13.0 ┆ 16.1  ┆ 0      ┆ 0.607  │\n",
       "└──────────────────┴─────────────────┴──────┴────────────┴───┴──────┴───────┴────────┴────────┘"
      ]
     },
     "execution_count": null,
     "metadata": {},
     "output_type": "execute_result"
    }
   ],
   "source": [
    "df_delta_neutral = df_delta_neutral.rename({\" DataDate\":\"DataDate\"})\n",
    "df_delta_neutral"
   ]
  },
  {
   "cell_type": "markdown",
   "id": "7368cc55-652f-4cec-95dc-4299adf325bc",
   "metadata": {},
   "source": [
    "## Expressions and Contexts"
   ]
  },
  {
   "cell_type": "markdown",
   "id": "b1f3584d-8ab1-4fd7-ad8f-0b210a97e80d",
   "metadata": {},
   "source": [
    "In **polars**, an *expression* is a lazy representation of a data transformation. Expressions are modular and flexible, which means you can use them as building blocks to build more complex expressions. Here is an example of a **polars** expression that encapsulates the logic of calculating the mid-price from the `Bid` and `Ask` columns."
   ]
  },
  {
   "cell_type": "code",
   "execution_count": null,
   "id": "2a19a14b-2e85-4f8c-aa63-08c3aa0aec6b",
   "metadata": {},
   "outputs": [
    {
     "data": {
      "text/html": [
       "[(col(\"Bid\")) + ([(col(\"Ask\")) / (dyn int: 2)])]"
      ],
      "text/plain": [
       "<Expr ['[(col(\"Bid\")) + ([(col(\"Ask\"))…']>"
      ]
     },
     "execution_count": null,
     "metadata": {},
     "output_type": "execute_result"
    }
   ],
   "source": [
    "pl.col(\"Bid\") + pl.col(\"Ask\") / 2"
   ]
  },
  {
   "cell_type": "markdown",
   "id": "2a0e9a71-e004-4553-9860-8efa0ebca8f5",
   "metadata": {},
   "source": [
    "The code above expresses an abstract computation that we can save in a variable, manipulate further, or just print:"
   ]
  },
  {
   "cell_type": "code",
   "execution_count": null,
   "id": "8b2c6925-69a0-4f7d-b3eb-9d8c99efe328",
   "metadata": {},
   "outputs": [
    {
     "data": {
      "text/plain": [
       "polars.expr.expr.Expr"
      ]
     },
     "execution_count": null,
     "metadata": {},
     "output_type": "execute_result"
    }
   ],
   "source": [
    "mid_expr = pl.col(\"Bid\") + pl.col(\"Ask\") / 2\n",
    "type(mid_expr)"
   ]
  },
  {
   "cell_type": "code",
   "execution_count": null,
   "id": "2b41c623-224f-43da-893c-92dbd2acb733",
   "metadata": {},
   "outputs": [
    {
     "data": {
      "text/html": [
       "[(col(\"Bid\")) + ([(col(\"Ask\")) / (dyn int: 2)])]"
      ],
      "text/plain": [
       "<Expr ['[(col(\"Bid\")) + ([(col(\"Ask\"))…']>"
      ]
     },
     "execution_count": null,
     "metadata": {},
     "output_type": "execute_result"
    }
   ],
   "source": [
    "mid_expr"
   ]
  },
  {
   "cell_type": "markdown",
   "id": "4a46b9ac-f640-4532-82a5-c082c2d1e0c2",
   "metadata": {},
   "source": [
    "In **polars**, expressions need a *context* in which they are executed to produce a result. Depending on the context it is used in, the same **polars** expression can produce different results. The four most common contexts are:\n",
    "\n",
    "1. `select`\n",
    "2. `with_columns`\n",
    "3. `filter`\n",
    "4. `group_by`"
   ]
  },
  {
   "cell_type": "markdown",
   "id": "52076112-cb0d-4720-ae54-7bb32295ff38",
   "metadata": {},
   "source": [
    "## `select`"
   ]
  },
  {
   "cell_type": "markdown",
   "id": "4be5f20c-9979-4244-9961-7576799dd64c",
   "metadata": {},
   "source": [
    "The context `select` may produce new columns that are aggregations, combinations of other columns, or literals:"
   ]
  },
  {
   "cell_type": "code",
   "execution_count": null,
   "id": "a9ca564f-a417-4d40-b9f9-927c32f2d173",
   "metadata": {},
   "outputs": [
    {
     "data": {
      "text/html": [
       "<div><style>\n",
       ".dataframe > thead > tr,\n",
       ".dataframe > tbody > tr {\n",
       "  text-align: right;\n",
       "  white-space: pre-wrap;\n",
       "}\n",
       "</style>\n",
       "<small>shape: (17_675_339, 6)</small><table border=\"1\" class=\"dataframe\"><thead><tr><th>bid</th><th>ask</th><th>mid1</th><th>mid2</th><th>avg_bid</th><th>dummy</th></tr><tr><td>f64</td><td>f64</td><td>f64</td><td>f64</td><td>f64</td><td>bool</td></tr></thead><tbody><tr><td>45.6</td><td>49.85</td><td>70.525</td><td>70.525</td><td>19.447932</td><td>true</td></tr><tr><td>0.0</td><td>0.03</td><td>0.015</td><td>0.015</td><td>19.447932</td><td>true</td></tr><tr><td>42.9</td><td>47.35</td><td>66.575</td><td>66.575</td><td>19.447932</td><td>true</td></tr><tr><td>0.0</td><td>0.03</td><td>0.015</td><td>0.015</td><td>19.447932</td><td>true</td></tr><tr><td>40.3</td><td>44.7</td><td>62.65</td><td>62.65</td><td>19.447932</td><td>true</td></tr><tr><td>&hellip;</td><td>&hellip;</td><td>&hellip;</td><td>&hellip;</td><td>&hellip;</td><td>&hellip;</td></tr><tr><td>8.8</td><td>11.0</td><td>14.3</td><td>14.3</td><td>19.447932</td><td>true</td></tr><tr><td>0.4</td><td>4.7</td><td>2.75</td><td>2.75</td><td>19.447932</td><td>true</td></tr><tr><td>10.5</td><td>13.4</td><td>17.2</td><td>17.2</td><td>19.447932</td><td>true</td></tr><tr><td>0.25</td><td>4.5</td><td>2.5</td><td>2.5</td><td>19.447932</td><td>true</td></tr><tr><td>13.0</td><td>16.1</td><td>21.05</td><td>21.05</td><td>19.447932</td><td>true</td></tr></tbody></table></div>"
      ],
      "text/plain": [
       "shape: (17_675_339, 6)\n",
       "┌──────┬───────┬────────┬────────┬───────────┬───────┐\n",
       "│ bid  ┆ ask   ┆ mid1   ┆ mid2   ┆ avg_bid   ┆ dummy │\n",
       "│ ---  ┆ ---   ┆ ---    ┆ ---    ┆ ---       ┆ ---   │\n",
       "│ f64  ┆ f64   ┆ f64    ┆ f64    ┆ f64       ┆ bool  │\n",
       "╞══════╪═══════╪════════╪════════╪═══════════╪═══════╡\n",
       "│ 45.6 ┆ 49.85 ┆ 70.525 ┆ 70.525 ┆ 19.447932 ┆ true  │\n",
       "│ 0.0  ┆ 0.03  ┆ 0.015  ┆ 0.015  ┆ 19.447932 ┆ true  │\n",
       "│ 42.9 ┆ 47.35 ┆ 66.575 ┆ 66.575 ┆ 19.447932 ┆ true  │\n",
       "│ 0.0  ┆ 0.03  ┆ 0.015  ┆ 0.015  ┆ 19.447932 ┆ true  │\n",
       "│ 40.3 ┆ 44.7  ┆ 62.65  ┆ 62.65  ┆ 19.447932 ┆ true  │\n",
       "│ …    ┆ …     ┆ …      ┆ …      ┆ …         ┆ …     │\n",
       "│ 8.8  ┆ 11.0  ┆ 14.3   ┆ 14.3   ┆ 19.447932 ┆ true  │\n",
       "│ 0.4  ┆ 4.7   ┆ 2.75   ┆ 2.75   ┆ 19.447932 ┆ true  │\n",
       "│ 10.5 ┆ 13.4  ┆ 17.2   ┆ 17.2   ┆ 19.447932 ┆ true  │\n",
       "│ 0.25 ┆ 4.5   ┆ 2.5    ┆ 2.5    ┆ 19.447932 ┆ true  │\n",
       "│ 13.0 ┆ 16.1  ┆ 21.05  ┆ 21.05  ┆ 19.447932 ┆ true  │\n",
       "└──────┴───────┴────────┴────────┴───────────┴───────┘"
      ]
     },
     "execution_count": null,
     "metadata": {},
     "output_type": "execute_result"
    }
   ],
   "source": [
    "df_delta_neutral.select(\n",
    "    bid = pl.col(\"Bid\"),\n",
    "    ask = pl.col(\"Ask\"),\n",
    "    mid1 = mid_expr,\n",
    "    mid2 = pl.col(\"Bid\") + pl.col(\"Ask\") / 2,\n",
    "    avg_bid = pl.col(\"Bid\").mean(),\n",
    "    dummy = pl.lit(True),\n",
    ")"
   ]
  },
  {
   "cell_type": "markdown",
   "id": "7d53c77b-7fc9-48ab-b0f2-7057fff8f7d3",
   "metadata": {},
   "source": [
    "The `.alias()` syntax can also be used to name columns."
   ]
  },
  {
   "cell_type": "code",
   "execution_count": null,
   "id": "9a28eca4-6b08-4d2d-9360-7a886af57065",
   "metadata": {},
   "outputs": [
    {
     "data": {
      "text/html": [
       "<div><style>\n",
       ".dataframe > thead > tr,\n",
       ".dataframe > tbody > tr {\n",
       "  text-align: right;\n",
       "  white-space: pre-wrap;\n",
       "}\n",
       "</style>\n",
       "<small>shape: (17_675_339, 6)</small><table border=\"1\" class=\"dataframe\"><thead><tr><th>bid</th><th>ask</th><th>mid1</th><th>mid2</th><th>avg_bid</th><th>dummy</th></tr><tr><td>f64</td><td>f64</td><td>f64</td><td>f64</td><td>f64</td><td>bool</td></tr></thead><tbody><tr><td>45.6</td><td>49.85</td><td>70.525</td><td>70.525</td><td>19.447932</td><td>true</td></tr><tr><td>0.0</td><td>0.03</td><td>0.015</td><td>0.015</td><td>19.447932</td><td>true</td></tr><tr><td>42.9</td><td>47.35</td><td>66.575</td><td>66.575</td><td>19.447932</td><td>true</td></tr><tr><td>0.0</td><td>0.03</td><td>0.015</td><td>0.015</td><td>19.447932</td><td>true</td></tr><tr><td>40.3</td><td>44.7</td><td>62.65</td><td>62.65</td><td>19.447932</td><td>true</td></tr><tr><td>&hellip;</td><td>&hellip;</td><td>&hellip;</td><td>&hellip;</td><td>&hellip;</td><td>&hellip;</td></tr><tr><td>8.8</td><td>11.0</td><td>14.3</td><td>14.3</td><td>19.447932</td><td>true</td></tr><tr><td>0.4</td><td>4.7</td><td>2.75</td><td>2.75</td><td>19.447932</td><td>true</td></tr><tr><td>10.5</td><td>13.4</td><td>17.2</td><td>17.2</td><td>19.447932</td><td>true</td></tr><tr><td>0.25</td><td>4.5</td><td>2.5</td><td>2.5</td><td>19.447932</td><td>true</td></tr><tr><td>13.0</td><td>16.1</td><td>21.05</td><td>21.05</td><td>19.447932</td><td>true</td></tr></tbody></table></div>"
      ],
      "text/plain": [
       "shape: (17_675_339, 6)\n",
       "┌──────┬───────┬────────┬────────┬───────────┬───────┐\n",
       "│ bid  ┆ ask   ┆ mid1   ┆ mid2   ┆ avg_bid   ┆ dummy │\n",
       "│ ---  ┆ ---   ┆ ---    ┆ ---    ┆ ---       ┆ ---   │\n",
       "│ f64  ┆ f64   ┆ f64    ┆ f64    ┆ f64       ┆ bool  │\n",
       "╞══════╪═══════╪════════╪════════╪═══════════╪═══════╡\n",
       "│ 45.6 ┆ 49.85 ┆ 70.525 ┆ 70.525 ┆ 19.447932 ┆ true  │\n",
       "│ 0.0  ┆ 0.03  ┆ 0.015  ┆ 0.015  ┆ 19.447932 ┆ true  │\n",
       "│ 42.9 ┆ 47.35 ┆ 66.575 ┆ 66.575 ┆ 19.447932 ┆ true  │\n",
       "│ 0.0  ┆ 0.03  ┆ 0.015  ┆ 0.015  ┆ 19.447932 ┆ true  │\n",
       "│ 40.3 ┆ 44.7  ┆ 62.65  ┆ 62.65  ┆ 19.447932 ┆ true  │\n",
       "│ …    ┆ …     ┆ …      ┆ …      ┆ …         ┆ …     │\n",
       "│ 8.8  ┆ 11.0  ┆ 14.3   ┆ 14.3   ┆ 19.447932 ┆ true  │\n",
       "│ 0.4  ┆ 4.7   ┆ 2.75   ┆ 2.75   ┆ 19.447932 ┆ true  │\n",
       "│ 10.5 ┆ 13.4  ┆ 17.2   ┆ 17.2   ┆ 19.447932 ┆ true  │\n",
       "│ 0.25 ┆ 4.5   ┆ 2.5    ┆ 2.5    ┆ 19.447932 ┆ true  │\n",
       "│ 13.0 ┆ 16.1  ┆ 21.05  ┆ 21.05  ┆ 19.447932 ┆ true  │\n",
       "└──────┴───────┴────────┴────────┴───────────┴───────┘"
      ]
     },
     "execution_count": null,
     "metadata": {},
     "output_type": "execute_result"
    }
   ],
   "source": [
    "df_delta_neutral.select(\n",
    "    pl.col(\"Bid\").alias(\"bid\"),\n",
    "    pl.col(\"Ask\").alias(\"ask\"),\n",
    "    mid_expr.alias(\"mid1\"),\n",
    "    (pl.col(\"Bid\") + pl.col(\"Ask\") / 2).alias(\"mid2\"),\n",
    "    pl.col(\"Bid\").mean().alias(\"avg_bid\"),\n",
    "    pl.lit(True).alias(\"dummy\"),\n",
    ")"
   ]
  },
  {
   "cell_type": "markdown",
   "id": "bf2374c2-4d66-4324-80fe-7e01be787e56",
   "metadata": {},
   "source": [
    "## `with_columns`"
   ]
  },
  {
   "cell_type": "markdown",
   "id": "e30c977c-21da-40f2-8458-f122efec127a",
   "metadata": {},
   "source": [
    "The context `with_columns` is very similar to the context `select`. The main difference between the two is that the context `with_columns` creates a new `DataFrame` that contains the columns from the original `DataFrame` and the new columns according to its input expressions, whereas the context `select` only includes the columns selected by its input expressions:"
   ]
  },
  {
   "cell_type": "code",
   "execution_count": null,
   "id": "2babb071-b12a-4295-aadd-49e639ba4639",
   "metadata": {},
   "outputs": [
    {
     "data": {
      "text/html": [
       "<div><style>\n",
       ".dataframe > thead > tr,\n",
       ".dataframe > tbody > tr {\n",
       "  text-align: right;\n",
       "  white-space: pre-wrap;\n",
       "}\n",
       "</style>\n",
       "<small>shape: (17_675_339, 12)</small><table border=\"1\" class=\"dataframe\"><thead><tr><th>UnderlyingSymbol</th><th>UnderlyingPrice</th><th>Type</th><th>Expiration</th><th>DataDate</th><th>Strike</th><th>Last</th><th>Bid</th><th>Ask</th><th>Volume</th><th>IVMean</th><th>Mid</th></tr><tr><td>str</td><td>f64</td><td>str</td><td>str</td><td>str</td><td>f64</td><td>f64</td><td>f64</td><td>f64</td><td>i64</td><td>f64</td><td>f64</td></tr></thead><tbody><tr><td>&quot;A&quot;</td><td>67.6</td><td>&quot;call&quot;</td><td>&quot;01/19/2018&quot;</td><td>&quot;01/02/2018&quot;</td><td>20.0</td><td>0.0</td><td>45.6</td><td>49.85</td><td>0</td><td>0.1777</td><td>70.525</td></tr><tr><td>&quot;A&quot;</td><td>67.6</td><td>&quot;put&quot;</td><td>&quot;01/19/2018&quot;</td><td>&quot;01/02/2018&quot;</td><td>20.0</td><td>0.18</td><td>0.0</td><td>0.03</td><td>0</td><td>0.2776</td><td>0.015</td></tr><tr><td>&quot;A&quot;</td><td>67.6</td><td>&quot;call&quot;</td><td>&quot;01/19/2018&quot;</td><td>&quot;01/02/2018&quot;</td><td>22.5</td><td>45.0</td><td>42.9</td><td>47.35</td><td>0</td><td>0.1777</td><td>66.575</td></tr><tr><td>&quot;A&quot;</td><td>67.6</td><td>&quot;put&quot;</td><td>&quot;01/19/2018&quot;</td><td>&quot;01/02/2018&quot;</td><td>22.5</td><td>1.84</td><td>0.0</td><td>0.03</td><td>0</td><td>0.2776</td><td>0.015</td></tr><tr><td>&quot;A&quot;</td><td>67.6</td><td>&quot;call&quot;</td><td>&quot;01/19/2018&quot;</td><td>&quot;01/02/2018&quot;</td><td>25.0</td><td>0.0</td><td>40.3</td><td>44.7</td><td>0</td><td>0.1777</td><td>62.65</td></tr><tr><td>&hellip;</td><td>&hellip;</td><td>&hellip;</td><td>&hellip;</td><td>&hellip;</td><td>&hellip;</td><td>&hellip;</td><td>&hellip;</td><td>&hellip;</td><td>&hellip;</td><td>&hellip;</td><td>&hellip;</td></tr><tr><td>&quot;ZYNE&quot;</td><td>12.09</td><td>&quot;put&quot;</td><td>&quot;01/17/2020&quot;</td><td>&quot;01/31/2018&quot;</td><td>20.0</td><td>10.9</td><td>8.8</td><td>11.0</td><td>0</td><td>0.6282</td><td>14.3</td></tr><tr><td>&quot;ZYNE&quot;</td><td>12.09</td><td>&quot;call&quot;</td><td>&quot;01/17/2020&quot;</td><td>&quot;01/31/2018&quot;</td><td>22.5</td><td>0.0</td><td>0.4</td><td>4.7</td><td>0</td><td>0.701</td><td>2.75</td></tr><tr><td>&quot;ZYNE&quot;</td><td>12.09</td><td>&quot;put&quot;</td><td>&quot;01/17/2020&quot;</td><td>&quot;01/31/2018&quot;</td><td>22.5</td><td>0.0</td><td>10.5</td><td>13.4</td><td>0</td><td>0.607</td><td>17.2</td></tr><tr><td>&quot;ZYNE&quot;</td><td>12.09</td><td>&quot;call&quot;</td><td>&quot;01/17/2020&quot;</td><td>&quot;01/31/2018&quot;</td><td>25.0</td><td>0.0</td><td>0.25</td><td>4.5</td><td>0</td><td>0.7057</td><td>2.5</td></tr><tr><td>&quot;ZYNE&quot;</td><td>12.09</td><td>&quot;put&quot;</td><td>&quot;01/17/2020&quot;</td><td>&quot;01/31/2018&quot;</td><td>25.0</td><td>0.0</td><td>13.0</td><td>16.1</td><td>0</td><td>0.607</td><td>21.05</td></tr></tbody></table></div>"
      ],
      "text/plain": [
       "shape: (17_675_339, 12)\n",
       "┌──────────────────┬─────────────────┬──────┬────────────┬───┬───────┬────────┬────────┬────────┐\n",
       "│ UnderlyingSymbol ┆ UnderlyingPrice ┆ Type ┆ Expiration ┆ … ┆ Ask   ┆ Volume ┆ IVMean ┆ Mid    │\n",
       "│ ---              ┆ ---             ┆ ---  ┆ ---        ┆   ┆ ---   ┆ ---    ┆ ---    ┆ ---    │\n",
       "│ str              ┆ f64             ┆ str  ┆ str        ┆   ┆ f64   ┆ i64    ┆ f64    ┆ f64    │\n",
       "╞══════════════════╪═════════════════╪══════╪════════════╪═══╪═══════╪════════╪════════╪════════╡\n",
       "│ A                ┆ 67.6            ┆ call ┆ 01/19/2018 ┆ … ┆ 49.85 ┆ 0      ┆ 0.1777 ┆ 70.525 │\n",
       "│ A                ┆ 67.6            ┆ put  ┆ 01/19/2018 ┆ … ┆ 0.03  ┆ 0      ┆ 0.2776 ┆ 0.015  │\n",
       "│ A                ┆ 67.6            ┆ call ┆ 01/19/2018 ┆ … ┆ 47.35 ┆ 0      ┆ 0.1777 ┆ 66.575 │\n",
       "│ A                ┆ 67.6            ┆ put  ┆ 01/19/2018 ┆ … ┆ 0.03  ┆ 0      ┆ 0.2776 ┆ 0.015  │\n",
       "│ A                ┆ 67.6            ┆ call ┆ 01/19/2018 ┆ … ┆ 44.7  ┆ 0      ┆ 0.1777 ┆ 62.65  │\n",
       "│ …                ┆ …               ┆ …    ┆ …          ┆ … ┆ …     ┆ …      ┆ …      ┆ …      │\n",
       "│ ZYNE             ┆ 12.09           ┆ put  ┆ 01/17/2020 ┆ … ┆ 11.0  ┆ 0      ┆ 0.6282 ┆ 14.3   │\n",
       "│ ZYNE             ┆ 12.09           ┆ call ┆ 01/17/2020 ┆ … ┆ 4.7   ┆ 0      ┆ 0.701  ┆ 2.75   │\n",
       "│ ZYNE             ┆ 12.09           ┆ put  ┆ 01/17/2020 ┆ … ┆ 13.4  ┆ 0      ┆ 0.607  ┆ 17.2   │\n",
       "│ ZYNE             ┆ 12.09           ┆ call ┆ 01/17/2020 ┆ … ┆ 4.5   ┆ 0      ┆ 0.7057 ┆ 2.5    │\n",
       "│ ZYNE             ┆ 12.09           ┆ put  ┆ 01/17/2020 ┆ … ┆ 16.1  ┆ 0      ┆ 0.607  ┆ 21.05  │\n",
       "└──────────────────┴─────────────────┴──────┴────────────┴───┴───────┴────────┴────────┴────────┘"
      ]
     },
     "execution_count": null,
     "metadata": {},
     "output_type": "execute_result"
    }
   ],
   "source": [
    "df_delta_neutral.with_columns(\n",
    "    (pl.col(\"Bid\") + pl.col(\"Ask\") / 2).alias(\"Mid\")\n",
    ")"
   ]
  },
  {
   "cell_type": "markdown",
   "id": "fc08e41f-8c2a-43a7-94d6-b89e048bea78",
   "metadata": {},
   "source": [
    "Next, let's change the `Expiration` and `DataDate` columns to `dates` using the `width_columns` context along with variable reassignment."
   ]
  },
  {
   "cell_type": "code",
   "execution_count": null,
   "id": "4ecdc577-dae8-4b5a-adaa-9978b36089f0",
   "metadata": {},
   "outputs": [
    {
     "data": {
      "text/html": [
       "<div><style>\n",
       ".dataframe > thead > tr,\n",
       ".dataframe > tbody > tr {\n",
       "  text-align: right;\n",
       "  white-space: pre-wrap;\n",
       "}\n",
       "</style>\n",
       "<small>shape: (17_675_339, 11)</small><table border=\"1\" class=\"dataframe\"><thead><tr><th>UnderlyingSymbol</th><th>UnderlyingPrice</th><th>Type</th><th>Expiration</th><th>DataDate</th><th>Strike</th><th>Last</th><th>Bid</th><th>Ask</th><th>Volume</th><th>IVMean</th></tr><tr><td>str</td><td>f64</td><td>str</td><td>date</td><td>date</td><td>f64</td><td>f64</td><td>f64</td><td>f64</td><td>i64</td><td>f64</td></tr></thead><tbody><tr><td>&quot;A&quot;</td><td>67.6</td><td>&quot;call&quot;</td><td>2018-01-19</td><td>2018-01-02</td><td>20.0</td><td>0.0</td><td>45.6</td><td>49.85</td><td>0</td><td>0.1777</td></tr><tr><td>&quot;A&quot;</td><td>67.6</td><td>&quot;put&quot;</td><td>2018-01-19</td><td>2018-01-02</td><td>20.0</td><td>0.18</td><td>0.0</td><td>0.03</td><td>0</td><td>0.2776</td></tr><tr><td>&quot;A&quot;</td><td>67.6</td><td>&quot;call&quot;</td><td>2018-01-19</td><td>2018-01-02</td><td>22.5</td><td>45.0</td><td>42.9</td><td>47.35</td><td>0</td><td>0.1777</td></tr><tr><td>&quot;A&quot;</td><td>67.6</td><td>&quot;put&quot;</td><td>2018-01-19</td><td>2018-01-02</td><td>22.5</td><td>1.84</td><td>0.0</td><td>0.03</td><td>0</td><td>0.2776</td></tr><tr><td>&quot;A&quot;</td><td>67.6</td><td>&quot;call&quot;</td><td>2018-01-19</td><td>2018-01-02</td><td>25.0</td><td>0.0</td><td>40.3</td><td>44.7</td><td>0</td><td>0.1777</td></tr><tr><td>&hellip;</td><td>&hellip;</td><td>&hellip;</td><td>&hellip;</td><td>&hellip;</td><td>&hellip;</td><td>&hellip;</td><td>&hellip;</td><td>&hellip;</td><td>&hellip;</td><td>&hellip;</td></tr><tr><td>&quot;ZYNE&quot;</td><td>12.09</td><td>&quot;put&quot;</td><td>2020-01-17</td><td>2018-01-31</td><td>20.0</td><td>10.9</td><td>8.8</td><td>11.0</td><td>0</td><td>0.6282</td></tr><tr><td>&quot;ZYNE&quot;</td><td>12.09</td><td>&quot;call&quot;</td><td>2020-01-17</td><td>2018-01-31</td><td>22.5</td><td>0.0</td><td>0.4</td><td>4.7</td><td>0</td><td>0.701</td></tr><tr><td>&quot;ZYNE&quot;</td><td>12.09</td><td>&quot;put&quot;</td><td>2020-01-17</td><td>2018-01-31</td><td>22.5</td><td>0.0</td><td>10.5</td><td>13.4</td><td>0</td><td>0.607</td></tr><tr><td>&quot;ZYNE&quot;</td><td>12.09</td><td>&quot;call&quot;</td><td>2020-01-17</td><td>2018-01-31</td><td>25.0</td><td>0.0</td><td>0.25</td><td>4.5</td><td>0</td><td>0.7057</td></tr><tr><td>&quot;ZYNE&quot;</td><td>12.09</td><td>&quot;put&quot;</td><td>2020-01-17</td><td>2018-01-31</td><td>25.0</td><td>0.0</td><td>13.0</td><td>16.1</td><td>0</td><td>0.607</td></tr></tbody></table></div>"
      ],
      "text/plain": [
       "shape: (17_675_339, 11)\n",
       "┌──────────────────┬─────────────────┬──────┬────────────┬───┬──────┬───────┬────────┬────────┐\n",
       "│ UnderlyingSymbol ┆ UnderlyingPrice ┆ Type ┆ Expiration ┆ … ┆ Bid  ┆ Ask   ┆ Volume ┆ IVMean │\n",
       "│ ---              ┆ ---             ┆ ---  ┆ ---        ┆   ┆ ---  ┆ ---   ┆ ---    ┆ ---    │\n",
       "│ str              ┆ f64             ┆ str  ┆ date       ┆   ┆ f64  ┆ f64   ┆ i64    ┆ f64    │\n",
       "╞══════════════════╪═════════════════╪══════╪════════════╪═══╪══════╪═══════╪════════╪════════╡\n",
       "│ A                ┆ 67.6            ┆ call ┆ 2018-01-19 ┆ … ┆ 45.6 ┆ 49.85 ┆ 0      ┆ 0.1777 │\n",
       "│ A                ┆ 67.6            ┆ put  ┆ 2018-01-19 ┆ … ┆ 0.0  ┆ 0.03  ┆ 0      ┆ 0.2776 │\n",
       "│ A                ┆ 67.6            ┆ call ┆ 2018-01-19 ┆ … ┆ 42.9 ┆ 47.35 ┆ 0      ┆ 0.1777 │\n",
       "│ A                ┆ 67.6            ┆ put  ┆ 2018-01-19 ┆ … ┆ 0.0  ┆ 0.03  ┆ 0      ┆ 0.2776 │\n",
       "│ A                ┆ 67.6            ┆ call ┆ 2018-01-19 ┆ … ┆ 40.3 ┆ 44.7  ┆ 0      ┆ 0.1777 │\n",
       "│ …                ┆ …               ┆ …    ┆ …          ┆ … ┆ …    ┆ …     ┆ …      ┆ …      │\n",
       "│ ZYNE             ┆ 12.09           ┆ put  ┆ 2020-01-17 ┆ … ┆ 8.8  ┆ 11.0  ┆ 0      ┆ 0.6282 │\n",
       "│ ZYNE             ┆ 12.09           ┆ call ┆ 2020-01-17 ┆ … ┆ 0.4  ┆ 4.7   ┆ 0      ┆ 0.701  │\n",
       "│ ZYNE             ┆ 12.09           ┆ put  ┆ 2020-01-17 ┆ … ┆ 10.5 ┆ 13.4  ┆ 0      ┆ 0.607  │\n",
       "│ ZYNE             ┆ 12.09           ┆ call ┆ 2020-01-17 ┆ … ┆ 0.25 ┆ 4.5   ┆ 0      ┆ 0.7057 │\n",
       "│ ZYNE             ┆ 12.09           ┆ put  ┆ 2020-01-17 ┆ … ┆ 13.0 ┆ 16.1  ┆ 0      ┆ 0.607  │\n",
       "└──────────────────┴─────────────────┴──────┴────────────┴───┴──────┴───────┴────────┴────────┘"
      ]
     },
     "execution_count": null,
     "metadata": {},
     "output_type": "execute_result"
    }
   ],
   "source": [
    "df_delta_neutral = df_delta_neutral.with_columns(\n",
    "    Expiration = pl.col(\"Expiration\").str.to_date(format=\"%m/%d/%Y\"),\n",
    "    DataDate = pl.col(\"DataDate\").str.to_date(format=\"%m/%d/%Y\"),\n",
    ")\n",
    "df_delta_neutral"
   ]
  },
  {
   "cell_type": "markdown",
   "id": "e69b3dc4-9478-4ec2-a7f0-5fd56ef9f324",
   "metadata": {},
   "source": [
    "## `filter`"
   ]
  },
  {
   "cell_type": "markdown",
   "id": "e21bd242-3207-4e91-aad0-ca5cff10088a",
   "metadata": {},
   "source": [
    "The context `filter` filters the rows of a `DataFrame` based on one or more expressions that evaluate to the `Boolean` data type.\n",
    "\n",
    "To demonstrate the `filter` context let's read in a small `DataFrame` that contains the names of several `ETFs` that we want to filter for."
   ]
  },
  {
   "cell_type": "code",
   "execution_count": null,
   "id": "27eb3875-ff93-4847-b3b7-fede42cb5106",
   "metadata": {},
   "outputs": [
    {
     "data": {
      "text/html": [
       "<div><style>\n",
       ".dataframe > thead > tr,\n",
       ".dataframe > tbody > tr {\n",
       "  text-align: right;\n",
       "  white-space: pre-wrap;\n",
       "}\n",
       "</style>\n",
       "<small>shape: (5, 1)</small><table border=\"1\" class=\"dataframe\"><thead><tr><th>underlying</th></tr><tr><td>str</td></tr></thead><tbody><tr><td>&quot;DIA&quot;</td></tr><tr><td>&quot;IWM&quot;</td></tr><tr><td>&quot;QQQ&quot;</td></tr><tr><td>&quot;SPY&quot;</td></tr><tr><td>&quot;EEM&quot;</td></tr></tbody></table></div>"
      ],
      "text/plain": [
       "shape: (5, 1)\n",
       "┌────────────┐\n",
       "│ underlying │\n",
       "│ ---        │\n",
       "│ str        │\n",
       "╞════════════╡\n",
       "│ DIA        │\n",
       "│ IWM        │\n",
       "│ QQQ        │\n",
       "│ SPY        │\n",
       "│ EEM        │\n",
       "└────────────┘"
      ]
     },
     "execution_count": null,
     "metadata": {},
     "output_type": "execute_result"
    }
   ],
   "source": [
    "df_universe = pl.read_csv(\"data/universe_symbols.csv\")\n",
    "df_universe.head()"
   ]
  },
  {
   "cell_type": "markdown",
   "id": "5dc04d3a-c654-44cb-84df-a7b3e359c5a1",
   "metadata": {},
   "source": [
    "The following code filters for these particular underlyings."
   ]
  },
  {
   "cell_type": "code",
   "execution_count": null,
   "id": "24ca389a-48bf-44f8-b9a6-b5692ce075d6",
   "metadata": {},
   "outputs": [
    {
     "data": {
      "text/html": [
       "<div><style>\n",
       ".dataframe > thead > tr,\n",
       ".dataframe > tbody > tr {\n",
       "  text-align: right;\n",
       "  white-space: pre-wrap;\n",
       "}\n",
       "</style>\n",
       "<small>shape: (967_200, 11)</small><table border=\"1\" class=\"dataframe\"><thead><tr><th>UnderlyingSymbol</th><th>UnderlyingPrice</th><th>Type</th><th>Expiration</th><th>DataDate</th><th>Strike</th><th>Last</th><th>Bid</th><th>Ask</th><th>Volume</th><th>IVMean</th></tr><tr><td>str</td><td>f64</td><td>str</td><td>date</td><td>date</td><td>f64</td><td>f64</td><td>f64</td><td>f64</td><td>i64</td><td>f64</td></tr></thead><tbody><tr><td>&quot;DIA&quot;</td><td>248.02</td><td>&quot;call&quot;</td><td>2018-01-05</td><td>2018-01-02</td><td>200.0</td><td>0.0</td><td>47.65</td><td>48.15</td><td>0</td><td>0.0841</td></tr><tr><td>&quot;DIA&quot;</td><td>248.02</td><td>&quot;put&quot;</td><td>2018-01-05</td><td>2018-01-02</td><td>200.0</td><td>0.01</td><td>0.0</td><td>0.02</td><td>0</td><td>0.1593</td></tr><tr><td>&quot;DIA&quot;</td><td>248.02</td><td>&quot;call&quot;</td><td>2018-01-05</td><td>2018-01-02</td><td>202.5</td><td>0.0</td><td>45.15</td><td>45.65</td><td>0</td><td>0.0841</td></tr><tr><td>&quot;DIA&quot;</td><td>248.02</td><td>&quot;put&quot;</td><td>2018-01-05</td><td>2018-01-02</td><td>202.5</td><td>0.0</td><td>0.0</td><td>0.06</td><td>0</td><td>0.1593</td></tr><tr><td>&quot;DIA&quot;</td><td>248.02</td><td>&quot;call&quot;</td><td>2018-01-05</td><td>2018-01-02</td><td>205.0</td><td>0.0</td><td>42.65</td><td>43.15</td><td>0</td><td>0.0841</td></tr><tr><td>&hellip;</td><td>&hellip;</td><td>&hellip;</td><td>&hellip;</td><td>&hellip;</td><td>&hellip;</td><td>&hellip;</td><td>&hellip;</td><td>&hellip;</td><td>&hellip;</td><td>&hellip;</td></tr><tr><td>&quot;XRT&quot;</td><td>47.22</td><td>&quot;put&quot;</td><td>2020-01-17</td><td>2018-01-31</td><td>52.0</td><td>0.0</td><td>7.8</td><td>8.45</td><td>0</td><td>0.2297</td></tr><tr><td>&quot;XRT&quot;</td><td>47.22</td><td>&quot;call&quot;</td><td>2020-01-17</td><td>2018-01-31</td><td>53.0</td><td>0.0</td><td>3.1</td><td>4.5</td><td>0</td><td>0.2089</td></tr><tr><td>&quot;XRT&quot;</td><td>47.22</td><td>&quot;put&quot;</td><td>2020-01-17</td><td>2018-01-31</td><td>53.0</td><td>0.0</td><td>8.35</td><td>9.1</td><td>0</td><td>0.2281</td></tr><tr><td>&quot;XRT&quot;</td><td>47.22</td><td>&quot;call&quot;</td><td>2020-01-17</td><td>2018-01-31</td><td>55.0</td><td>3.78</td><td>2.44</td><td>3.5</td><td>0</td><td>0.1994</td></tr><tr><td>&quot;XRT&quot;</td><td>47.22</td><td>&quot;put&quot;</td><td>2020-01-17</td><td>2018-01-31</td><td>55.0</td><td>0.0</td><td>9.5</td><td>10.6</td><td>0</td><td>0.2272</td></tr></tbody></table></div>"
      ],
      "text/plain": [
       "shape: (967_200, 11)\n",
       "┌──────────────────┬─────────────────┬──────┬────────────┬───┬───────┬───────┬────────┬────────┐\n",
       "│ UnderlyingSymbol ┆ UnderlyingPrice ┆ Type ┆ Expiration ┆ … ┆ Bid   ┆ Ask   ┆ Volume ┆ IVMean │\n",
       "│ ---              ┆ ---             ┆ ---  ┆ ---        ┆   ┆ ---   ┆ ---   ┆ ---    ┆ ---    │\n",
       "│ str              ┆ f64             ┆ str  ┆ date       ┆   ┆ f64   ┆ f64   ┆ i64    ┆ f64    │\n",
       "╞══════════════════╪═════════════════╪══════╪════════════╪═══╪═══════╪═══════╪════════╪════════╡\n",
       "│ DIA              ┆ 248.02          ┆ call ┆ 2018-01-05 ┆ … ┆ 47.65 ┆ 48.15 ┆ 0      ┆ 0.0841 │\n",
       "│ DIA              ┆ 248.02          ┆ put  ┆ 2018-01-05 ┆ … ┆ 0.0   ┆ 0.02  ┆ 0      ┆ 0.1593 │\n",
       "│ DIA              ┆ 248.02          ┆ call ┆ 2018-01-05 ┆ … ┆ 45.15 ┆ 45.65 ┆ 0      ┆ 0.0841 │\n",
       "│ DIA              ┆ 248.02          ┆ put  ┆ 2018-01-05 ┆ … ┆ 0.0   ┆ 0.06  ┆ 0      ┆ 0.1593 │\n",
       "│ DIA              ┆ 248.02          ┆ call ┆ 2018-01-05 ┆ … ┆ 42.65 ┆ 43.15 ┆ 0      ┆ 0.0841 │\n",
       "│ …                ┆ …               ┆ …    ┆ …          ┆ … ┆ …     ┆ …     ┆ …      ┆ …      │\n",
       "│ XRT              ┆ 47.22           ┆ put  ┆ 2020-01-17 ┆ … ┆ 7.8   ┆ 8.45  ┆ 0      ┆ 0.2297 │\n",
       "│ XRT              ┆ 47.22           ┆ call ┆ 2020-01-17 ┆ … ┆ 3.1   ┆ 4.5   ┆ 0      ┆ 0.2089 │\n",
       "│ XRT              ┆ 47.22           ┆ put  ┆ 2020-01-17 ┆ … ┆ 8.35  ┆ 9.1   ┆ 0      ┆ 0.2281 │\n",
       "│ XRT              ┆ 47.22           ┆ call ┆ 2020-01-17 ┆ … ┆ 2.44  ┆ 3.5   ┆ 0      ┆ 0.1994 │\n",
       "│ XRT              ┆ 47.22           ┆ put  ┆ 2020-01-17 ┆ … ┆ 9.5   ┆ 10.6  ┆ 0      ┆ 0.2272 │\n",
       "└──────────────────┴─────────────────┴──────┴────────────┴───┴───────┴───────┴────────┴────────┘"
      ]
     },
     "execution_count": null,
     "metadata": {},
     "output_type": "execute_result"
    }
   ],
   "source": [
    "df_delta_neutral.filter(\n",
    "    pl.col(\"UnderlyingSymbol\").is_in(df_universe.get_column(\"underlying\"))\n",
    ")"
   ]
  },
  {
   "cell_type": "markdown",
   "id": "2093e973-aaf7-4322-8fab-296ce9d2fa76",
   "metadata": {},
   "source": [
    "## Exporting to a **pandas** `DataFrame`"
   ]
  },
  {
   "cell_type": "markdown",
   "id": "211ae49d-8bbe-4da1-b710-eb43dd174c1b",
   "metadata": {},
   "source": [
    "The following code uses the `filter` context to grab OTM options for a particular expiration of `SPY`."
   ]
  },
  {
   "cell_type": "code",
   "execution_count": null,
   "id": "1efed31f-c6cf-442e-808c-a1aefe2f2d67",
   "metadata": {},
   "outputs": [
    {
     "data": {
      "text/html": [
       "<div><style>\n",
       ".dataframe > thead > tr,\n",
       ".dataframe > tbody > tr {\n",
       "  text-align: right;\n",
       "  white-space: pre-wrap;\n",
       "}\n",
       "</style>\n",
       "<small>shape: (65, 11)</small><table border=\"1\" class=\"dataframe\"><thead><tr><th>UnderlyingSymbol</th><th>UnderlyingPrice</th><th>Type</th><th>Expiration</th><th>DataDate</th><th>Strike</th><th>Last</th><th>Bid</th><th>Ask</th><th>Volume</th><th>IVMean</th></tr><tr><td>str</td><td>f64</td><td>str</td><td>date</td><td>date</td><td>f64</td><td>f64</td><td>f64</td><td>f64</td><td>i64</td><td>f64</td></tr></thead><tbody><tr><td>&quot;SPY&quot;</td><td>268.77</td><td>&quot;put&quot;</td><td>2018-01-19</td><td>2018-01-02</td><td>232.0</td><td>0.04</td><td>0.04</td><td>0.05</td><td>687</td><td>0.2934</td></tr><tr><td>&quot;SPY&quot;</td><td>268.77</td><td>&quot;put&quot;</td><td>2018-01-19</td><td>2018-01-02</td><td>233.0</td><td>0.05</td><td>0.04</td><td>0.05</td><td>13</td><td>0.2859</td></tr><tr><td>&quot;SPY&quot;</td><td>268.77</td><td>&quot;put&quot;</td><td>2018-01-19</td><td>2018-01-02</td><td>234.0</td><td>0.04</td><td>0.04</td><td>0.05</td><td>5</td><td>0.2783</td></tr><tr><td>&quot;SPY&quot;</td><td>268.77</td><td>&quot;put&quot;</td><td>2018-01-19</td><td>2018-01-02</td><td>235.0</td><td>0.05</td><td>0.05</td><td>0.06</td><td>2631</td><td>0.2778</td></tr><tr><td>&quot;SPY&quot;</td><td>268.77</td><td>&quot;put&quot;</td><td>2018-01-19</td><td>2018-01-02</td><td>236.0</td><td>0.07</td><td>0.05</td><td>0.06</td><td>755</td><td>0.2701</td></tr><tr><td>&hellip;</td><td>&hellip;</td><td>&hellip;</td><td>&hellip;</td><td>&hellip;</td><td>&hellip;</td><td>&hellip;</td><td>&hellip;</td><td>&hellip;</td><td>&hellip;</td><td>&hellip;</td></tr><tr><td>&quot;SPY&quot;</td><td>268.77</td><td>&quot;call&quot;</td><td>2018-01-19</td><td>2018-01-02</td><td>273.0</td><td>0.17</td><td>0.17</td><td>0.18</td><td>3135</td><td>0.0579</td></tr><tr><td>&quot;SPY&quot;</td><td>268.77</td><td>&quot;call&quot;</td><td>2018-01-19</td><td>2018-01-02</td><td>273.5</td><td>0.15</td><td>0.12</td><td>0.13</td><td>500</td><td>0.0577</td></tr><tr><td>&quot;SPY&quot;</td><td>268.77</td><td>&quot;call&quot;</td><td>2018-01-19</td><td>2018-01-02</td><td>274.0</td><td>0.1</td><td>0.09</td><td>0.1</td><td>577</td><td>0.0588</td></tr><tr><td>&quot;SPY&quot;</td><td>268.77</td><td>&quot;call&quot;</td><td>2018-01-19</td><td>2018-01-02</td><td>274.5</td><td>0.06</td><td>0.06</td><td>0.07</td><td>2605</td><td>0.0584</td></tr><tr><td>&quot;SPY&quot;</td><td>268.77</td><td>&quot;call&quot;</td><td>2018-01-19</td><td>2018-01-02</td><td>275.0</td><td>0.03</td><td>0.04</td><td>0.05</td><td>35213</td><td>0.058</td></tr></tbody></table></div>"
      ],
      "text/plain": [
       "shape: (65, 11)\n",
       "┌──────────────────┬─────────────────┬──────┬────────────┬───┬──────┬──────┬────────┬────────┐\n",
       "│ UnderlyingSymbol ┆ UnderlyingPrice ┆ Type ┆ Expiration ┆ … ┆ Bid  ┆ Ask  ┆ Volume ┆ IVMean │\n",
       "│ ---              ┆ ---             ┆ ---  ┆ ---        ┆   ┆ ---  ┆ ---  ┆ ---    ┆ ---    │\n",
       "│ str              ┆ f64             ┆ str  ┆ date       ┆   ┆ f64  ┆ f64  ┆ i64    ┆ f64    │\n",
       "╞══════════════════╪═════════════════╪══════╪════════════╪═══╪══════╪══════╪════════╪════════╡\n",
       "│ SPY              ┆ 268.77          ┆ put  ┆ 2018-01-19 ┆ … ┆ 0.04 ┆ 0.05 ┆ 687    ┆ 0.2934 │\n",
       "│ SPY              ┆ 268.77          ┆ put  ┆ 2018-01-19 ┆ … ┆ 0.04 ┆ 0.05 ┆ 13     ┆ 0.2859 │\n",
       "│ SPY              ┆ 268.77          ┆ put  ┆ 2018-01-19 ┆ … ┆ 0.04 ┆ 0.05 ┆ 5      ┆ 0.2783 │\n",
       "│ SPY              ┆ 268.77          ┆ put  ┆ 2018-01-19 ┆ … ┆ 0.05 ┆ 0.06 ┆ 2631   ┆ 0.2778 │\n",
       "│ SPY              ┆ 268.77          ┆ put  ┆ 2018-01-19 ┆ … ┆ 0.05 ┆ 0.06 ┆ 755    ┆ 0.2701 │\n",
       "│ …                ┆ …               ┆ …    ┆ …          ┆ … ┆ …    ┆ …    ┆ …      ┆ …      │\n",
       "│ SPY              ┆ 268.77          ┆ call ┆ 2018-01-19 ┆ … ┆ 0.17 ┆ 0.18 ┆ 3135   ┆ 0.0579 │\n",
       "│ SPY              ┆ 268.77          ┆ call ┆ 2018-01-19 ┆ … ┆ 0.12 ┆ 0.13 ┆ 500    ┆ 0.0577 │\n",
       "│ SPY              ┆ 268.77          ┆ call ┆ 2018-01-19 ┆ … ┆ 0.09 ┆ 0.1  ┆ 577    ┆ 0.0588 │\n",
       "│ SPY              ┆ 268.77          ┆ call ┆ 2018-01-19 ┆ … ┆ 0.06 ┆ 0.07 ┆ 2605   ┆ 0.0584 │\n",
       "│ SPY              ┆ 268.77          ┆ call ┆ 2018-01-19 ┆ … ┆ 0.04 ┆ 0.05 ┆ 35213  ┆ 0.058  │\n",
       "└──────────────────┴─────────────────┴──────┴────────────┴───┴──────┴──────┴────────┴────────┘"
      ]
     },
     "execution_count": null,
     "metadata": {},
     "output_type": "execute_result"
    }
   ],
   "source": [
    "df_delta_neutral.filter(\n",
    "    pl.col(\"UnderlyingSymbol\") == \"SPY\",\n",
    "    pl.col(\"DataDate\") == datetime(2018, 1, 2),\n",
    "    pl.col(\"Expiration\") == datetime(2018, 1, 19),\n",
    "    (pl.col(\"Type\") == \"call\") & (pl.col(\"Strike\") >= pl.col(\"UnderlyingPrice\")) | (pl.col(\"Type\") == \"put\") & (pl.col(\"Strike\") < pl.col(\"UnderlyingPrice\")),\n",
    "    (pl.col(\"Bid\") + pl.col(\"Ask\") / 2) > 0.05\n",
    ")"
   ]
  },
  {
   "cell_type": "markdown",
   "id": "159956d9-65dc-4753-ba52-3b216f691de2",
   "metadata": {},
   "source": [
    "We can convert any **polars** `DataFrame` as a **pandas** `DataFrame`.  This means that it's not really and either-or decision of using **polars** vs **pandas**.  You will likely use the two packages in concert with one another, which makes a lot of sense because **pandas** is the much more mature package and has lots of functionality that **polars** does not. "
   ]
  },
  {
   "cell_type": "code",
   "execution_count": null,
   "id": "6e96b302-edda-4539-a9f3-bc8aeefc9838",
   "metadata": {},
   "outputs": [
    {
     "data": {
      "text/html": [
       "<div>\n",
       "<style scoped>\n",
       "    .dataframe tbody tr th:only-of-type {\n",
       "        vertical-align: middle;\n",
       "    }\n",
       "\n",
       "    .dataframe tbody tr th {\n",
       "        vertical-align: top;\n",
       "    }\n",
       "\n",
       "    .dataframe thead th {\n",
       "        text-align: right;\n",
       "    }\n",
       "</style>\n",
       "<table border=\"1\" class=\"dataframe\">\n",
       "  <thead>\n",
       "    <tr style=\"text-align: right;\">\n",
       "      <th></th>\n",
       "      <th>UnderlyingSymbol</th>\n",
       "      <th>UnderlyingPrice</th>\n",
       "      <th>Type</th>\n",
       "      <th>Expiration</th>\n",
       "      <th>DataDate</th>\n",
       "      <th>Strike</th>\n",
       "      <th>Last</th>\n",
       "      <th>Bid</th>\n",
       "      <th>Ask</th>\n",
       "      <th>Volume</th>\n",
       "      <th>IVMean</th>\n",
       "    </tr>\n",
       "  </thead>\n",
       "  <tbody>\n",
       "    <tr>\n",
       "      <th>0</th>\n",
       "      <td>SPY</td>\n",
       "      <td>268.77</td>\n",
       "      <td>put</td>\n",
       "      <td>2018-01-19</td>\n",
       "      <td>2018-01-02</td>\n",
       "      <td>232.0</td>\n",
       "      <td>0.04</td>\n",
       "      <td>0.04</td>\n",
       "      <td>0.05</td>\n",
       "      <td>687</td>\n",
       "      <td>0.2934</td>\n",
       "    </tr>\n",
       "    <tr>\n",
       "      <th>1</th>\n",
       "      <td>SPY</td>\n",
       "      <td>268.77</td>\n",
       "      <td>put</td>\n",
       "      <td>2018-01-19</td>\n",
       "      <td>2018-01-02</td>\n",
       "      <td>233.0</td>\n",
       "      <td>0.05</td>\n",
       "      <td>0.04</td>\n",
       "      <td>0.05</td>\n",
       "      <td>13</td>\n",
       "      <td>0.2859</td>\n",
       "    </tr>\n",
       "    <tr>\n",
       "      <th>2</th>\n",
       "      <td>SPY</td>\n",
       "      <td>268.77</td>\n",
       "      <td>put</td>\n",
       "      <td>2018-01-19</td>\n",
       "      <td>2018-01-02</td>\n",
       "      <td>234.0</td>\n",
       "      <td>0.04</td>\n",
       "      <td>0.04</td>\n",
       "      <td>0.05</td>\n",
       "      <td>5</td>\n",
       "      <td>0.2783</td>\n",
       "    </tr>\n",
       "    <tr>\n",
       "      <th>3</th>\n",
       "      <td>SPY</td>\n",
       "      <td>268.77</td>\n",
       "      <td>put</td>\n",
       "      <td>2018-01-19</td>\n",
       "      <td>2018-01-02</td>\n",
       "      <td>235.0</td>\n",
       "      <td>0.05</td>\n",
       "      <td>0.05</td>\n",
       "      <td>0.06</td>\n",
       "      <td>2631</td>\n",
       "      <td>0.2778</td>\n",
       "    </tr>\n",
       "    <tr>\n",
       "      <th>4</th>\n",
       "      <td>SPY</td>\n",
       "      <td>268.77</td>\n",
       "      <td>put</td>\n",
       "      <td>2018-01-19</td>\n",
       "      <td>2018-01-02</td>\n",
       "      <td>236.0</td>\n",
       "      <td>0.07</td>\n",
       "      <td>0.05</td>\n",
       "      <td>0.06</td>\n",
       "      <td>755</td>\n",
       "      <td>0.2701</td>\n",
       "    </tr>\n",
       "    <tr>\n",
       "      <th>...</th>\n",
       "      <td>...</td>\n",
       "      <td>...</td>\n",
       "      <td>...</td>\n",
       "      <td>...</td>\n",
       "      <td>...</td>\n",
       "      <td>...</td>\n",
       "      <td>...</td>\n",
       "      <td>...</td>\n",
       "      <td>...</td>\n",
       "      <td>...</td>\n",
       "      <td>...</td>\n",
       "    </tr>\n",
       "    <tr>\n",
       "      <th>60</th>\n",
       "      <td>SPY</td>\n",
       "      <td>268.77</td>\n",
       "      <td>call</td>\n",
       "      <td>2018-01-19</td>\n",
       "      <td>2018-01-02</td>\n",
       "      <td>273.0</td>\n",
       "      <td>0.17</td>\n",
       "      <td>0.17</td>\n",
       "      <td>0.18</td>\n",
       "      <td>3135</td>\n",
       "      <td>0.0579</td>\n",
       "    </tr>\n",
       "    <tr>\n",
       "      <th>61</th>\n",
       "      <td>SPY</td>\n",
       "      <td>268.77</td>\n",
       "      <td>call</td>\n",
       "      <td>2018-01-19</td>\n",
       "      <td>2018-01-02</td>\n",
       "      <td>273.5</td>\n",
       "      <td>0.15</td>\n",
       "      <td>0.12</td>\n",
       "      <td>0.13</td>\n",
       "      <td>500</td>\n",
       "      <td>0.0577</td>\n",
       "    </tr>\n",
       "    <tr>\n",
       "      <th>62</th>\n",
       "      <td>SPY</td>\n",
       "      <td>268.77</td>\n",
       "      <td>call</td>\n",
       "      <td>2018-01-19</td>\n",
       "      <td>2018-01-02</td>\n",
       "      <td>274.0</td>\n",
       "      <td>0.10</td>\n",
       "      <td>0.09</td>\n",
       "      <td>0.10</td>\n",
       "      <td>577</td>\n",
       "      <td>0.0588</td>\n",
       "    </tr>\n",
       "    <tr>\n",
       "      <th>63</th>\n",
       "      <td>SPY</td>\n",
       "      <td>268.77</td>\n",
       "      <td>call</td>\n",
       "      <td>2018-01-19</td>\n",
       "      <td>2018-01-02</td>\n",
       "      <td>274.5</td>\n",
       "      <td>0.06</td>\n",
       "      <td>0.06</td>\n",
       "      <td>0.07</td>\n",
       "      <td>2605</td>\n",
       "      <td>0.0584</td>\n",
       "    </tr>\n",
       "    <tr>\n",
       "      <th>64</th>\n",
       "      <td>SPY</td>\n",
       "      <td>268.77</td>\n",
       "      <td>call</td>\n",
       "      <td>2018-01-19</td>\n",
       "      <td>2018-01-02</td>\n",
       "      <td>275.0</td>\n",
       "      <td>0.03</td>\n",
       "      <td>0.04</td>\n",
       "      <td>0.05</td>\n",
       "      <td>35213</td>\n",
       "      <td>0.0580</td>\n",
       "    </tr>\n",
       "  </tbody>\n",
       "</table>\n",
       "<p>65 rows × 11 columns</p>\n",
       "</div>"
      ],
      "text/plain": [
       "   UnderlyingSymbol  UnderlyingPrice  Type Expiration   DataDate  Strike   \n",
       "0               SPY           268.77   put 2018-01-19 2018-01-02   232.0  \\\n",
       "1               SPY           268.77   put 2018-01-19 2018-01-02   233.0   \n",
       "2               SPY           268.77   put 2018-01-19 2018-01-02   234.0   \n",
       "3               SPY           268.77   put 2018-01-19 2018-01-02   235.0   \n",
       "4               SPY           268.77   put 2018-01-19 2018-01-02   236.0   \n",
       "..              ...              ...   ...        ...        ...     ...   \n",
       "60              SPY           268.77  call 2018-01-19 2018-01-02   273.0   \n",
       "61              SPY           268.77  call 2018-01-19 2018-01-02   273.5   \n",
       "62              SPY           268.77  call 2018-01-19 2018-01-02   274.0   \n",
       "63              SPY           268.77  call 2018-01-19 2018-01-02   274.5   \n",
       "64              SPY           268.77  call 2018-01-19 2018-01-02   275.0   \n",
       "\n",
       "    Last   Bid   Ask  Volume  IVMean  \n",
       "0   0.04  0.04  0.05     687  0.2934  \n",
       "1   0.05  0.04  0.05      13  0.2859  \n",
       "2   0.04  0.04  0.05       5  0.2783  \n",
       "3   0.05  0.05  0.06    2631  0.2778  \n",
       "4   0.07  0.05  0.06     755  0.2701  \n",
       "..   ...   ...   ...     ...     ...  \n",
       "60  0.17  0.17  0.18    3135  0.0579  \n",
       "61  0.15  0.12  0.13     500  0.0577  \n",
       "62  0.10  0.09  0.10     577  0.0588  \n",
       "63  0.06  0.06  0.07    2605  0.0584  \n",
       "64  0.03  0.04  0.05   35213  0.0580  \n",
       "\n",
       "[65 rows x 11 columns]"
      ]
     },
     "execution_count": null,
     "metadata": {},
     "output_type": "execute_result"
    }
   ],
   "source": [
    "df_pandas = df_delta_neutral.filter(\n",
    "    pl.col(\"UnderlyingSymbol\") == \"SPY\",\n",
    "    pl.col(\"DataDate\") == datetime(2018, 1, 2),\n",
    "    pl.col(\"Expiration\") == datetime(2018, 1, 19),\n",
    "    (pl.col(\"Type\") == \"call\") & (pl.col(\"Strike\") >= pl.col(\"UnderlyingPrice\")) | (pl.col(\"Type\") == \"put\") & (pl.col(\"Strike\") < pl.col(\"UnderlyingPrice\")),\n",
    "    (pl.col(\"Bid\") + pl.col(\"Ask\") / 2) > 0.05\n",
    ").to_pandas()\n",
    "\n",
    "df_pandas"
   ]
  },
  {
   "cell_type": "markdown",
   "id": "927b557d-c2c0-4bc9-9a3c-44fc769413d8",
   "metadata": {},
   "source": [
    "Now that we have a **pandas** `DataFrame` we can use the `.plot()` function create quick visualizations."
   ]
  },
  {
   "cell_type": "code",
   "execution_count": null,
   "id": "931931af-b0d9-44d5-9ec1-76d49ead3445",
   "metadata": {},
   "outputs": [
    {
     "data": {
      "image/png": "[encoded data removed]",
      "text/plain": [
       "<Figure size 640x480 with 1 Axes>"
      ]
     },
     "metadata": {},
     "output_type": "display_data"
    }
   ],
   "source": [
    "df_pandas.plot(x=\"Strike\", y=\"IVMean\");"
   ]
  },
  {
   "cell_type": "markdown",
   "id": "b99610fd-adbe-4cc6-9254-58774cbd478f",
   "metadata": {},
   "source": [
    "## Filtering Using a `.join()`"
   ]
  },
  {
   "cell_type": "markdown",
   "id": "d1c6bbf4-0219-459e-a70d-6c22c0853439",
   "metadata": {},
   "source": [
    "The **polars** package has a variety of joining functionality as well that can be accessed with the `DataFrame.join()` method.  Here we use an inner-join to perform the same filtering that we performed above."
   ]
  },
  {
   "cell_type": "code",
   "execution_count": null,
   "id": "d458a665-2914-42b3-9fd8-8dc5240d747c",
   "metadata": {},
   "outputs": [
    {
     "data": {
      "text/html": [
       "<div><style>\n",
       ".dataframe > thead > tr,\n",
       ".dataframe > tbody > tr {\n",
       "  text-align: right;\n",
       "  white-space: pre-wrap;\n",
       "}\n",
       "</style>\n",
       "<small>shape: (967_200, 11)</small><table border=\"1\" class=\"dataframe\"><thead><tr><th>UnderlyingSymbol</th><th>UnderlyingPrice</th><th>Type</th><th>Expiration</th><th>DataDate</th><th>Strike</th><th>Last</th><th>Bid</th><th>Ask</th><th>Volume</th><th>IVMean</th></tr><tr><td>str</td><td>f64</td><td>str</td><td>date</td><td>date</td><td>f64</td><td>f64</td><td>f64</td><td>f64</td><td>i64</td><td>f64</td></tr></thead><tbody><tr><td>&quot;DIA&quot;</td><td>248.02</td><td>&quot;call&quot;</td><td>2018-01-05</td><td>2018-01-02</td><td>200.0</td><td>0.0</td><td>47.65</td><td>48.15</td><td>0</td><td>0.0841</td></tr><tr><td>&quot;DIA&quot;</td><td>248.02</td><td>&quot;put&quot;</td><td>2018-01-05</td><td>2018-01-02</td><td>200.0</td><td>0.01</td><td>0.0</td><td>0.02</td><td>0</td><td>0.1593</td></tr><tr><td>&quot;DIA&quot;</td><td>248.02</td><td>&quot;call&quot;</td><td>2018-01-05</td><td>2018-01-02</td><td>202.5</td><td>0.0</td><td>45.15</td><td>45.65</td><td>0</td><td>0.0841</td></tr><tr><td>&quot;DIA&quot;</td><td>248.02</td><td>&quot;put&quot;</td><td>2018-01-05</td><td>2018-01-02</td><td>202.5</td><td>0.0</td><td>0.0</td><td>0.06</td><td>0</td><td>0.1593</td></tr><tr><td>&quot;DIA&quot;</td><td>248.02</td><td>&quot;call&quot;</td><td>2018-01-05</td><td>2018-01-02</td><td>205.0</td><td>0.0</td><td>42.65</td><td>43.15</td><td>0</td><td>0.0841</td></tr><tr><td>&hellip;</td><td>&hellip;</td><td>&hellip;</td><td>&hellip;</td><td>&hellip;</td><td>&hellip;</td><td>&hellip;</td><td>&hellip;</td><td>&hellip;</td><td>&hellip;</td><td>&hellip;</td></tr><tr><td>&quot;XRT&quot;</td><td>47.22</td><td>&quot;put&quot;</td><td>2020-01-17</td><td>2018-01-31</td><td>52.0</td><td>0.0</td><td>7.8</td><td>8.45</td><td>0</td><td>0.2297</td></tr><tr><td>&quot;XRT&quot;</td><td>47.22</td><td>&quot;call&quot;</td><td>2020-01-17</td><td>2018-01-31</td><td>53.0</td><td>0.0</td><td>3.1</td><td>4.5</td><td>0</td><td>0.2089</td></tr><tr><td>&quot;XRT&quot;</td><td>47.22</td><td>&quot;put&quot;</td><td>2020-01-17</td><td>2018-01-31</td><td>53.0</td><td>0.0</td><td>8.35</td><td>9.1</td><td>0</td><td>0.2281</td></tr><tr><td>&quot;XRT&quot;</td><td>47.22</td><td>&quot;call&quot;</td><td>2020-01-17</td><td>2018-01-31</td><td>55.0</td><td>3.78</td><td>2.44</td><td>3.5</td><td>0</td><td>0.1994</td></tr><tr><td>&quot;XRT&quot;</td><td>47.22</td><td>&quot;put&quot;</td><td>2020-01-17</td><td>2018-01-31</td><td>55.0</td><td>0.0</td><td>9.5</td><td>10.6</td><td>0</td><td>0.2272</td></tr></tbody></table></div>"
      ],
      "text/plain": [
       "shape: (967_200, 11)\n",
       "┌──────────────────┬─────────────────┬──────┬────────────┬───┬───────┬───────┬────────┬────────┐\n",
       "│ UnderlyingSymbol ┆ UnderlyingPrice ┆ Type ┆ Expiration ┆ … ┆ Bid   ┆ Ask   ┆ Volume ┆ IVMean │\n",
       "│ ---              ┆ ---             ┆ ---  ┆ ---        ┆   ┆ ---   ┆ ---   ┆ ---    ┆ ---    │\n",
       "│ str              ┆ f64             ┆ str  ┆ date       ┆   ┆ f64   ┆ f64   ┆ i64    ┆ f64    │\n",
       "╞══════════════════╪═════════════════╪══════╪════════════╪═══╪═══════╪═══════╪════════╪════════╡\n",
       "│ DIA              ┆ 248.02          ┆ call ┆ 2018-01-05 ┆ … ┆ 47.65 ┆ 48.15 ┆ 0      ┆ 0.0841 │\n",
       "│ DIA              ┆ 248.02          ┆ put  ┆ 2018-01-05 ┆ … ┆ 0.0   ┆ 0.02  ┆ 0      ┆ 0.1593 │\n",
       "│ DIA              ┆ 248.02          ┆ call ┆ 2018-01-05 ┆ … ┆ 45.15 ┆ 45.65 ┆ 0      ┆ 0.0841 │\n",
       "│ DIA              ┆ 248.02          ┆ put  ┆ 2018-01-05 ┆ … ┆ 0.0   ┆ 0.06  ┆ 0      ┆ 0.1593 │\n",
       "│ DIA              ┆ 248.02          ┆ call ┆ 2018-01-05 ┆ … ┆ 42.65 ┆ 43.15 ┆ 0      ┆ 0.0841 │\n",
       "│ …                ┆ …               ┆ …    ┆ …          ┆ … ┆ …     ┆ …     ┆ …      ┆ …      │\n",
       "│ XRT              ┆ 47.22           ┆ put  ┆ 2020-01-17 ┆ … ┆ 7.8   ┆ 8.45  ┆ 0      ┆ 0.2297 │\n",
       "│ XRT              ┆ 47.22           ┆ call ┆ 2020-01-17 ┆ … ┆ 3.1   ┆ 4.5   ┆ 0      ┆ 0.2089 │\n",
       "│ XRT              ┆ 47.22           ┆ put  ┆ 2020-01-17 ┆ … ┆ 8.35  ┆ 9.1   ┆ 0      ┆ 0.2281 │\n",
       "│ XRT              ┆ 47.22           ┆ call ┆ 2020-01-17 ┆ … ┆ 2.44  ┆ 3.5   ┆ 0      ┆ 0.1994 │\n",
       "│ XRT              ┆ 47.22           ┆ put  ┆ 2020-01-17 ┆ … ┆ 9.5   ┆ 10.6  ┆ 0      ┆ 0.2272 │\n",
       "└──────────────────┴─────────────────┴──────┴────────────┴───┴───────┴───────┴────────┴────────┘"
      ]
     },
     "execution_count": null,
     "metadata": {},
     "output_type": "execute_result"
    }
   ],
   "source": [
    "df_delta_neutral.join(df_universe, how=\"inner\", left_on=\"UnderlyingSymbol\", right_on=\"underlying\")"
   ]
  },
  {
   "cell_type": "markdown",
   "id": "9bfb0fe5-98de-4e7c-900d-94cf417b7e93",
   "metadata": {},
   "source": [
    "## `group_by` and Aggregations"
   ]
  },
  {
   "cell_type": "markdown",
   "id": "c9607270-88fc-4dce-a0d8-7e6309b73b79",
   "metadata": {},
   "source": [
    "In the context `group_by`, rows are grouped according to the unique values of the grouping expressions. You can then apply expressions to the resulting groups, which may be of variable lengths."
   ]
  },
  {
   "cell_type": "markdown",
   "id": "a5a3e9ac-cacc-4c68-9fde-698fa06bc0c5",
   "metadata": {},
   "source": [
    "The following code calculates the unique `Expirations` and the `total_volume` for each `Underlying`.  In addition, a `List` column is created that lists all the unique `Expirations` for each `Underlying`.  This demonstrates a column type that doesn't exist in **pandas** - similar column data types are `Arrays` and `Structs`.\n",
    "\n",
    "Also, notice the use of method chaining, which is very common in **polars** syntax."
   ]
  },
  {
   "cell_type": "code",
   "execution_count": null,
   "id": "e02bf935-9883-40c7-a789-c32de1dac9ef",
   "metadata": {},
   "outputs": [
    {
     "name": "stdout",
     "output_type": "stream",
     "text": [
      "CPU times: user 2.44 s, sys: 1.89 s, total: 4.33 s\n",
      "Wall time: 997 ms\n"
     ]
    },
    {
     "data": {
      "text/html": [
       "<div><style>\n",
       ".dataframe > thead > tr,\n",
       ".dataframe > tbody > tr {\n",
       "  text-align: right;\n",
       "  white-space: pre-wrap;\n",
       "}\n",
       "</style>\n",
       "<small>shape: (4_328, 4)</small><table border=\"1\" class=\"dataframe\"><thead><tr><th>UnderlyingSymbol</th><th>num_exp</th><th>expirations</th><th>total_volume</th></tr><tr><td>str</td><td>u32</td><td>list[date]</td><td>i32</td></tr></thead><tbody><tr><td>&quot;SPY&quot;</td><td>38</td><td>[2018-01-03, 2018-01-05, … 2020-12-18]</td><td>70556071</td></tr><tr><td>&quot;VIX&quot;</td><td>14</td><td>[2018-01-03, 2018-01-10, … 2018-07-18]</td><td>20688882</td></tr><tr><td>&quot;QQQ&quot;</td><td>21</td><td>[2018-01-05, 2018-01-12, … 2020-01-17]</td><td>18774095</td></tr><tr><td>&quot;SPXW&quot;</td><td>43</td><td>[2018-01-02, 2018-01-03, … 2018-12-31]</td><td>17576639</td></tr><tr><td>&quot;SPX&quot;</td><td>13</td><td>[2018-01-19, 2018-02-16, … 2020-12-18]</td><td>14087195</td></tr><tr><td>&hellip;</td><td>&hellip;</td><td>&hellip;</td><td>&hellip;</td></tr><tr><td>&quot;FALC&quot;</td><td>1</td><td>[2018-02-16]</td><td>0</td></tr><tr><td>&quot;EGI&quot;</td><td>5</td><td>[2018-01-19, 2018-02-16, … 2018-09-21]</td><td>0</td></tr><tr><td>&quot;USHY&quot;</td><td>5</td><td>[2018-01-19, 2018-02-16, … 2018-09-21]</td><td>0</td></tr><tr><td>&quot;ITM&quot;</td><td>5</td><td>[2018-01-19, 2018-02-16, … 2018-09-21]</td><td>0</td></tr><tr><td>&quot;RLG&quot;</td><td>5</td><td>[2018-01-19, 2018-02-16, … 2018-06-15]</td><td>0</td></tr></tbody></table></div>"
      ],
      "text/plain": [
       "shape: (4_328, 4)\n",
       "┌──────────────────┬─────────┬─────────────────────────────────┬──────────────┐\n",
       "│ UnderlyingSymbol ┆ num_exp ┆ expirations                     ┆ total_volume │\n",
       "│ ---              ┆ ---     ┆ ---                             ┆ ---          │\n",
       "│ str              ┆ u32     ┆ list[date]                      ┆ i32          │\n",
       "╞══════════════════╪═════════╪═════════════════════════════════╪══════════════╡\n",
       "│ SPY              ┆ 38      ┆ [2018-01-03, 2018-01-05, … 202… ┆ 70556071     │\n",
       "│ VIX              ┆ 14      ┆ [2018-01-03, 2018-01-10, … 201… ┆ 20688882     │\n",
       "│ QQQ              ┆ 21      ┆ [2018-01-05, 2018-01-12, … 202… ┆ 18774095     │\n",
       "│ SPXW             ┆ 43      ┆ [2018-01-02, 2018-01-03, … 201… ┆ 17576639     │\n",
       "│ SPX              ┆ 13      ┆ [2018-01-19, 2018-02-16, … 202… ┆ 14087195     │\n",
       "│ …                ┆ …       ┆ …                               ┆ …            │\n",
       "│ FALC             ┆ 1       ┆ [2018-02-16]                    ┆ 0            │\n",
       "│ EGI              ┆ 5       ┆ [2018-01-19, 2018-02-16, … 201… ┆ 0            │\n",
       "│ USHY             ┆ 5       ┆ [2018-01-19, 2018-02-16, … 201… ┆ 0            │\n",
       "│ ITM              ┆ 5       ┆ [2018-01-19, 2018-02-16, … 201… ┆ 0            │\n",
       "│ RLG              ┆ 5       ┆ [2018-01-19, 2018-02-16, … 201… ┆ 0            │\n",
       "└──────────────────┴─────────┴─────────────────────────────────┴──────────────┘"
      ]
     },
     "execution_count": null,
     "metadata": {},
     "output_type": "execute_result"
    }
   ],
   "source": [
    "%%time\n",
    "(\n",
    "df_delta_neutral\n",
    "    .group_by(\"UnderlyingSymbol\")\n",
    "    .agg(\n",
    "        pl.col(\"Expiration\").unique().count().alias(\"num_exp\"),\n",
    "        pl.col(\"Expiration\").unique().alias(\"expirations\"),\n",
    "        pl.col(\"Volume\").sum().cast(pl.Int32).alias(\"total_volume\")\n",
    "    )\n",
    ").sort(\"total_volume\", descending=True)"
   ]
  },
  {
   "cell_type": "markdown",
   "id": "bef46218-38e0-4cd1-b935-ccdc3a86215f",
   "metadata": {},
   "source": [
    "## Caclulating Monthly Returns"
   ]
  },
  {
   "cell_type": "markdown",
   "id": "07aa1120-c7f4-43cd-a318-bb78b095d14a",
   "metadata": {},
   "source": [
    "Let's now calculate daily and monthly returns for our underlyings using the some of the techniques we have explored thus far.  We begin by reading in the `stock_quote` data."
   ]
  },
  {
   "cell_type": "code",
   "execution_count": null,
   "id": "cb383aa5-8e4d-4626-9a92-417c4624b73e",
   "metadata": {},
   "outputs": [
    {
     "name": "stdout",
     "output_type": "stream",
     "text": [
      "CPU times: user 81.7 ms, sys: 17.3 ms, total: 99 ms\n",
      "Wall time: 34 ms\n"
     ]
    }
   ],
   "source": [
    "%%time\n",
    "df_upx = pl.read_csv(\"data/L3_2018_01/L3_stockquotes_*.csv\")\n",
    "cols_to_drop = [\"open\", \"high\", \"low\", \"volume\", \"adjustedclose\"]\n",
    "df_upx = df_upx.drop(cols_to_drop)"
   ]
  },
  {
   "cell_type": "markdown",
   "id": "682ee799-ed10-42e7-987f-4be4cbf14e44",
   "metadata": {},
   "source": [
    "Next, lets convert the `quote_date` column to a `Date`."
   ]
  },
  {
   "cell_type": "code",
   "execution_count": null,
   "id": "2904845e-cf9f-4fb4-a244-01bdeb8995e0",
   "metadata": {},
   "outputs": [
    {
     "data": {
      "text/html": [
       "<div><style>\n",
       ".dataframe > thead > tr,\n",
       ".dataframe > tbody > tr {\n",
       "  text-align: right;\n",
       "  white-space: pre-wrap;\n",
       "}\n",
       "</style>\n",
       "<small>shape: (88_116, 3)</small><table border=\"1\" class=\"dataframe\"><thead><tr><th>symbol</th><th>quotedate</th><th>close</th></tr><tr><td>str</td><td>date</td><td>f64</td></tr></thead><tbody><tr><td>&quot;A&quot;</td><td>2018-01-02</td><td>67.6</td></tr><tr><td>&quot;A&quot;</td><td>2018-01-03</td><td>69.32</td></tr><tr><td>&quot;A&quot;</td><td>2018-01-04</td><td>68.8</td></tr><tr><td>&quot;A&quot;</td><td>2018-01-05</td><td>69.9</td></tr><tr><td>&quot;A&quot;</td><td>2018-01-08</td><td>70.05</td></tr><tr><td>&hellip;</td><td>&hellip;</td><td>&hellip;</td></tr><tr><td>&quot;ZYNE&quot;</td><td>2018-01-25</td><td>11.5</td></tr><tr><td>&quot;ZYNE&quot;</td><td>2018-01-26</td><td>12.07</td></tr><tr><td>&quot;ZYNE&quot;</td><td>2018-01-29</td><td>12.8</td></tr><tr><td>&quot;ZYNE&quot;</td><td>2018-01-30</td><td>12.43</td></tr><tr><td>&quot;ZYNE&quot;</td><td>2018-01-31</td><td>12.09</td></tr></tbody></table></div>"
      ],
      "text/plain": [
       "shape: (88_116, 3)\n",
       "┌────────┬────────────┬───────┐\n",
       "│ symbol ┆ quotedate  ┆ close │\n",
       "│ ---    ┆ ---        ┆ ---   │\n",
       "│ str    ┆ date       ┆ f64   │\n",
       "╞════════╪════════════╪═══════╡\n",
       "│ A      ┆ 2018-01-02 ┆ 67.6  │\n",
       "│ A      ┆ 2018-01-03 ┆ 69.32 │\n",
       "│ A      ┆ 2018-01-04 ┆ 68.8  │\n",
       "│ A      ┆ 2018-01-05 ┆ 69.9  │\n",
       "│ A      ┆ 2018-01-08 ┆ 70.05 │\n",
       "│ …      ┆ …          ┆ …     │\n",
       "│ ZYNE   ┆ 2018-01-25 ┆ 11.5  │\n",
       "│ ZYNE   ┆ 2018-01-26 ┆ 12.07 │\n",
       "│ ZYNE   ┆ 2018-01-29 ┆ 12.8  │\n",
       "│ ZYNE   ┆ 2018-01-30 ┆ 12.43 │\n",
       "│ ZYNE   ┆ 2018-01-31 ┆ 12.09 │\n",
       "└────────┴────────────┴───────┘"
      ]
     },
     "execution_count": null,
     "metadata": {},
     "output_type": "execute_result"
    }
   ],
   "source": [
    "df_upx = df_upx.with_columns(\n",
    "    quotedate = pl.col(\"quotedate\").str.to_date(format=\"%m/%d/%Y\"),\n",
    ").sort([\"symbol\", \"quotedate\"])\n",
    "df_upx"
   ]
  },
  {
   "cell_type": "markdown",
   "id": "928239a3-1702-4ca5-ae13-2da0a8832297",
   "metadata": {},
   "source": [
    "We can use the `.pct_change()` method with the `.over()` method to calculate returns for each of the `symbols`."
   ]
  },
  {
   "cell_type": "code",
   "execution_count": null,
   "id": "eb023dd3-d127-4bc6-8766-9c7e6432fbbd",
   "metadata": {},
   "outputs": [
    {
     "data": {
      "text/html": [
       "<div><style>\n",
       ".dataframe > thead > tr,\n",
       ".dataframe > tbody > tr {\n",
       "  text-align: right;\n",
       "  white-space: pre-wrap;\n",
       "}\n",
       "</style>\n",
       "<small>shape: (88_116, 4)</small><table border=\"1\" class=\"dataframe\"><thead><tr><th>symbol</th><th>quotedate</th><th>close</th><th>return</th></tr><tr><td>str</td><td>date</td><td>f64</td><td>f64</td></tr></thead><tbody><tr><td>&quot;A&quot;</td><td>2018-01-02</td><td>67.6</td><td>null</td></tr><tr><td>&quot;A&quot;</td><td>2018-01-03</td><td>69.32</td><td>0.025444</td></tr><tr><td>&quot;A&quot;</td><td>2018-01-04</td><td>68.8</td><td>-0.007501</td></tr><tr><td>&quot;A&quot;</td><td>2018-01-05</td><td>69.9</td><td>0.015988</td></tr><tr><td>&quot;A&quot;</td><td>2018-01-08</td><td>70.05</td><td>0.002146</td></tr><tr><td>&hellip;</td><td>&hellip;</td><td>&hellip;</td><td>&hellip;</td></tr><tr><td>&quot;ZYNE&quot;</td><td>2018-01-25</td><td>11.5</td><td>-0.006908</td></tr><tr><td>&quot;ZYNE&quot;</td><td>2018-01-26</td><td>12.07</td><td>0.049565</td></tr><tr><td>&quot;ZYNE&quot;</td><td>2018-01-29</td><td>12.8</td><td>0.060481</td></tr><tr><td>&quot;ZYNE&quot;</td><td>2018-01-30</td><td>12.43</td><td>-0.028906</td></tr><tr><td>&quot;ZYNE&quot;</td><td>2018-01-31</td><td>12.09</td><td>-0.027353</td></tr></tbody></table></div>"
      ],
      "text/plain": [
       "shape: (88_116, 4)\n",
       "┌────────┬────────────┬───────┬───────────┐\n",
       "│ symbol ┆ quotedate  ┆ close ┆ return    │\n",
       "│ ---    ┆ ---        ┆ ---   ┆ ---       │\n",
       "│ str    ┆ date       ┆ f64   ┆ f64       │\n",
       "╞════════╪════════════╪═══════╪═══════════╡\n",
       "│ A      ┆ 2018-01-02 ┆ 67.6  ┆ null      │\n",
       "│ A      ┆ 2018-01-03 ┆ 69.32 ┆ 0.025444  │\n",
       "│ A      ┆ 2018-01-04 ┆ 68.8  ┆ -0.007501 │\n",
       "│ A      ┆ 2018-01-05 ┆ 69.9  ┆ 0.015988  │\n",
       "│ A      ┆ 2018-01-08 ┆ 70.05 ┆ 0.002146  │\n",
       "│ …      ┆ …          ┆ …     ┆ …         │\n",
       "│ ZYNE   ┆ 2018-01-25 ┆ 11.5  ┆ -0.006908 │\n",
       "│ ZYNE   ┆ 2018-01-26 ┆ 12.07 ┆ 0.049565  │\n",
       "│ ZYNE   ┆ 2018-01-29 ┆ 12.8  ┆ 0.060481  │\n",
       "│ ZYNE   ┆ 2018-01-30 ┆ 12.43 ┆ -0.028906 │\n",
       "│ ZYNE   ┆ 2018-01-31 ┆ 12.09 ┆ -0.027353 │\n",
       "└────────┴────────────┴───────┴───────────┘"
      ]
     },
     "execution_count": null,
     "metadata": {},
     "output_type": "execute_result"
    }
   ],
   "source": [
    "df_upx = df_upx.with_columns(\n",
    "    pl.col(\"close\").pct_change().over(\"symbol\").alias(\"return\")\n",
    ")\n",
    "df_upx"
   ]
  },
  {
   "cell_type": "markdown",
   "id": "09d89e91-f382-4ad8-b3ef-0349394d67d8",
   "metadata": {},
   "source": [
    "Now, we use aggregation in the `group_by` context to calculate monthly returns."
   ]
  },
  {
   "cell_type": "code",
   "execution_count": null,
   "id": "1877b5b9-b412-452a-b306-719e4e9cf016",
   "metadata": {},
   "outputs": [
    {
     "data": {
      "text/html": [
       "<div><style>\n",
       ".dataframe > thead > tr,\n",
       ".dataframe > tbody > tr {\n",
       "  text-align: right;\n",
       "  white-space: pre-wrap;\n",
       "}\n",
       "</style>\n",
       "<small>shape: (4_225, 2)</small><table border=\"1\" class=\"dataframe\"><thead><tr><th>symbol</th><th>monthy_return</th></tr><tr><td>str</td><td>f64</td></tr></thead><tbody><tr><td>&quot;EFAV&quot;</td><td>0.027694</td></tr><tr><td>&quot;IEO&quot;</td><td>0.008178</td></tr><tr><td>&quot;IJK&quot;</td><td>0.032184</td></tr><tr><td>&quot;PRAA&quot;</td><td>0.071964</td></tr><tr><td>&quot;SPDW&quot;</td><td>0.03975</td></tr><tr><td>&hellip;</td><td>&hellip;</td></tr><tr><td>&quot;EFZ&quot;</td><td>-0.04076</td></tr><tr><td>&quot;QLD&quot;</td><td>0.138922</td></tr><tr><td>&quot;EBSB&quot;</td><td>-0.012077</td></tr><tr><td>&quot;EPV&quot;</td><td>-0.093465</td></tr><tr><td>&quot;GBX&quot;</td><td>-0.070436</td></tr></tbody></table></div>"
      ],
      "text/plain": [
       "shape: (4_225, 2)\n",
       "┌────────┬───────────────┐\n",
       "│ symbol ┆ monthy_return │\n",
       "│ ---    ┆ ---           │\n",
       "│ str    ┆ f64           │\n",
       "╞════════╪═══════════════╡\n",
       "│ EFAV   ┆ 0.027694      │\n",
       "│ IEO    ┆ 0.008178      │\n",
       "│ IJK    ┆ 0.032184      │\n",
       "│ PRAA   ┆ 0.071964      │\n",
       "│ SPDW   ┆ 0.03975       │\n",
       "│ …      ┆ …             │\n",
       "│ EFZ    ┆ -0.04076      │\n",
       "│ QLD    ┆ 0.138922      │\n",
       "│ EBSB   ┆ -0.012077     │\n",
       "│ EPV    ┆ -0.093465     │\n",
       "│ GBX    ┆ -0.070436     │\n",
       "└────────┴───────────────┘"
      ]
     },
     "execution_count": null,
     "metadata": {},
     "output_type": "execute_result"
    }
   ],
   "source": [
    "(\n",
    "df_upx.group_by(\"symbol\")\n",
    "    .agg(\n",
    "        monthy_return = (1 + pl.col(\"return\")).product() - 1    \n",
    "    )\n",
    ")"
   ]
  },
  {
   "cell_type": "markdown",
   "id": "5d4f4cd8-aa3d-4be9-9234-e95bdee9431a",
   "metadata": {},
   "source": [
    "## Exporting Data"
   ]
  },
  {
   "cell_type": "markdown",
   "id": "4c00059b-6fee-46ec-a73d-fb7eefdff394",
   "metadata": {},
   "source": [
    "Exporting a `DataFrame` is quite straight forward and **polars** supports many different file formats.  Below we demonstrate exporting to a parquet file.  The parquet file is superior to CSVs in many ways, especially for large data sets.  For example, notice how much smaller the parquet file is than the combination of all the CSVs.  Import parqueting files is also much faster."
   ]
  },
  {
   "cell_type": "code",
   "execution_count": null,
   "id": "ad0e2be0-5b07-40f0-bbb0-7749f5a81278",
   "metadata": {},
   "outputs": [],
   "source": [
    "df_delta_neutral.write_parquet(\"delta_neutral.parquet\")"
   ]
  },
  {
   "cell_type": "markdown",
   "id": "85c9167d-ef1e-4666-aec8-2975a48c822e",
   "metadata": {},
   "source": [
    "## OLD CODE"
   ]
  },
  {
   "cell_type": "code",
   "execution_count": null,
   "id": "ea0fc50c-9530-440b-9233-1dfeade91c1a",
   "metadata": {},
   "outputs": [],
   "source": [
    "# df_upx.with_columns(\n",
    "#     quotedate = pl.col(\"quotedate\").str.to_date(format=\"%m/%d/%Y\"),\n",
    "# ).drop(\n",
    "#     [\"open\", \"high\", \"low\", \"volume\", \"adjustedclose\"]\n",
    "# ).sort(\n",
    "#     [\"symbol\", \"quotedate\"]\n",
    "# ).group_by(\"symbol\").agg(pl.col(\"close\").pct_change())"
   ]
  },
  {
   "cell_type": "code",
   "execution_count": null,
   "id": "d8e70e20-3884-40b3-ad33-55e4dbe87f03",
   "metadata": {},
   "outputs": [],
   "source": [
    "#df.info()"
   ]
  },
  {
   "cell_type": "code",
   "execution_count": null,
   "id": "70a00380-1a6c-4cd5-8e64-2d0a0632b44d",
   "metadata": {},
   "outputs": [],
   "source": [
    "#df_delta_neutral.glimpse()\n",
    "#df.memory_usage(deep=True).sum() "
   ]
  },
  {
   "cell_type": "code",
   "execution_count": null,
   "id": "23285401-259d-43e8-a1cd-473bfbb7b9fa",
   "metadata": {},
   "outputs": [],
   "source": [
    "# import sys\n",
    "# sys.getsizeof(df_delta_neutral)"
   ]
  },
  {
   "cell_type": "code",
   "execution_count": null,
   "id": "bc33432a-9dac-4f1e-8b2b-b3164c386ef6",
   "metadata": {},
   "outputs": [],
   "source": [
    "# %%time\n",
    "# import polars as pl\n",
    "# df_delta_neutral = pl.read_parquet(\"data/delta_neutral.parquet\")"
   ]
  }
 ],
 "metadata": {
  "kernelspec": {
   "display_name": "python3",
   "language": "python",
   "name": "python3"
  }
 },
 "nbformat": 4,
 "nbformat_minor": 5
}
