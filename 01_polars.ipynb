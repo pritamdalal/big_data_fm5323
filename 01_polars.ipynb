{
 "cells": [
  {
   "cell_type": "code",
   "execution_count": null,
   "id": "edf2af90-361f-47ac-9a32-a1c063425284",
   "metadata": {},
   "outputs": [],
   "source": [
    "import polars as pl"
   ]
  },
  {
   "cell_type": "markdown",
   "id": "a2b97abb-fc90-4f48-805e-fa08b407cf07",
   "metadata": {},
   "source": [
    "We can easily"
   ]
  },
  {
   "cell_type": "code",
   "execution_count": null,
   "id": "15d89868-8eda-4339-8be4-c3909cbe5552",
   "metadata": {},
   "outputs": [],
   "source": [
    "%%time\n",
    "df_dn_polars = pl.read_csv(\"data/L3_2018_01/L3_options_*.csv\")"
   ]
  },
  {
   "cell_type": "code",
   "execution_count": null,
   "id": "88b1ca6b-8464-4cc0-acd4-5ea0fd03eb7b",
   "metadata": {},
   "outputs": [],
   "source": [
    "df_dn_polars"
   ]
  },
  {
   "cell_type": "raw",
   "id": "8d5fba25-f291-4e2b-a5c4-15e947daefcc",
   "metadata": {},
   "source": [
    "%%time\n",
    "import pandas as pd\n",
    "import glob\n",
    "\n",
    "files = glob.glob(\"data/L3_2018_01/L3_options_*.csv\")\n",
    "df = pd.DataFrame()\n",
    "for ix_file in files:\n",
    "    df = pd.concat([df, pd.read_csv(ix_file)]).reset_index(drop=True)"
   ]
  },
  {
   "cell_type": "code",
   "execution_count": null,
   "id": "d667ca71-87e5-41fb-8cd4-163a45fb71cd",
   "metadata": {},
   "outputs": [],
   "source": []
  },
  {
   "cell_type": "code",
   "execution_count": null,
   "id": "ff31e3ec-2f66-4cc9-8cbd-7e6f1a2e5d2f",
   "metadata": {},
   "outputs": [],
   "source": [
    "#pandas = pd.concat(lst_df).reset_index()"
   ]
  },
  {
   "cell_type": "code",
   "execution_count": null,
   "id": "d8e70e20-3884-40b3-ad33-55e4dbe87f03",
   "metadata": {},
   "outputs": [
    {
     "name": "stdout",
     "output_type": "stream",
     "text": [
      "<class 'pandas.core.frame.DataFrame'>\n",
      "RangeIndex: 17675339 entries, 0 to 17675338\n",
      "Data columns (total 22 columns):\n",
      " #   Column            Dtype  \n",
      "---  ------            -----  \n",
      " 0   UnderlyingSymbol  object \n",
      " 1   UnderlyingPrice   float64\n",
      " 2   Flags             object \n",
      " 3   OptionSymbol      object \n",
      " 4   Type              object \n",
      " 5   Expiration        object \n",
      " 6    DataDate         object \n",
      " 7   Strike            float64\n",
      " 8   Last              float64\n",
      " 9   Bid               float64\n",
      " 10  Ask               float64\n",
      " 11  Volume            int64  \n",
      " 12  OpenInterest      int64  \n",
      " 13  T1OpenInterest    int64  \n",
      " 14  IVMean            float64\n",
      " 15  IVBid             float64\n",
      " 16  IVAsk             float64\n",
      " 17  Delta             float64\n",
      " 18  Gamma             float64\n",
      " 19  Theta             float64\n",
      " 20  Vega              float64\n",
      " 21  AKA               object \n",
      "dtypes: float64(12), int64(3), object(7)\n",
      "memory usage: 2.9+ GB\n"
     ]
    }
   ],
   "source": [
    "df.info()"
   ]
  },
  {
   "cell_type": "code",
   "execution_count": null,
   "id": "70a00380-1a6c-4cd5-8e64-2d0a0632b44d",
   "metadata": {},
   "outputs": [
    {
     "data": {
      "text/plain": [
       "10314004476"
      ]
     },
     "execution_count": null,
     "metadata": {},
     "output_type": "execute_result"
    }
   ],
   "source": [
    "#df_delta_neutral.glimpse()\n",
    "df.memory_usage(deep=True).sum() "
   ]
  },
  {
   "cell_type": "code",
   "execution_count": null,
   "id": "23285401-259d-43e8-a1cd-473bfbb7b9fa",
   "metadata": {},
   "outputs": [
    {
     "data": {
      "text/plain": [
       "10314004492"
      ]
     },
     "execution_count": null,
     "metadata": {},
     "output_type": "execute_result"
    }
   ],
   "source": [
    "import sys\n",
    "sys.getsizeof(df)"
   ]
  },
  {
   "cell_type": "code",
   "execution_count": null,
   "id": "8ad9a0e6-04c1-492a-83ad-b7eec338a18c",
   "metadata": {},
   "outputs": [],
   "source": [
    "df_delta_neutral.estimated_size(\"gb\")"
   ]
  },
  {
   "cell_type": "code",
   "execution_count": null,
   "id": "b2b9d1af-f4b9-4e72-b46b-179a9c877350",
   "metadata": {},
   "outputs": [],
   "source": [
    "#pd.read_csv(\"data/L3_2018_01/L3_options_*.csv\")"
   ]
  },
  {
   "cell_type": "code",
   "execution_count": null,
   "id": "27eb3875-ff93-4847-b3b7-fede42cb5106",
   "metadata": {},
   "outputs": [],
   "source": [
    "df_universe = pl.read_csv(\"data/universe_symbols.csv\")\n",
    "df_universe"
   ]
  },
  {
   "cell_type": "code",
   "execution_count": null,
   "id": "bc33432a-9dac-4f1e-8b2b-b3164c386ef6",
   "metadata": {},
   "outputs": [],
   "source": []
  }
 ],
 "metadata": {
  "kernelspec": {
   "display_name": "python3",
   "language": "python",
   "name": "python3"
  }
 },
 "nbformat": 4,
 "nbformat_minor": 5
}
