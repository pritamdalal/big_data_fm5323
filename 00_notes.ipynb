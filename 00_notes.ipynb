{
 "cells": [
  {
   "cell_type": "markdown",
   "id": "d5779ae9-fe1a-44d8-bd1e-c931ec5daa6a",
   "metadata": {},
   "source": [
    "# Big(ger) Data Notes"
   ]
  },
  {
   "cell_type": "markdown",
   "id": "752a9027-f5d8-4c33-a7b4-a254f926d23c",
   "metadata": {},
   "source": [
    "In this class, we have been working with small data sets - the largest have been 100MB-1.5GB.  These data sets can be stored in CSV files, loaded into memory in their entirety, and then manipulated in **pandas**.  Data sets that you encounter in practice will not be much larger, and you'll have to work with alternative technology to handle them."
   ]
  },
  {
   "cell_type": "markdown",
   "id": "1b70bff4-a630-4918-acf0-fc97bcd38ecb",
   "metadata": {},
   "source": [
    "## Relational Databases"
   ]
  },
  {
   "cell_type": "markdown",
   "id": "100fad9b-1ffc-41f2-8e37-cd064f620bf5",
   "metadata": {},
   "source": [
    "Relational databases are the most popular way to store rectangular (i.e. structured data).  A relational database is a type of database that organizes data into tables with rows and columns, where each row represents a record and each column represents an attribute, allowing for defined relationships between different data points, making it easy to access and manipulate related information efficiently.\n",
    "\n",
    "Relational databases are the standard database backend for many applications such as general web applications and position management systems.\n",
    "\n",
    "Common examples of relational databases are:\n",
    "1. Postgres\n",
    "2. MySQL\n",
    "3. Microsoft SQL Server\n",
    "4. Oracle\n",
    "5. SQLite"
   ]
  },
  {
   "cell_type": "markdown",
   "id": "f61ea999-ffde-4618-92bc-c200a9bd4e7f",
   "metadata": {},
   "source": [
    "## Columnar Databases and Data Formats"
   ]
  },
  {
   "cell_type": "markdown",
   "id": "88388f74-a8d7-4c23-b675-c97d769fb8fd",
   "metadata": {},
   "source": [
    "Traditional relational database management systems, such as Postgres and MySQL, are row oriented.  This means that the rows of data are stored close together in memory.  This is ideal for transactional (OLTP) databases: think banking or credit card transactions.  Columnar databases are column oriented, meaning that the columns of data are stored close together in memory.  This is ideal for analytical querying: think data science, machine learning, time-series analysis.\n",
    "\n",
    "1. Examples of columnar databases.\n",
    "    - DuckDb\n",
    "    - AWS Redshift\n",
    "    - Kdb\n",
    "3. Examples of columnar data storage formats:\n",
    "    - Apache Parquet\n",
    "    - Apache ORC\n",
    "4. Apache Arrow\n",
    "    - A project supported by the Apache Sofware foundation.\n",
    "    - Apache Arrow defines a language-independent columnar memory format for flat and hierarchical data, organized for efficient analytic operations on modern hardware like CPUs and GPUs.\n",
    "    - Polars, Apache Spark, and Apache Parquet are all based on the the Arrow data model."
   ]
  },
  {
   "cell_type": "markdown",
   "id": "8a12818f-4ef6-48cc-8e82-4c5558a0c3bf",
   "metadata": {},
   "source": [
    "## SQLite"
   ]
  },
  {
   "cell_type": "markdown",
   "id": "59802a87-1c84-47ca-947e-0cfaf707fe04",
   "metadata": {},
   "source": [
    "SQLite is a C-language library that implements a small, fast, self-contained, high-reliability, full-featured, SQL database engine;  it is an in-process library that implements a self-contained, serverless, zero-configuration, transactional SQL database engine.\n",
    "\n",
    "Unlike most other SQL databases, SQLite does not have a separate server process. SQLite reads and writes directly to ordinary disk files. A complete SQL database with multiple tables, indices, triggers, and views, is contained in a single disk file.\n",
    "\n",
    "There are over 1 trillion (1e12) SQLite databases in active use."
   ]
  },
  {
   "cell_type": "markdown",
   "id": "c3fea7a6-d273-498e-841d-581830f0425d",
   "metadata": {},
   "source": [
    "## Polars"
   ]
  },
  {
   "cell_type": "markdown",
   "id": "79ab13f9-f355-4c85-84b1-6030d2fdadcc",
   "metadata": {},
   "source": [
    "Polars is a `DataFrame` library written in Rust; it has a Python API via the **polars** package.  Polars is relatively new and is gaining ground on **pandas** due to its ability to handle larger data and it's expressive syntax.  Polars uses the Apache Arrow data model."
   ]
  },
  {
   "cell_type": "markdown",
   "id": "7f6dcdba-ea62-4f36-b6af-7a816d5ea9dc",
   "metadata": {},
   "source": [
    "## DuckDb"
   ]
  },
  {
   "cell_type": "markdown",
   "id": "7eb14ce9-864c-4f89-9dcb-93b5946a0ca8",
   "metadata": {},
   "source": [
    "DuckDb is an in-process OLAP database that is built in C++.  It uses a columnar data model.  You can think of it as the SQLite for data analytics."
   ]
  },
  {
   "cell_type": "markdown",
   "id": "159ad10b-c488-4808-ad6d-a7742ec4184d",
   "metadata": {},
   "source": [
    "## Spark"
   ]
  },
  {
   "cell_type": "markdown",
   "id": "133dd1d4-f188-4fd1-a8d3-0c0fe67050a5",
   "metadata": {},
   "source": [
    "Apache Spark is an open-source unified analytics engine for large-scale data processing. It has its architectural foundation in the resilient distributed dataset (RDD), a read-only multiset of data items distributed over a cluster of machines.  It has an associated machine learning library called MLlib."
   ]
  }
 ],
 "metadata": {
  "kernelspec": {
   "display_name": "python3",
   "language": "python",
   "name": "python3"
  }
 },
 "nbformat": 4,
 "nbformat_minor": 5
}
