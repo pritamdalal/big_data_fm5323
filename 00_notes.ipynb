{
 "cells": [
  {
   "cell_type": "markdown",
   "id": "212e2f9b-59bd-470d-aeec-672685cca44c",
   "metadata": {},
   "source": [
    "1. Parquet files - columnar data\n",
    "2. Columnar data formats\n",
    "3. Polars\n",
    "    - Polars is a DataFrames library built in Rust with bindings for Python and Node.js. It uses Apache Arrow's columnar format as its memory model.\n",
    "5. DuckDb\n",
    "6. SQLite\n",
    "7. Apache Arrow\n",
    "8. Apache Software Foundation"
   ]
  },
  {
   "cell_type": "code",
   "execution_count": null,
   "id": "bf2e2b8a-01d9-4ad7-8e3a-c96a84038009",
   "metadata": {},
   "outputs": [],
   "source": []
  }
 ],
 "metadata": {
  "kernelspec": {
   "display_name": "",
   "name": ""
  }
 },
 "nbformat": 4,
 "nbformat_minor": 5
}
