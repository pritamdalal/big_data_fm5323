{
 "cells": [
  {
   "cell_type": "markdown",
   "id": "212e2f9b-59bd-470d-aeec-672685cca44c",
   "metadata": {},
   "source": [
    "1. Parquet files - columnar data\n",
    "2. Columnar data formats\n",
    "3. Polars\n",
    "    - Polars is a DataFrames library built in Rust with bindings for Python and Node.js. It uses Apache Arrow's columnar format as its memory model.\n",
    "5. DuckDb\n",
    "    - OLAP vs OLTP: former is better for analytical queries, akin to what we require in data science and quantitative finance\n",
    "    - Analytical reimagining of SQLite\n",
    "7. SQLite\n",
    "    - OLTP in nature.\n",
    "9. Apache Arrow\n",
    "10. Apache Software Foundation"
   ]
  },
  {
   "cell_type": "code",
   "execution_count": null,
   "id": "bf2e2b8a-01d9-4ad7-8e3a-c96a84038009",
   "metadata": {},
   "outputs": [],
   "source": []
  }
 ],
 "metadata": {
  "kernelspec": {
   "display_name": "python3",
   "language": "python",
   "name": "python3"
  }
 },
 "nbformat": 4,
 "nbformat_minor": 5
}
